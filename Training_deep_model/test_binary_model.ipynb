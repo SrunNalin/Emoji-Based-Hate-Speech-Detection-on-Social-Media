{
  "cells": [
    {
      "attachments": {},
      "cell_type": "markdown",
      "metadata": {},
      "source": [
        "## Prediction on CNN and LSTM Bidirectional Model"
      ]
    },
    {
      "cell_type": "code",
      "execution_count": 2,
      "metadata": {
        "id": "hzruN3ENdAWI"
      },
      "outputs": [],
      "source": [
        "import pandas as pd\n",
        "import numpy as np\n",
        "from tensorflow import keras\n",
        "from tqdm import tqdm\n",
        "import nltk"
      ]
    },
    {
      "cell_type": "code",
      "execution_count": 4,
      "metadata": {},
      "outputs": [],
      "source": [
        "df_train = pd.concat([pd.read_csv(\"../Dataset/Kirk_Dataset/train.csv\"), pd.read_csv(\"../Dataset/Kirk_Dataset/validation.csv\"),pd.read_csv(\"../Dataset/Kirk_Dataset/test.csv\")])\n",
        "df_train = df_train.reset_index(drop=True)\n",
        "df_test = pd.read_csv(\"../Dataset/Annotate_Dataset/comments_annotated.csv\")"
      ]
    },
    {
      "cell_type": "code",
      "execution_count": 5,
      "metadata": {
        "id": "SdUCx57PdXGx"
      },
      "outputs": [],
      "source": [
        "# extract X and Y for training from Krik dataset\n",
        "X_train = df_train[\"text\"]\n",
        "Y_train = df_train[\"label_gold\"]"
      ]
    },
    {
      "cell_type": "code",
      "execution_count": 6,
      "metadata": {
        "id": "75zOQr1GET7b"
      },
      "outputs": [],
      "source": [
        "# convert label in test set to index (Hated==1 and Non-Hated==0)\n",
        "Y_test = []\n",
        "X_test = df_test[\"Comment\"]\n",
        "for i in df_test[\"Tag_Nalin\"]:\n",
        "  if i == \"Hated\":\n",
        "    Y_test.append(1)\n",
        "  else:\n",
        "    Y_test.append(0)"
      ]
    },
    {
      "cell_type": "code",
      "execution_count": 7,
      "metadata": {
        "colab": {
          "base_uri": "https://localhost:8080/"
        },
        "id": "rif8lLcadZWr",
        "outputId": "9c21d99f-e2a5-4da2-b7b0-ce3d9d87de81"
      },
      "outputs": [
        {
          "name": "stderr",
          "output_type": "stream",
          "text": [
            "[nltk_data] Downloading package punkt to /Users/srunnalin/nltk_data...\n",
            "[nltk_data]   Package punkt is already up-to-date!\n"
          ]
        },
        {
          "data": {
            "text/plain": [
              "True"
            ]
          },
          "execution_count": 7,
          "metadata": {},
          "output_type": "execute_result"
        }
      ],
      "source": [
        "nltk.download('punkt')"
      ]
    },
    {
      "cell_type": "code",
      "execution_count": 8,
      "metadata": {
        "id": "AQdq1KagdcK3"
      },
      "outputs": [],
      "source": [
        "# apply word tokenize using nltk\n",
        "import collections\n",
        "from nltk import word_tokenize\n",
        "token2int = collections.defaultdict(lambda: len(token2int)+1)\n",
        "tokenized_X_train = [word_tokenize(text) for text in X_train]\n",
        "tokenized_X_test = [word_tokenize(text) for text in X_test]\n",
        "int_X_train = [[token2int[token.lower()] for token in text] for text in tokenized_X_train]\n",
        "int_X_test = [[token2int[token.lower()] for token in text] for text in tokenized_X_test]\n",
        "# ##"
      ]
    },
    {
      "cell_type": "code",
      "execution_count": 9,
      "metadata": {},
      "outputs": [
        {
          "data": {
            "text/plain": [
              "6220"
            ]
          },
          "execution_count": 9,
          "metadata": {},
          "output_type": "execute_result"
        }
      ],
      "source": [
        "len(token2int)"
      ]
    },
    {
      "cell_type": "code",
      "execution_count": 10,
      "metadata": {
        "colab": {
          "base_uri": "https://localhost:8080/"
        },
        "id": "Ew3DSN_hded1",
        "outputId": "72953f5e-1d7b-4441-9c60-0f39de17cf10"
      },
      "outputs": [
        {
          "name": "stdout",
          "output_type": "stream",
          "text": [
            "The Vocabulary size is: 6220\n",
            "The maximum text length: 55\n"
          ]
        }
      ],
      "source": [
        "int2token = dict()\n",
        "for key, value in token2int.items():\n",
        "    int2token[value] = key\n",
        "\n",
        "## Vocabulary Size:\n",
        "print(\"The Vocabulary size is:\",len(token2int))\n",
        "\n",
        "## Maximum text length\n",
        "X_train_lengths = [len(text) for text in tokenized_X_train]\n",
        "X_test_lengths = [len(text) for text in tokenized_X_test]\n",
        "print(\"The maximum text length:\", max(X_train_lengths))"
      ]
    },
    {
      "cell_type": "code",
      "execution_count": 11,
      "metadata": {
        "id": "AAih6YQBdg5B"
      },
      "outputs": [
        {
          "name": "stderr",
          "output_type": "stream",
          "text": [
            "/Library/Frameworks/Python.framework/Versions/3.8/lib/python3.8/site-packages/tqdm/auto.py:22: TqdmWarning: IProgress not found. Please update jupyter and ipywidgets. See https://ipywidgets.readthedocs.io/en/stable/user_install.html\n",
            "  from .autonotebook import tqdm as notebook_tqdm\n"
          ]
        }
      ],
      "source": [
        "import torch\n",
        "import torch.nn as nn\n",
        "import torch.nn.functional as F\n",
        "import torch.optim as optim"
      ]
    },
    {
      "cell_type": "code",
      "execution_count": 12,
      "metadata": {},
      "outputs": [
        {
          "name": "stdout",
          "output_type": "stream",
          "text": [
            "torch.Size([5908, 55])\n",
            "torch.Size([5908])\n",
            "torch.Size([200, 55])\n",
            "torch.Size([200])\n"
          ]
        }
      ],
      "source": [
        "# convert dataset to tensor\n",
        "max_len = 55\n",
        "\n",
        "X_train = torch.zeros(len(X_train), max_len, dtype=torch.long)\n",
        "\n",
        "for i, int_text in enumerate(int_X_train):\n",
        "    if len(int_text) < max_len:\n",
        "        int_text = int_text + [len(token2int)] * (max_len - len(int_text))\n",
        "\n",
        "    X_train[i] = torch.LongTensor(int_text[:max_len])\n",
        "\n",
        "\n",
        "Y_train = torch.LongTensor(Y_train)\n",
        "\n",
        "print(X_train.size())\n",
        "print(Y_train.size())\n",
        "\n",
        "X_test = torch.zeros(len(X_test), max_len, dtype=torch.long)\n",
        "\n",
        "for i, int_text in enumerate(int_X_test):\n",
        "    if len(int_text) < max_len:\n",
        "        int_text = int_text + [len(token2int)] * (max_len - len(int_text))\n",
        "\n",
        "    X_test[i] = torch.LongTensor(int_text[:max_len])\n",
        "\n",
        "\n",
        "Y_test = torch.LongTensor(Y_test)\n",
        "\n",
        "\n",
        "print(X_test.size())\n",
        "print(Y_test.size())"
      ]
    },
    {
      "cell_type": "code",
      "execution_count": 13,
      "metadata": {},
      "outputs": [],
      "source": [
        "device = torch.device(\"cuda:0\" if torch.cuda.is_available() else \"cpu\")"
      ]
    },
    {
      "cell_type": "code",
      "execution_count": 40,
      "metadata": {},
      "outputs": [
        {
          "name": "stderr",
          "output_type": "stream",
          "text": [
            "Warning : `load_model` does not return WordVectorModel or SupervisedModel any more, but a `FastText` object which is very similar.\n"
          ]
        }
      ],
      "source": [
        "import fasttext\n",
        "import fasttext.util\n",
        "# Load pre-trained FastText word embeddings\n",
        "pretrained_embeddings = fasttext.load_model('../Model/fasttext/cc.en.50.bin')\n",
        "\n",
        "# Create the embedding matrix\n",
        "embeddings = torch.zeros(len(token2int), 50).to(device)\n",
        "for token, idx in token2int.items():\n",
        "    if token in pretrained_embeddings.words:\n",
        "      embeddings[idx] = torch.tensor(pretrained_embeddings[token])\n",
        "\n",
        "# Check for out-of-vocabulary tokens and assign random embeddings\n",
        "for token, idx in token2int.items():\n",
        "    if idx >= len(embeddings):\n",
        "        if token != '':\n",
        "          new_embedding = torch.rand(1, 50).to(device)\n",
        "          embeddings = torch.cat([embeddings, new_embedding])"
      ]
    },
    {
      "cell_type": "code",
      "execution_count": 41,
      "metadata": {
        "colab": {
          "base_uri": "https://localhost:8080/"
        },
        "id": "rbP9PHxqtM0F",
        "outputId": "9062a346-edd0-40cc-f7e5-5870e0c74337"
      },
      "outputs": [],
      "source": [
        "# CNN Model\n",
        "import torch.nn.functional as F\n",
        "import fasttext\n",
        "import fasttext.util\n",
        "class CNN(nn.Module):\n",
        "    def __init__(self, vocab_size, embed_size, hidden_size, num_classes, pretrained_embeddings):\n",
        "        super().__init__()\n",
        "        self.embed = nn.Embedding.from_pretrained(pretrained_embeddings)\n",
        "        self.conv1 = nn.Conv1d(embed_size, hidden_size, kernel_size=2)\n",
        "        self.dropout = nn.Dropout(.3)\n",
        "        self.decision = nn.Linear(hidden_size, num_classes)\n",
        "\n",
        "\n",
        "    def forward(self, x):\n",
        "        embed = self.embed(x)\n",
        "        conv1 = F.relu(self.conv1(embed.transpose(1,2)))\n",
        "        pool = F.max_pool1d(conv1, conv1.size(2))\n",
        "        drop = self.dropout(pool)\n",
        "        return self.decision(drop.view(x.size(0), -1))\n",
        "    \n",
        "cnn_model = CNN(vocab_size = len(token2int), embed_size =50, \n",
        "                hidden_size = 32, num_classes=len(X_train.unique()),  pretrained_embeddings=embeddings)\n",
        "# Set the embedding layer to non-trainable\n",
        "cnn_model.embed.weight.requires_grad = False"
      ]
    },
    {
      "cell_type": "code",
      "execution_count": 22,
      "metadata": {},
      "outputs": [],
      "source": [
        "# LSTM Model\n",
        "class RNN(nn.Module):\n",
        "    def __init__(self, vocab_size, embed_size, hidden_size, num_classes,  pretrained_embeddings):\n",
        "        super().__init__()\n",
        "        \n",
        "        self.embed = nn.Embedding.from_pretrained(pretrained_embeddings)\n",
        "        \n",
        "        self.rnn = nn.LSTM(embed_size, hidden_size, num_layers=2, bidirectional=True, batch_first=True)  # Replaced nn.GRU with nn.LSTM\n",
        "        \n",
        "        self.dropout = nn.Dropout(0.3)\n",
        "        \n",
        "        self.decision = nn.Linear(hidden_size, num_classes)\n",
        "         \n",
        "    def forward(self, x):\n",
        "        x = x.to(device)\n",
        "        embed = self.embed(x)\n",
        "        \n",
        "        output, (hidden, _) = self.rnn(embed)  # Unpack both hidden and cell state from LSTM\n",
        "        \n",
        "        drop = self.dropout(hidden[-1])  # Only consider the final hidden state\n",
        "        \n",
        "        return self.decision(drop.view(x.size(0), -1))\n",
        "\n",
        "\n",
        "lstm_model = RNN(vocab_size=len(token2int) + 1, embed_size=32, hidden_size=64, num_classes=len(Y_train.unique()),  pretrained_embeddings=embeddings)\n",
        "lstm_model.to(device)\n",
        "    # Set the embedding layer to non-trainable\n",
        "lstm_model.embed.weight.requires_grad = False"
      ]
    },
    {
      "attachments": {},
      "cell_type": "markdown",
      "metadata": {},
      "source": [
        "## Load Model and Make Prediction"
      ]
    },
    {
      "cell_type": "code",
      "execution_count": 42,
      "metadata": {},
      "outputs": [
        {
          "data": {
            "text/plain": [
              "CNN(\n",
              "  (embed): Embedding(6221, 50)\n",
              "  (conv1): Conv1d(50, 32, kernel_size=(2,), stride=(1,))\n",
              "  (dropout): Dropout(p=0.3, inplace=False)\n",
              "  (decision): Linear(in_features=32, out_features=5854, bias=True)\n",
              ")"
            ]
          },
          "execution_count": 42,
          "metadata": {},
          "output_type": "execute_result"
        }
      ],
      "source": [
        "## CNN model\n",
        "import torch\n",
        "\n",
        "# Load model\n",
        "state_dict = torch.load(\"../Model/deep_model/cnn_1lay_50emb_32hidd_63acc.pt\")\n",
        "\n",
        "# Load the state into the model\n",
        "cnn_model.load_state_dict(state_dict)\n",
        "\n",
        "# Set the model to evaluation mode\n",
        "cnn_model.eval()"
      ]
    },
    {
      "cell_type": "code",
      "execution_count": 26,
      "metadata": {},
      "outputs": [
        {
          "data": {
            "text/plain": [
              "RNN(\n",
              "  (embed): Embedding(6221, 32)\n",
              "  (rnn): LSTM(32, 64, num_layers=2, batch_first=True, bidirectional=True)\n",
              "  (dropout): Dropout(p=0.3, inplace=False)\n",
              "  (decision): Linear(in_features=64, out_features=2, bias=True)\n",
              ")"
            ]
          },
          "execution_count": 26,
          "metadata": {},
          "output_type": "execute_result"
        }
      ],
      "source": [
        "## LSTM model\n",
        "import torch\n",
        "\n",
        "# Load model\n",
        "state_dict = torch.load(\"../Model/deep_model/lstm_2lay_32emb_64hidd_65acc.pt\", map_location=torch.device('cpu'))\n",
        "\n",
        "# Load the state into the model\n",
        "lstm_model.load_state_dict(state_dict)\n",
        "\n",
        "# Set the model to evaluation mode\n",
        "lstm_model.eval()"
      ]
    },
    {
      "cell_type": "code",
      "execution_count": 43,
      "metadata": {},
      "outputs": [
        {
          "data": {
            "text/plain": [
              "['When', 'they', 'REALLY', 'want', 'you', 'to', 'advertise']"
            ]
          },
          "execution_count": 43,
          "metadata": {},
          "output_type": "execute_result"
        }
      ],
      "source": [
        "from nltk import word_tokenize\n",
        "sentence = \"When they REALLY want you to advertise\"\n",
        "# Tokenize the new sentence\n",
        "tokenized_new_sentence = word_tokenize(sentence)\n",
        "\n",
        "# Apply tokenization using existing integer tokens\n",
        "int_tokens = []\n",
        "int_X_eval = []\n",
        "for token in tokenized_new_sentence:\n",
        "    if token.lower() in token2int:\n",
        "        int_tokens.append(token2int[token.lower()])\n",
        "    else:\n",
        "        # Handle out-of-vocabulary (OOV) tokens\n",
        "        int_tokens.append(0)  # You can assign a specific integer token for OOV tokens\n",
        "int_X_eval.append(int_tokens)\n",
        "int_X_eval\n",
        "tokenized_new_sentence"
      ]
    },
    {
      "cell_type": "code",
      "execution_count": 44,
      "metadata": {},
      "outputs": [],
      "source": [
        "# convert dataset to tensor\n",
        "max_len = 55\n",
        "\n",
        "X_eval = torch.zeros(1, max_len, dtype=torch.long)\n",
        "\n",
        "for i, int_text in enumerate(int_X_eval):\n",
        "    if len(int_text) < max_len:\n",
        "        int_text = int_text + [len(token2int)] * (max_len - len(int_text))\n",
        "\n",
        "    X_eval[i] = torch.LongTensor(int_text[:max_len])\n"
      ]
    },
    {
      "cell_type": "code",
      "execution_count": 45,
      "metadata": {},
      "outputs": [
        {
          "name": "stdout",
          "output_type": "stream",
          "text": [
            "The Sentence is : When they REALLY want you to advertise\n",
            "The Prediction is : tensor([0])\n"
          ]
        }
      ],
      "source": [
        "## Test CNN model\n",
        "print(\"The Sentence is :\", sentence)\n",
        "with torch.no_grad():\n",
        "  y_scores = cnn_model(X_eval)\n",
        "\n",
        "  y_pred = torch.max(y_scores, 1)[1]\n",
        "  print(\"The Prediction is :\", y_pred)"
      ]
    },
    {
      "cell_type": "code",
      "execution_count": 39,
      "metadata": {},
      "outputs": [
        {
          "name": "stdout",
          "output_type": "stream",
          "text": [
            "The Sentence is : When they REALLY want you to advertise\n",
            "The Prediction is : tensor([0])\n"
          ]
        }
      ],
      "source": [
        "## Test LSTM model\n",
        "print(\"The Sentence is :\", sentence)\n",
        "with torch.no_grad():\n",
        "  y_scores = lstm_model(X_eval)\n",
        "\n",
        "  y_pred = torch.max(y_scores, 1)[1]\n",
        "  print(\"The Prediction is :\", y_pred)"
      ]
    },
    {
      "cell_type": "code",
      "execution_count": 185,
      "metadata": {},
      "outputs": [
        {
          "name": "stdout",
          "output_type": "stream",
          "text": [
            "The Sentence is : When they REALLY don't want you to advertise 😂😂😂\n",
            "The Prediction is : tensor([0])\n",
            "Token with the highest weight: Unknown Token\n"
          ]
        }
      ],
      "source": [
        "## Test CNN model\n",
        "print(\"The Sentence is :\", sentence)\n",
        "with torch.no_grad():\n",
        "  y_scores = cnn_model(X_eval)\n",
        "\n",
        "  y_pred = torch.max(y_scores, 1)[1]\n",
        "  print(\"The Prediction is :\", y_pred)\n",
        "# Find the index of the token with the highest weight\n",
        "  max_weight_index = torch.argmax(y_scores)\n",
        "\n",
        "  # Check if the index is present in the token2int dictionary\n",
        "  if max_weight_index.item() in token2int.values():\n",
        "      # Retrieve the corresponding token from token2int\n",
        "      max_weight_token = list(token2int.keys())[list(token2int.values()).index(max_weight_index)]\n",
        "  else:\n",
        "      max_weight_token = \"Unknown Token\"\n",
        "\n",
        "# Print the token with the highest weight\n",
        "print(\"Token with the highest weight:\", max_weight_token)"
      ]
    }
  ],
  "metadata": {
    "accelerator": "GPU",
    "colab": {
      "gpuType": "T4",
      "provenance": []
    },
    "kernelspec": {
      "display_name": "Python 3",
      "name": "python3"
    },
    "language_info": {
      "codemirror_mode": {
        "name": "ipython",
        "version": 3
      },
      "file_extension": ".py",
      "mimetype": "text/x-python",
      "name": "python",
      "nbconvert_exporter": "python",
      "pygments_lexer": "ipython3",
      "version": "3.8.5"
    }
  },
  "nbformat": 4,
  "nbformat_minor": 0
}

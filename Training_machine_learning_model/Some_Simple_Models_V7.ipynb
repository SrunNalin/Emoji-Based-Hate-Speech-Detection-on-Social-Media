{
 "cells": [
  {
   "attachments": {},
   "cell_type": "markdown",
   "metadata": {},
   "source": [
    "# Some Machine Learning Models"
   ]
  },
  {
   "cell_type": "code",
   "execution_count": 1,
   "metadata": {},
   "outputs": [],
   "source": [
    "import numpy as np\n",
    "import pandas as pd\n",
    "import lightgbm as lgb\n",
    "import emoji\n",
    "import spacy\n",
    "import fasttext\n",
    "from sklearn.feature_extraction.text import TfidfVectorizer\n",
    "from sklearn.feature_extraction.text import HashingVectorizer\n",
    "from sklearn.model_selection import GridSearchCV\n",
    "from sklearn.linear_model import LogisticRegression\n",
    "from sklearn.linear_model import SGDClassifier\n",
    "from sklearn.tree import DecisionTreeClassifier\n",
    "from sklearn.ensemble import RandomForestClassifier\n",
    "from sklearn.naive_bayes import BernoulliNB\n",
    "from sklearn.naive_bayes import MultinomialNB\n",
    "from sklearn.neural_network import MLPClassifier\n",
    "from sklearn import preprocessing\n",
    "from sklearn.metrics import confusion_matrix, classification_report\n",
    "from sklearn.svm import SVC"
   ]
  },
  {
   "cell_type": "code",
   "execution_count": 2,
   "metadata": {},
   "outputs": [],
   "source": [
    "# Change the emoji into corresponding meaning\n",
    "df = pd.DataFrame(emoji.EMOJI_DATA).T\n",
    "emoji_df = df['en']\n",
    "emoji_df = emoji_df.apply(lambda x: ' '.join(k for k in x[1:-1].split('_')))\n",
    "dic_emoji = emoji_df.to_dict()"
   ]
  },
  {
   "cell_type": "code",
   "execution_count": 3,
   "metadata": {},
   "outputs": [],
   "source": [
    "nlp = spacy.load('en_core_web_sm')\n",
    "def preprocessing_text(text): \n",
    "    clean_text = text.lower()\n",
    "    doc = nlp(clean_text)\n",
    "    tokens = [token.text.strip() for token in doc]\n",
    "    list = []\n",
    "    for k in tokens:\n",
    "        if k not in dic_emoji.keys():\n",
    "            list.append(k)\n",
    "        else:\n",
    "            list.append(dic_emoji[k])\n",
    "    return ' '.join(list)"
   ]
  },
  {
   "cell_type": "code",
   "execution_count": 4,
   "metadata": {},
   "outputs": [],
   "source": [
    "# Initialize Hashing Vectorizer\n",
    "hash_vectorizer = HashingVectorizer(n_features=1000, ngram_range=(1, 2), norm='l2')\n"
   ]
  },
  {
   "cell_type": "code",
   "execution_count": 5,
   "metadata": {},
   "outputs": [],
   "source": [
    "# Initialize Tfidf Vectorizer\n",
    "idf_vectorizer = TfidfVectorizer(stop_words='english', ngram_range=(1, 2), max_features=1000,\n",
    "                             min_df=2, max_df=0.8, norm='l2', use_idf=True, smooth_idf=True)"
   ]
  },
  {
   "attachments": {},
   "cell_type": "markdown",
   "metadata": {},
   "source": [
    "## Test 1.1 Binary classifier that can distinguish whether the comments are \"hateful\"(1) or \"non-hateful\"(0)"
   ]
  },
  {
   "attachments": {},
   "cell_type": "markdown",
   "metadata": {},
   "source": [
    "### Test 1.1.1 Binary classifier that are trained by Kirk's data and tested by Kirk's data"
   ]
  },
  {
   "attachments": {},
   "cell_type": "markdown",
   "metadata": {},
   "source": [
    "- df (using Kirk's \" train + validation\" data as the training data)\\\n",
    "training dataset =  Krik train + Krik validation (5319 messages)\n",
    "\n",
    "- df1 (using Kirk's \"test\" data as the testing data)\\\n",
    "test dataset = Krik test (593 messages)"
   ]
  },
  {
   "cell_type": "code",
   "execution_count": 6,
   "metadata": {},
   "outputs": [],
   "source": [
    "df_train = pd.concat([pd.read_csv(\"../Training_machine_learning_model/HatemojiBuild_from_Kirk/train.csv\"), pd.read_csv(\"../Training_machine_learning_model/HatemojiBuild_from_Kirk/validation.csv\")])\n",
    "df_train = df_train.reset_index(drop=True)"
   ]
  },
  {
   "cell_type": "code",
   "execution_count": 7,
   "metadata": {},
   "outputs": [],
   "source": [
    "df1_test = pd.read_csv(\"../Training_machine_learning_model/HatemojiBuild_from_Kirk/test.csv\")"
   ]
  },
  {
   "cell_type": "code",
   "execution_count": 8,
   "metadata": {},
   "outputs": [],
   "source": [
    "# Prepare the data for training and testing (lowercase the letters)\n",
    "X_train = df_train['text'].apply(lambda x: (preprocessing_text(x)))\n",
    "y_train = df_train['label_gold']\n",
    "X_test_1 = df1_test['text'].apply(lambda x: (preprocessing_text(x)))\n",
    "y_test_1 = df1_test['label_gold']"
   ]
  },
  {
   "cell_type": "code",
   "execution_count": 9,
   "metadata": {},
   "outputs": [
    {
     "data": {
      "text/plain": [
       "0       i would love to kitchen knife some person wear...\n",
       "1       i would love to kitchen knife some man dark sk...\n",
       "2                  i would love to kitchen knife some fox\n",
       "3       person wearing turban medium skin tone make me...\n",
       "4       literally all man dark skin tone men act like ...\n",
       "                              ...                        \n",
       "5314    ca nt believe every handman on checkatrade is ...\n",
       "5315    \" i was born with a penis but i have always be...\n",
       "5316              my dad said i hate pakis anguished face\n",
       "5317    my dad he hates maccies rolling on the floor l...\n",
       "5318    i went to the shop and called it a paki shop ,...\n",
       "Name: text, Length: 5319, dtype: object"
      ]
     },
     "execution_count": 9,
     "metadata": {},
     "output_type": "execute_result"
    }
   ],
   "source": [
    "X_train"
   ]
  },
  {
   "cell_type": "code",
   "execution_count": 10,
   "metadata": {},
   "outputs": [],
   "source": [
    "# Hashing Vectorizer\n",
    "X_train_hash = hash_vectorizer.fit_transform(X_train)\n",
    "X_test_1_hash = hash_vectorizer.transform(X_test_1)\n",
    "# Tfidf Vectorizer\n",
    "X_train_idf = idf_vectorizer.fit_transform(X_train)\n",
    "X_test_1_idf = idf_vectorizer.transform(X_test_1)"
   ]
  },
  {
   "cell_type": "code",
   "execution_count": 11,
   "metadata": {},
   "outputs": [],
   "source": [
    "# Process the data for fasttext\n",
    "df_train['train_data'] = '__label__' + df_train['label_gold'].astype(str) + ' ' + df_train['text'].apply(lambda x: (preprocessing_text(x)))\n",
    "df_train['train_data'].to_csv('train_data_1.txt', index=False, header=False, sep='\\t')\n",
    "\n",
    "df1_test['test_data'] = '__label__' + df1_test['label_gold'].astype(str) + ' ' + df1_test['text'].apply(lambda x: (preprocessing_text(x)))\n",
    "df1_test['test_data'].to_csv('test_data_1_1.txt', index=False, header=False, sep='\\t')"
   ]
  },
  {
   "cell_type": "code",
   "execution_count": 12,
   "metadata": {},
   "outputs": [],
   "source": [
    "# Using fasttext to train the word vector\n",
    "train_data = \"train_data_1.txt\"\n",
    "model_path = \"emoji_based_hate_speech_model_1_1.bin\"\n",
    "\n",
    "model = fasttext.train_unsupervised(train_data, dim=100)\n",
    "model.save_model(model_path)\n",
    "\n",
    "def encode_text_with_fasttext(series):\n",
    "    encoded_data = series.apply(lambda x: model.get_sentence_vector(x.replace('\\n', ' ')))\n",
    "    return encoded_data\n",
    "\n",
    "X_train_fast = np.vstack(encode_text_with_fasttext(X_train).values)\n",
    "X_test_1_fast = np.vstack(encode_text_with_fasttext(X_test_1).values)"
   ]
  },
  {
   "attachments": {},
   "cell_type": "markdown",
   "metadata": {},
   "source": [
    "#### Logistic Regression"
   ]
  },
  {
   "cell_type": "code",
   "execution_count": 11,
   "metadata": {},
   "outputs": [],
   "source": [
    "# Define a function to fit the LogisticRegression model with the grid research\n",
    "def lr_model(X_train_vec, y_train, X_test_vec, y_test):\n",
    "    lr = LogisticRegression()\n",
    "\n",
    "    params = {\n",
    "        'C': [0.001, 0.01, 0.1, 1.0, ],\n",
    "        'penalty': ['l2'],\n",
    "        'solver': ['sag', 'saga'],\n",
    "        'class_weight': ['balanced'],\n",
    "        'max_iter': [100, 200, 500]\n",
    "    }\n",
    "    \n",
    "    \n",
    "    grid_search = GridSearchCV(lr, params, cv=5,n_jobs=-1)\n",
    "    grid_search.fit(X_train_vec, y_train)\n",
    "\n",
    "    # Use best hyperparameters to fit a model\n",
    "    best_lr = grid_search.best_estimator_\n",
    "    best_lr.fit(X_train_vec, y_train)\n",
    "\n",
    "    # Use the fitted model to predict on test data\n",
    "    y_pred = best_lr.predict(X_test_vec)\n",
    "\n",
    "    print(\"Best Hyperparameters:\", grid_search.best_params_)\n",
    "    print(\"Best accuracy score:\", grid_search.best_score_)\n",
    "    print(classification_report(y_test, y_pred, digits=4))\n",
    "    print(confusion_matrix(y_test, y_pred))"
   ]
  },
  {
   "cell_type": "code",
   "execution_count": 14,
   "metadata": {},
   "outputs": [
    {
     "name": "stdout",
     "output_type": "stream",
     "text": [
      "Best Hyperparameters: {'C': 0.1, 'class_weight': 'balanced', 'max_iter': 200, 'penalty': 'l2', 'solver': 'saga'}\n",
      "Best accuracy score: 0.5829992431690704\n",
      "              precision    recall  f1-score   support\n",
      "\n",
      "           0     0.5438    0.6316    0.5844       285\n",
      "           1     0.5992    0.5097    0.5509       308\n",
      "\n",
      "    accuracy                         0.5683       593\n",
      "   macro avg     0.5715    0.5707    0.5676       593\n",
      "weighted avg     0.5726    0.5683    0.5670       593\n",
      "\n",
      "[[180 105]\n",
      " [151 157]]\n",
      "None\n"
     ]
    }
   ],
   "source": [
    "# Using hashing vectorizer\n",
    "print(lr_model(X_train_hash, y_train, X_test_1_hash, y_test_1))"
   ]
  },
  {
   "cell_type": "code",
   "execution_count": 15,
   "metadata": {},
   "outputs": [
    {
     "name": "stdout",
     "output_type": "stream",
     "text": [
      "Best Hyperparameters: {'C': 1.0, 'class_weight': 'balanced', 'max_iter': 100, 'penalty': 'l2', 'solver': 'saga'}\n",
      "Best accuracy score: 0.6196577992488276\n",
      "              precision    recall  f1-score   support\n",
      "\n",
      "           0     0.5734    0.5895    0.5813       285\n",
      "           1     0.6100    0.5942    0.6020       308\n",
      "\n",
      "    accuracy                         0.5919       593\n",
      "   macro avg     0.5917    0.5918    0.5916       593\n",
      "weighted avg     0.5924    0.5919    0.5920       593\n",
      "\n",
      "[[168 117]\n",
      " [125 183]]\n",
      "None\n"
     ]
    }
   ],
   "source": [
    "# Using tfidf vectorizer\n",
    "print(lr_model(X_train_idf, y_train, X_test_1_idf, y_test_1))"
   ]
  },
  {
   "cell_type": "code",
   "execution_count": 17,
   "metadata": {},
   "outputs": [
    {
     "name": "stdout",
     "output_type": "stream",
     "text": [
      "Best Hyperparameters: {'C': 1.0, 'class_weight': 'balanced', 'max_iter': 100, 'penalty': 'l2', 'solver': 'sag'}\n",
      "Best accuracy score: 0.5337421045558393\n",
      "              precision    recall  f1-score   support\n",
      "\n",
      "           0     0.5159    0.7404    0.6081       285\n",
      "           1     0.5978    0.3571    0.4472       308\n",
      "\n",
      "    accuracy                         0.5413       593\n",
      "   macro avg     0.5569    0.5487    0.5276       593\n",
      "weighted avg     0.5584    0.5413    0.5245       593\n",
      "\n",
      "[[211  74]\n",
      " [198 110]]\n",
      "None\n"
     ]
    }
   ],
   "source": [
    "# Using fasttext\n",
    "print(lr_model(X_train_fast, y_train, X_test_1_fast, y_test_1))"
   ]
  },
  {
   "attachments": {},
   "cell_type": "markdown",
   "metadata": {},
   "source": [
    "#### SGD Classifier"
   ]
  },
  {
   "cell_type": "code",
   "execution_count": 18,
   "metadata": {},
   "outputs": [],
   "source": [
    "# Define a function to fit SGD Classifier with the grid research\n",
    "def sgdc_model(X_train_vec, y_train, X_test_vec, y_test):\n",
    "    sgdc = SGDClassifier()\n",
    "\n",
    "\n",
    "    params = {\n",
    "        'loss': ['log_loss', 'modified_huber', 'perceptron', 'hinge'], \n",
    "        'alpha': [0.001, 0.01, 0.1],\n",
    "        'class_weight': ['balanced'],\n",
    "        }\n",
    "    grid_search = GridSearchCV(sgdc, params, cv=5,n_jobs=-1)\n",
    "    grid_search.fit(X_train_vec, y_train)\n",
    "\n",
    "    # Use best hyperparameters to fit a model\n",
    "    best_sgdc = grid_search.best_estimator_\n",
    "    best_sgdc.fit(X_train_vec, y_train)\n",
    "\n",
    "    # Use the fitted model to predict on test data\n",
    "    y_pred = best_sgdc.predict(X_test_vec)\n",
    "\n",
    "    print(\"Best Hyperparameters:\", grid_search.best_params_)\n",
    "    print(\"Best accuracy score:\", grid_search.best_score_)\n",
    "    print(classification_report(y_test, y_pred, digits=4))\n",
    "    print(confusion_matrix(y_test, y_pred))"
   ]
  },
  {
   "cell_type": "code",
   "execution_count": 19,
   "metadata": {},
   "outputs": [
    {
     "name": "stdout",
     "output_type": "stream",
     "text": [
      "Best Hyperparameters: {'alpha': 0.001, 'class_weight': 'balanced', 'loss': 'hinge'}\n",
      "Best accuracy score: 0.5843139716648158\n",
      "              precision    recall  f1-score   support\n",
      "\n",
      "           0     0.5309    0.6632    0.5897       285\n",
      "           1     0.5949    0.4578    0.5174       308\n",
      "\n",
      "    accuracy                         0.5565       593\n",
      "   macro avg     0.5629    0.5605    0.5536       593\n",
      "weighted avg     0.5642    0.5565    0.5522       593\n",
      "\n",
      "[[189  96]\n",
      " [167 141]]\n",
      "None\n"
     ]
    }
   ],
   "source": [
    "# Using hashing vectorizer\n",
    "print(sgdc_model(X_train_hash, y_train, X_test_1_hash, y_test_1))"
   ]
  },
  {
   "cell_type": "code",
   "execution_count": 20,
   "metadata": {},
   "outputs": [
    {
     "name": "stdout",
     "output_type": "stream",
     "text": [
      "Best Hyperparameters: {'alpha': 0.001, 'class_weight': 'balanced', 'loss': 'modified_huber'}\n",
      "Best accuracy score: 0.618153509361362\n",
      "              precision    recall  f1-score   support\n",
      "\n",
      "           0     0.5709    0.5930    0.5818       285\n",
      "           1     0.6094    0.5877    0.5983       308\n",
      "\n",
      "    accuracy                         0.5902       593\n",
      "   macro avg     0.5902    0.5903    0.5901       593\n",
      "weighted avg     0.5909    0.5902    0.5904       593\n",
      "\n",
      "[[169 116]\n",
      " [127 181]]\n",
      "None\n"
     ]
    }
   ],
   "source": [
    "# Using tfidf vectorizer\n",
    "print(sgdc_model(X_train_idf, y_train, X_test_1_idf, y_test_1))"
   ]
  },
  {
   "cell_type": "code",
   "execution_count": 21,
   "metadata": {},
   "outputs": [
    {
     "name": "stdout",
     "output_type": "stream",
     "text": [
      "Best Hyperparameters: {'alpha': 0.001, 'class_weight': 'balanced', 'loss': 'modified_huber'}\n",
      "Best accuracy score: 0.5282893852693823\n",
      "              precision    recall  f1-score   support\n",
      "\n",
      "           0     0.0000    0.0000    0.0000       285\n",
      "           1     0.5194    1.0000    0.6837       308\n",
      "\n",
      "    accuracy                         0.5194       593\n",
      "   macro avg     0.2597    0.5000    0.3418       593\n",
      "weighted avg     0.2698    0.5194    0.3551       593\n",
      "\n",
      "[[  0 285]\n",
      " [  0 308]]\n",
      "None\n"
     ]
    },
    {
     "name": "stderr",
     "output_type": "stream",
     "text": [
      "C:\\Users\\lvshu\\AppData\\Local\\Packages\\PythonSoftwareFoundation.Python.3.10_qbz5n2kfra8p0\\LocalCache\\local-packages\\Python310\\site-packages\\sklearn\\metrics\\_classification.py:1334: UndefinedMetricWarning: Precision and F-score are ill-defined and being set to 0.0 in labels with no predicted samples. Use `zero_division` parameter to control this behavior.\n",
      "  _warn_prf(average, modifier, msg_start, len(result))\n",
      "C:\\Users\\lvshu\\AppData\\Local\\Packages\\PythonSoftwareFoundation.Python.3.10_qbz5n2kfra8p0\\LocalCache\\local-packages\\Python310\\site-packages\\sklearn\\metrics\\_classification.py:1334: UndefinedMetricWarning: Precision and F-score are ill-defined and being set to 0.0 in labels with no predicted samples. Use `zero_division` parameter to control this behavior.\n",
      "  _warn_prf(average, modifier, msg_start, len(result))\n",
      "C:\\Users\\lvshu\\AppData\\Local\\Packages\\PythonSoftwareFoundation.Python.3.10_qbz5n2kfra8p0\\LocalCache\\local-packages\\Python310\\site-packages\\sklearn\\metrics\\_classification.py:1334: UndefinedMetricWarning: Precision and F-score are ill-defined and being set to 0.0 in labels with no predicted samples. Use `zero_division` parameter to control this behavior.\n",
      "  _warn_prf(average, modifier, msg_start, len(result))\n"
     ]
    }
   ],
   "source": [
    "# Using fasttext\n",
    "print(sgdc_model(X_train_fast, y_train, X_test_1_fast, y_test_1))"
   ]
  },
  {
   "attachments": {},
   "cell_type": "markdown",
   "metadata": {},
   "source": [
    "#### SVM"
   ]
  },
  {
   "cell_type": "code",
   "execution_count": 12,
   "metadata": {},
   "outputs": [],
   "source": [
    "# Using SVM (with GridSearchCV to find the best hyperparameters)\n",
    "def svm_model(X_train_vec, y_train, X_test_vec, y_test):\n",
    "    svm = SVC()\n",
    "\n",
    "    params = {\n",
    "        'C': [0.1, 1, 10],\n",
    "        'kernel': ['linear', 'rbf'],\n",
    "        'gamma': ['scale', 'auto']\n",
    "    }\n",
    "\n",
    "    grid_search = GridSearchCV(svm, params, cv=5, n_jobs=-1)\n",
    "    grid_search.fit(X_train_vec, y_train)\n",
    "\n",
    "    print(\"Best parameters:\", grid_search.best_params_)\n",
    "    print(\"Best accuracy score:\", grid_search.best_score_)\n",
    "\n",
    "    # Use best hyperparameters to fit a model\n",
    "    best_svm = grid_search.best_estimator_\n",
    "    best_svm.fit(X_train_vec, y_train)\n",
    "\n",
    "    # Use the fitted model to predict on test data\n",
    "    y_pred = best_svm.predict(X_test_vec)\n",
    "\n",
    "    print(\"Best Hyperparameters:\", grid_search.best_params_)\n",
    "    print(\"Best accuracy score:\", grid_search.best_score_)\n",
    "    print(classification_report(y_test, y_pred, digits=4))\n",
    "    print(confusion_matrix(y_test, y_pred))"
   ]
  },
  {
   "cell_type": "code",
   "execution_count": 23,
   "metadata": {},
   "outputs": [
    {
     "name": "stdout",
     "output_type": "stream",
     "text": [
      "Best parameters: {'C': 1, 'gamma': 'scale', 'kernel': 'linear'}\n",
      "Best accuracy score: 0.5767939368647396\n",
      "Best Hyperparameters: {'C': 1, 'gamma': 'scale', 'kernel': 'linear'}\n",
      "Best accuracy score: 0.5767939368647396\n",
      "              precision    recall  f1-score   support\n",
      "\n",
      "           0     0.5232    0.5544    0.5383       285\n",
      "           1     0.5636    0.5325    0.5476       308\n",
      "\n",
      "    accuracy                         0.5430       593\n",
      "   macro avg     0.5434    0.5434    0.5430       593\n",
      "weighted avg     0.5442    0.5430    0.5431       593\n",
      "\n",
      "[[158 127]\n",
      " [144 164]]\n",
      "None\n"
     ]
    }
   ],
   "source": [
    "# Using hashing vectorizer \n",
    "print(svm_model(X_train_hash, y_train, X_test_1_hash, y_test_1))"
   ]
  },
  {
   "cell_type": "code",
   "execution_count": 24,
   "metadata": {},
   "outputs": [
    {
     "name": "stdout",
     "output_type": "stream",
     "text": [
      "Best parameters: {'C': 1, 'gamma': 'scale', 'kernel': 'linear'}\n",
      "Best accuracy score: 0.620032678120513\n",
      "Best Hyperparameters: {'C': 1, 'gamma': 'scale', 'kernel': 'linear'}\n",
      "Best accuracy score: 0.620032678120513\n",
      "              precision    recall  f1-score   support\n",
      "\n",
      "           0     0.5677    0.6035    0.5850       285\n",
      "           1     0.6103    0.5747    0.5920       308\n",
      "\n",
      "    accuracy                         0.5885       593\n",
      "   macro avg     0.5890    0.5891    0.5885       593\n",
      "weighted avg     0.5898    0.5885    0.5886       593\n",
      "\n",
      "[[172 113]\n",
      " [131 177]]\n",
      "None\n"
     ]
    }
   ],
   "source": [
    "# Using tfidf vectorizer\n",
    "print(svm_model(X_train_idf, y_train, X_test_1_idf, y_test_1))"
   ]
  },
  {
   "cell_type": "code",
   "execution_count": 15,
   "metadata": {},
   "outputs": [
    {
     "name": "stdout",
     "output_type": "stream",
     "text": [
      "[0] [1]\n"
     ]
    }
   ],
   "source": [
    "# Test for an instance which does not belongs any dataset\n",
    "sentence_1 = [preprocessing_text(\"MUGGLES NOT WELCOME\")]\n",
    "sentence_2 = [preprocessing_text(\"MUGGLES NOT WELCOME👊\")]\n",
    "svec_1 = idf_vectorizer.transform(sentence_1)\n",
    "svec_2 = idf_vectorizer.transform(sentence_2)\n",
    "\n",
    "svm3 = SVC(C=1, gamma='scale', kernel='linear')\n",
    "svm3.fit(X_train_idf, y_train)\n",
    "y_pred_1 = svm3.predict(svec_1)\n",
    "y_pred_2 = svm3.predict(svec_2)\n",
    "print(y_pred_1, y_pred_2)"
   ]
  },
  {
   "cell_type": "code",
   "execution_count": 25,
   "metadata": {},
   "outputs": [
    {
     "name": "stdout",
     "output_type": "stream",
     "text": [
      "Best parameters: {'C': 10, 'gamma': 'scale', 'kernel': 'rbf'}\n",
      "Best accuracy score: 0.535061961111622\n",
      "Best Hyperparameters: {'C': 10, 'gamma': 'scale', 'kernel': 'rbf'}\n",
      "Best accuracy score: 0.535061961111622\n",
      "              precision    recall  f1-score   support\n",
      "\n",
      "           0     0.5122    0.8070    0.6267       285\n",
      "           1     0.6181    0.2890    0.3938       308\n",
      "\n",
      "    accuracy                         0.5379       593\n",
      "   macro avg     0.5652    0.5480    0.5103       593\n",
      "weighted avg     0.5672    0.5379    0.5057       593\n",
      "\n",
      "[[230  55]\n",
      " [219  89]]\n",
      "None\n"
     ]
    }
   ],
   "source": [
    "# Using fasttext\n",
    "print(svm_model(X_train_fast, y_train, X_test_1_fast, y_test_1))"
   ]
  },
  {
   "attachments": {},
   "cell_type": "markdown",
   "metadata": {},
   "source": [
    "#### Decision Tree Classifier"
   ]
  },
  {
   "cell_type": "code",
   "execution_count": 26,
   "metadata": {},
   "outputs": [],
   "source": [
    "# Define a function to fit Decision Tree Classifier with the grid research\n",
    "def dtc_model(X_train_vec, y_train, X_test_vec, y_test):\n",
    "    dtc = DecisionTreeClassifier()\n",
    "\n",
    "\n",
    "    params = {\n",
    "        'criterion': ['gini', 'entropy'], \n",
    "        'max_depth': [None, 5, 10, 15], \n",
    "        'min_samples_split': [2, 5, 10, 20], \n",
    "        'min_samples_leaf': [1, 2, 5, 10],\n",
    "        'class_weight': ['balanced']\n",
    "    }\n",
    "    grid_search = GridSearchCV(dtc, params, cv=5,n_jobs=-1)\n",
    "    grid_search.fit(X_train_vec, y_train)\n",
    "\n",
    "    # Use best hyperparameters to fit a model\n",
    "    best_dtc = grid_search.best_estimator_\n",
    "    best_dtc.fit(X_train_vec, y_train)\n",
    "\n",
    "    # Use the fitted model to predict on test data\n",
    "    y_pred = best_dtc.predict(X_test_vec)\n",
    "\n",
    "    print(\"Best Hyperparameters:\", grid_search.best_params_)\n",
    "    print(\"Best accuracy score:\", grid_search.best_score_)\n",
    "    print(classification_report(y_test, y_pred, digits=4))\n",
    "    print(confusion_matrix(y_test, y_pred))"
   ]
  },
  {
   "cell_type": "code",
   "execution_count": 27,
   "metadata": {},
   "outputs": [
    {
     "name": "stdout",
     "output_type": "stream",
     "text": [
      "Best Hyperparameters: {'class_weight': 'balanced', 'criterion': 'gini', 'max_depth': 15, 'min_samples_leaf': 10, 'min_samples_split': 20}\n",
      "Best accuracy score: 0.5643896901237101\n",
      "              precision    recall  f1-score   support\n",
      "\n",
      "           0     0.5271    0.7860    0.6310       285\n",
      "           1     0.6369    0.3474    0.4496       308\n",
      "\n",
      "    accuracy                         0.5582       593\n",
      "   macro avg     0.5820    0.5667    0.5403       593\n",
      "weighted avg     0.5841    0.5582    0.5368       593\n",
      "\n",
      "[[224  61]\n",
      " [201 107]]\n",
      "None\n"
     ]
    }
   ],
   "source": [
    "# Using hashing vectorizer \n",
    "print(dtc_model(X_train_hash, y_train, X_test_1_hash, y_test_1))"
   ]
  },
  {
   "cell_type": "code",
   "execution_count": 28,
   "metadata": {},
   "outputs": [
    {
     "name": "stdout",
     "output_type": "stream",
     "text": [
      "Best Hyperparameters: {'class_weight': 'balanced', 'criterion': 'gini', 'max_depth': 15, 'min_samples_leaf': 1, 'min_samples_split': 20}\n",
      "Best accuracy score: 0.5841268858882861\n",
      "              precision    recall  f1-score   support\n",
      "\n",
      "           0     0.5405    0.7719    0.6358       285\n",
      "           1     0.6505    0.3929    0.4899       308\n",
      "\n",
      "    accuracy                         0.5750       593\n",
      "   macro avg     0.5955    0.5824    0.5629       593\n",
      "weighted avg     0.5977    0.5750    0.5600       593\n",
      "\n",
      "[[220  65]\n",
      " [187 121]]\n",
      "None\n"
     ]
    }
   ],
   "source": [
    "# Using tfidf vectorizer\n",
    "print(dtc_model(X_train_idf, y_train, X_test_1_idf, y_test_1))"
   ]
  },
  {
   "cell_type": "code",
   "execution_count": 29,
   "metadata": {},
   "outputs": [
    {
     "name": "stdout",
     "output_type": "stream",
     "text": [
      "Best Hyperparameters: {'class_weight': 'balanced', 'criterion': 'entropy', 'max_depth': 5, 'min_samples_leaf': 1, 'min_samples_split': 20}\n",
      "Best accuracy score: 0.530361828843039\n",
      "              precision    recall  f1-score   support\n",
      "\n",
      "           0     0.4954    0.7544    0.5981       285\n",
      "           1     0.5597    0.2890    0.3812       308\n",
      "\n",
      "    accuracy                         0.5126       593\n",
      "   macro avg     0.5276    0.5217    0.4896       593\n",
      "weighted avg     0.5288    0.5126    0.4854       593\n",
      "\n",
      "[[215  70]\n",
      " [219  89]]\n",
      "None\n"
     ]
    }
   ],
   "source": [
    "# Using fasttext\n",
    "print(dtc_model(X_train_fast, y_train, X_test_1_fast, y_test_1))"
   ]
  },
  {
   "attachments": {},
   "cell_type": "markdown",
   "metadata": {},
   "source": [
    "#### Random Forest Classifier"
   ]
  },
  {
   "cell_type": "code",
   "execution_count": 30,
   "metadata": {},
   "outputs": [],
   "source": [
    "# Define a function to fit Random Forest Classifier with the grid research\n",
    "def rf_model(X_train_vec, y_train, X_test_vec, y_test):\n",
    "    rf = RandomForestClassifier()\n",
    "\n",
    "    params = {'n_estimators': [50, 100, 150],\n",
    "          'max_depth': [3, 5, 7, None],\n",
    "          'min_samples_split': [2, 5, 10],\n",
    "          'max_features': ['auto', 'sqrt', 'log2'],\n",
    "          'min_samples_leaf': [1, 2, 4, 6]}\n",
    "    grid_search = GridSearchCV(rf, params, cv=5,n_jobs=-1)\n",
    "    grid_search.fit(X_train_vec, y_train)\n",
    "\n",
    "    # Use best hyperparameters to fit a model\n",
    "    best_rf = grid_search.best_estimator_\n",
    "    best_rf.fit(X_train_vec, y_train)\n",
    "\n",
    "    # Use the fitted model to predict on test data\n",
    "    y_pred = best_rf.predict(X_test_vec)\n",
    "\n",
    "    print(\"Best Hyperparameters:\", grid_search.best_params_)\n",
    "    print(\"Best accuracy score:\", grid_search.best_score_)\n",
    "    print(classification_report(y_test, y_pred, digits=4))\n",
    "    print(confusion_matrix(y_test, y_pred))"
   ]
  },
  {
   "cell_type": "code",
   "execution_count": 31,
   "metadata": {},
   "outputs": [
    {
     "name": "stdout",
     "output_type": "stream",
     "text": [
      "Best Hyperparameters: {'max_depth': None, 'max_features': 'sqrt', 'min_samples_leaf': 6, 'min_samples_split': 5, 'n_estimators': 100}\n",
      "Best accuracy score: 0.5831847374786919\n",
      "              precision    recall  f1-score   support\n",
      "\n",
      "           0     0.5000    0.5228    0.5111       285\n",
      "           1     0.5390    0.5162    0.5274       308\n",
      "\n",
      "    accuracy                         0.5194       593\n",
      "   macro avg     0.5195    0.5195    0.5193       593\n",
      "weighted avg     0.5202    0.5194    0.5196       593\n",
      "\n",
      "[[149 136]\n",
      " [149 159]]\n",
      "None\n"
     ]
    }
   ],
   "source": [
    "# Using hashing vectorizer\n",
    "print(rf_model(X_train_hash, y_train, X_test_1_hash, y_test_1))"
   ]
  },
  {
   "cell_type": "code",
   "execution_count": 32,
   "metadata": {},
   "outputs": [
    {
     "name": "stdout",
     "output_type": "stream",
     "text": [
      "Best Hyperparameters: {'max_depth': None, 'max_features': 'sqrt', 'min_samples_leaf': 4, 'min_samples_split': 10, 'n_estimators': 100}\n",
      "Best accuracy score: 0.6111972075060652\n",
      "              precision    recall  f1-score   support\n",
      "\n",
      "           0     0.5744    0.5825    0.5784       285\n",
      "           1     0.6086    0.6006    0.6046       308\n",
      "\n",
      "    accuracy                         0.5919       593\n",
      "   macro avg     0.5915    0.5916    0.5915       593\n",
      "weighted avg     0.5921    0.5919    0.5920       593\n",
      "\n",
      "[[166 119]\n",
      " [123 185]]\n",
      "None\n"
     ]
    }
   ],
   "source": [
    "# Using tfidf vectorizer\n",
    "print(rf_model(X_train_idf, y_train, X_test_1_idf, y_test_1))"
   ]
  },
  {
   "cell_type": "code",
   "execution_count": 33,
   "metadata": {},
   "outputs": [
    {
     "name": "stderr",
     "output_type": "stream",
     "text": [
      "C:\\Users\\lvshu\\AppData\\Local\\Packages\\PythonSoftwareFoundation.Python.3.10_qbz5n2kfra8p0\\LocalCache\\local-packages\\Python310\\site-packages\\sklearn\\ensemble\\_forest.py:427: FutureWarning: `max_features='auto'` has been deprecated in 1.1 and will be removed in 1.3. To keep the past behaviour, explicitly set `max_features='sqrt'` or remove this parameter as it is also the default value for RandomForestClassifiers and ExtraTreesClassifiers.\n",
      "  warn(\n",
      "C:\\Users\\lvshu\\AppData\\Local\\Packages\\PythonSoftwareFoundation.Python.3.10_qbz5n2kfra8p0\\LocalCache\\local-packages\\Python310\\site-packages\\sklearn\\ensemble\\_forest.py:427: FutureWarning: `max_features='auto'` has been deprecated in 1.1 and will be removed in 1.3. To keep the past behaviour, explicitly set `max_features='sqrt'` or remove this parameter as it is also the default value for RandomForestClassifiers and ExtraTreesClassifiers.\n",
      "  warn(\n"
     ]
    },
    {
     "name": "stdout",
     "output_type": "stream",
     "text": [
      "Best Hyperparameters: {'max_depth': 5, 'max_features': 'auto', 'min_samples_leaf': 2, 'min_samples_split': 2, 'n_estimators': 100}\n",
      "Best accuracy score: 0.5514133994440475\n",
      "              precision    recall  f1-score   support\n",
      "\n",
      "           0     0.5274    0.7088    0.6048       285\n",
      "           1     0.6048    0.4123    0.4903       308\n",
      "\n",
      "    accuracy                         0.5548       593\n",
      "   macro avg     0.5661    0.5606    0.5476       593\n",
      "weighted avg     0.5676    0.5548    0.5453       593\n",
      "\n",
      "[[202  83]\n",
      " [181 127]]\n",
      "None\n"
     ]
    }
   ],
   "source": [
    "# Using fasttext\n",
    "print(rf_model(X_train_fast, y_train, X_test_1_fast, y_test_1))"
   ]
  },
  {
   "attachments": {},
   "cell_type": "markdown",
   "metadata": {},
   "source": [
    "#### LightGBM"
   ]
  },
  {
   "cell_type": "code",
   "execution_count": 34,
   "metadata": {},
   "outputs": [],
   "source": [
    "# Define a function to fit LightGBM with the grid research\n",
    "def lgbm_model(X_train_vec, y_train, X_test_vec, y_test):\n",
    "    lgbm = lgb.LGBMClassifier()\n",
    "      \n",
    "    params = {\n",
    "        'boosting_type': ['gbdt'],\n",
    "        'num_leaves': [31, 63, 127],\n",
    "        'learning_rate': [0.05, 0.1, 0.2],\n",
    "        'n_estimators': [100, 200, 300],\n",
    "        'max_depth': [-1],\n",
    "        'min_child_samples': [20, 50, 100],\n",
    "        'class_weight': ['balanced']\n",
    "    }\n",
    "  \n",
    "    grid_search = GridSearchCV(lgbm, params, cv=5,n_jobs=-1)\n",
    "    grid_search.fit(X_train_vec, y_train)\n",
    "\n",
    "    # Use best hyperparameters to fit a model\n",
    "    best_lgbm = grid_search.best_estimator_\n",
    "    best_lgbm.fit(X_train_vec, y_train)\n",
    "\n",
    "    # Use the fitted model to predict on test data\n",
    "    y_pred = best_lgbm.predict(X_test_vec)\n",
    "\n",
    "    print(\"Best Hyperparameters:\", grid_search.best_params_)\n",
    "    print(\"Best accuracy score:\", grid_search.best_score_)      \n",
    "    print(classification_report(y_test, y_pred, digits=4))\n",
    "    print(confusion_matrix(y_test, y_pred))"
   ]
  },
  {
   "cell_type": "code",
   "execution_count": 35,
   "metadata": {},
   "outputs": [
    {
     "name": "stdout",
     "output_type": "stream",
     "text": [
      "Best Hyperparameters: {'boosting_type': 'gbdt', 'class_weight': 'balanced', 'learning_rate': 0.05, 'max_depth': -1, 'min_child_samples': 50, 'n_estimators': 100, 'num_leaves': 31}\n",
      "Best accuracy score: 0.5901421003119275\n",
      "              precision    recall  f1-score   support\n",
      "\n",
      "           0     0.5314    0.5649    0.5476       285\n",
      "           1     0.5724    0.5390    0.5552       308\n",
      "\n",
      "    accuracy                         0.5514       593\n",
      "   macro avg     0.5519    0.5519    0.5514       593\n",
      "weighted avg     0.5527    0.5514    0.5515       593\n",
      "\n",
      "[[161 124]\n",
      " [142 166]]\n",
      "None\n"
     ]
    }
   ],
   "source": [
    "# Using hashing vectorizer\n",
    "print(lgbm_model(X_train_hash, y_train, X_test_1_hash, y_test_1))"
   ]
  },
  {
   "cell_type": "code",
   "execution_count": 36,
   "metadata": {},
   "outputs": [
    {
     "name": "stdout",
     "output_type": "stream",
     "text": [
      "Best Hyperparameters: {'boosting_type': 'gbdt', 'class_weight': 'balanced', 'learning_rate': 0.05, 'max_depth': -1, 'min_child_samples': 20, 'n_estimators': 100, 'num_leaves': 31}\n",
      "Best accuracy score: 0.6027389145488368\n",
      "              precision    recall  f1-score   support\n",
      "\n",
      "           0     0.5691    0.6211    0.5940       285\n",
      "           1     0.6170    0.5649    0.5898       308\n",
      "\n",
      "    accuracy                         0.5919       593\n",
      "   macro avg     0.5931    0.5930    0.5919       593\n",
      "weighted avg     0.5940    0.5919    0.5918       593\n",
      "\n",
      "[[177 108]\n",
      " [134 174]]\n",
      "None\n"
     ]
    }
   ],
   "source": [
    "# Using tfidf vectorizer\n",
    "print(lgbm_model(X_train_idf, y_train, X_test_1_idf, y_test_1))"
   ]
  },
  {
   "cell_type": "code",
   "execution_count": 16,
   "metadata": {},
   "outputs": [
    {
     "name": "stdout",
     "output_type": "stream",
     "text": [
      "[0] [1]\n"
     ]
    }
   ],
   "source": [
    "# Test for an instance which does not belongs any dataset\n",
    "sentence_1 = [preprocessing_text(\"MUGGLES NOT WELCOME\")]\n",
    "sentence_2 = [preprocessing_text(\"MUGGLES NOT WELCOME👊\")]\n",
    "svec_1 = idf_vectorizer.transform(sentence_1)\n",
    "svec_2 = idf_vectorizer.transform(sentence_2)\n",
    "\n",
    "lgbm3 = lgb.LGBMClassifier(boosting_type='gbdt', class_weight='balanced', learning_rate=0.05, max_depth=-1, min_child_samples=20, n_estimators=100, num_leaves=31)\n",
    "lgbm3.fit(X_train_idf, y_train)\n",
    "y_pred_1 = lgbm3.predict(svec_1)\n",
    "y_pred_2 = lgbm3.predict(svec_2)\n",
    "print(y_pred_1, y_pred_2)"
   ]
  },
  {
   "cell_type": "code",
   "execution_count": 37,
   "metadata": {},
   "outputs": [
    {
     "name": "stdout",
     "output_type": "stream",
     "text": [
      "Best Hyperparameters: {'boosting_type': 'gbdt', 'class_weight': 'balanced', 'learning_rate': 0.05, 'max_depth': -1, 'min_child_samples': 100, 'n_estimators': 100, 'num_leaves': 31}\n",
      "Best accuracy score: 0.5453990691686885\n",
      "              precision    recall  f1-score   support\n",
      "\n",
      "           0     0.5189    0.5298    0.5243       285\n",
      "           1     0.5563    0.5455    0.5508       308\n",
      "\n",
      "    accuracy                         0.5379       593\n",
      "   macro avg     0.5376    0.5376    0.5376       593\n",
      "weighted avg     0.5383    0.5379    0.5381       593\n",
      "\n",
      "[[151 134]\n",
      " [140 168]]\n",
      "None\n"
     ]
    }
   ],
   "source": [
    "# Using fasttext\n",
    "print(lgbm_model(X_train_fast, y_train, X_test_1_fast, y_test_1))"
   ]
  },
  {
   "attachments": {},
   "cell_type": "markdown",
   "metadata": {},
   "source": [
    "#### BernoulliNB"
   ]
  },
  {
   "cell_type": "code",
   "execution_count": 38,
   "metadata": {},
   "outputs": [],
   "source": [
    "# Define a function to fit MultinomialNB with the grid research\n",
    "def bnb_model(X_train_vec, y_train, X_test_vec, y_test):\n",
    "    bnb= BernoulliNB()\n",
    "\n",
    "    params = {'alpha': [0.1, 0.5, 1.0, 2.0, 5.0, 10.0]}\n",
    "    grid_search = GridSearchCV(bnb, params, cv=5,n_jobs=-1)\n",
    "    grid_search.fit(X_train_vec, y_train)\n",
    "\n",
    "    print(\"Best parameters:\", grid_search.best_params_)\n",
    "    print(\"Best accuracy score:\", grid_search.best_score_)\n",
    "\n",
    "    # Use best hyperparameters to fit a model\n",
    "    best_bnb = grid_search.best_estimator_\n",
    "    best_bnb.fit(X_train_vec, y_train)\n",
    "\n",
    "    # Use the fitted model to predict on test data\n",
    "    y_pred = best_bnb.predict(X_test_vec)\n",
    "\n",
    "    print(\"Best Hyperparameters:\", grid_search.best_params_)\n",
    "    print(\"Best accuracy score:\", grid_search.best_score_)\n",
    "    print(classification_report(y_test, y_pred, digits=4))\n",
    "    print(confusion_matrix(y_test, y_pred))"
   ]
  },
  {
   "cell_type": "code",
   "execution_count": 39,
   "metadata": {},
   "outputs": [
    {
     "name": "stdout",
     "output_type": "stream",
     "text": [
      "Best parameters: {'alpha': 1.0}\n",
      "Best accuracy score: 0.6006708917165915\n",
      "Best Hyperparameters: {'alpha': 1.0}\n",
      "Best accuracy score: 0.6006708917165915\n",
      "              precision    recall  f1-score   support\n",
      "\n",
      "           0     0.5568    0.6877    0.6154       285\n",
      "           1     0.6307    0.4935    0.5537       308\n",
      "\n",
      "    accuracy                         0.5868       593\n",
      "   macro avg     0.5938    0.5906    0.5846       593\n",
      "weighted avg     0.5952    0.5868    0.5834       593\n",
      "\n",
      "[[196  89]\n",
      " [156 152]]\n",
      "None\n"
     ]
    }
   ],
   "source": [
    "# Using tfidf vectorizer\n",
    "print(bnb_model(X_train_idf, y_train, X_test_1_idf, y_test_1))"
   ]
  },
  {
   "attachments": {},
   "cell_type": "markdown",
   "metadata": {},
   "source": [
    "#### MLP Classifier"
   ]
  },
  {
   "cell_type": "code",
   "execution_count": 40,
   "metadata": {},
   "outputs": [],
   "source": [
    "# Using MLP Classifier (with GridSearchCV to find the best hyperparameters)\n",
    "def mlp_model(X_train_vec, y_train, X_test_vec, y_test):\n",
    "    mlp = MLPClassifier()\n",
    "    params = {\n",
    "      'hidden_layer_sizes': [(100,), (50, 50), (100, 50)],\n",
    "      'activation': ['relu', 'tanh', 'logistic'],\n",
    "      'alpha': [0.0001, 0.001, 0.01]\n",
    "      }\n",
    "\n",
    "    grid_search = GridSearchCV(mlp, params, cv=5,n_jobs=-1)\n",
    "    grid_search.fit(X_train_vec, y_train)\n",
    "    print(\"Best parameters:\", grid_search.best_params_)\n",
    "    print(\"Best accuracy score:\", grid_search.best_score_)\n",
    "\n",
    "    # Use best hyperparameters to fit a model\n",
    "    best_mlp = grid_search.best_estimator_\n",
    "    best_mlp.fit(X_train_vec, y_train)\n",
    "\n",
    "    # Use the fitted model to predict on test data\n",
    "    y_pred = best_mlp.predict(X_test_vec)\n",
    "\n",
    "    print(\"Best Hyperparameters:\", grid_search.best_params_)\n",
    "    print(\"Best accuracy score:\", grid_search.best_score_)\n",
    "    print(classification_report(y_test, y_pred, digits=4))\n",
    "    print(confusion_matrix(y_test, y_pred))"
   ]
  },
  {
   "cell_type": "code",
   "execution_count": 41,
   "metadata": {},
   "outputs": [
    {
     "name": "stderr",
     "output_type": "stream",
     "text": [
      "C:\\Users\\lvshu\\AppData\\Local\\Packages\\PythonSoftwareFoundation.Python.3.10_qbz5n2kfra8p0\\LocalCache\\local-packages\\Python310\\site-packages\\sklearn\\neural_network\\_multilayer_perceptron.py:702: ConvergenceWarning: Stochastic Optimizer: Maximum iterations (200) reached and the optimization hasn't converged yet.\n",
      "  warnings.warn(\n"
     ]
    },
    {
     "name": "stdout",
     "output_type": "stream",
     "text": [
      "Best parameters: {'activation': 'logistic', 'alpha': 0.01, 'hidden_layer_sizes': (100,)}\n",
      "Best accuracy score: 0.563447895373429\n",
      "Best Hyperparameters: {'activation': 'logistic', 'alpha': 0.01, 'hidden_layer_sizes': (100,)}\n",
      "Best accuracy score: 0.563447895373429\n",
      "              precision    recall  f1-score   support\n",
      "\n",
      "           0     0.5000    0.4737    0.4865       285\n",
      "           1     0.5356    0.5617    0.5483       308\n",
      "\n",
      "    accuracy                         0.5194       593\n",
      "   macro avg     0.5178    0.5177    0.5174       593\n",
      "weighted avg     0.5185    0.5194    0.5186       593\n",
      "\n",
      "[[135 150]\n",
      " [135 173]]\n",
      "None\n"
     ]
    },
    {
     "name": "stderr",
     "output_type": "stream",
     "text": [
      "C:\\Users\\lvshu\\AppData\\Local\\Packages\\PythonSoftwareFoundation.Python.3.10_qbz5n2kfra8p0\\LocalCache\\local-packages\\Python310\\site-packages\\sklearn\\neural_network\\_multilayer_perceptron.py:702: ConvergenceWarning: Stochastic Optimizer: Maximum iterations (200) reached and the optimization hasn't converged yet.\n",
      "  warnings.warn(\n"
     ]
    }
   ],
   "source": [
    "# Using hashing vectorizer\n",
    "print(mlp_model(X_train_hash, y_train, X_test_1_hash, y_test_1))"
   ]
  },
  {
   "cell_type": "code",
   "execution_count": 11,
   "metadata": {},
   "outputs": [
    {
     "name": "stdout",
     "output_type": "stream",
     "text": [
      "[0] [1]\n"
     ]
    },
    {
     "name": "stderr",
     "output_type": "stream",
     "text": [
      "C:\\Users\\lvshu\\AppData\\Local\\Packages\\PythonSoftwareFoundation.Python.3.10_qbz5n2kfra8p0\\LocalCache\\local-packages\\Python310\\site-packages\\sklearn\\neural_network\\_multilayer_perceptron.py:702: ConvergenceWarning: Stochastic Optimizer: Maximum iterations (200) reached and the optimization hasn't converged yet.\n",
      "  warnings.warn(\n"
     ]
    }
   ],
   "source": [
    "# Test for an instance which does not belongs any dataset\n",
    "sentence_1 = [preprocessing_text(\"MUGGLES NOT WELCOME\")]\n",
    "sentence_2 = [preprocessing_text(\"MUGGLES NOT WELCOME👊\")]\n",
    "svec_1 = hash_vectorizer.transform(sentence_1)\n",
    "svec_2 = hash_vectorizer.transform(sentence_2)\n",
    "\n",
    "mlp3 = MLPClassifier(activation='logistic', alpha=0.01, hidden_layer_sizes=(100,))\n",
    "mlp3.fit(X_train_hash, y_train)\n",
    "y_pred_1 = mlp3.predict(svec_1)\n",
    "y_pred_2 = mlp3.predict(svec_2)\n",
    "print(y_pred_1, y_pred_2)"
   ]
  },
  {
   "cell_type": "code",
   "execution_count": 42,
   "metadata": {},
   "outputs": [
    {
     "name": "stderr",
     "output_type": "stream",
     "text": [
      "C:\\Users\\lvshu\\AppData\\Local\\Packages\\PythonSoftwareFoundation.Python.3.10_qbz5n2kfra8p0\\LocalCache\\local-packages\\Python310\\site-packages\\sklearn\\neural_network\\_multilayer_perceptron.py:702: ConvergenceWarning: Stochastic Optimizer: Maximum iterations (200) reached and the optimization hasn't converged yet.\n",
      "  warnings.warn(\n"
     ]
    },
    {
     "name": "stdout",
     "output_type": "stream",
     "text": [
      "Best parameters: {'activation': 'logistic', 'alpha': 0.01, 'hidden_layer_sizes': (100,)}\n",
      "Best accuracy score: 0.6106340050502551\n",
      "Best Hyperparameters: {'activation': 'logistic', 'alpha': 0.01, 'hidden_layer_sizes': (100,)}\n",
      "Best accuracy score: 0.6106340050502551\n",
      "              precision    recall  f1-score   support\n",
      "\n",
      "           0     0.5690    0.5930    0.5808       285\n",
      "           1     0.6081    0.5844    0.5960       308\n",
      "\n",
      "    accuracy                         0.5885       593\n",
      "   macro avg     0.5886    0.5887    0.5884       593\n",
      "weighted avg     0.5893    0.5885    0.5887       593\n",
      "\n",
      "[[169 116]\n",
      " [128 180]]\n",
      "None\n"
     ]
    },
    {
     "name": "stderr",
     "output_type": "stream",
     "text": [
      "C:\\Users\\lvshu\\AppData\\Local\\Packages\\PythonSoftwareFoundation.Python.3.10_qbz5n2kfra8p0\\LocalCache\\local-packages\\Python310\\site-packages\\sklearn\\neural_network\\_multilayer_perceptron.py:702: ConvergenceWarning: Stochastic Optimizer: Maximum iterations (200) reached and the optimization hasn't converged yet.\n",
      "  warnings.warn(\n"
     ]
    }
   ],
   "source": [
    "# Using tfidf vectorizer\n",
    "print(mlp_model(X_train_idf, y_train, X_test_1_idf, y_test_1))"
   ]
  },
  {
   "cell_type": "code",
   "execution_count": 43,
   "metadata": {},
   "outputs": [
    {
     "name": "stdout",
     "output_type": "stream",
     "text": [
      "Best parameters: {'activation': 'relu', 'alpha': 0.01, 'hidden_layer_sizes': (100, 50)}\n",
      "Best accuracy score: 0.5335573175648435\n",
      "Best Hyperparameters: {'activation': 'relu', 'alpha': 0.01, 'hidden_layer_sizes': (100, 50)}\n",
      "Best accuracy score: 0.5335573175648435\n",
      "              precision    recall  f1-score   support\n",
      "\n",
      "           0     0.5044    0.8070    0.6208       285\n",
      "           1     0.5985    0.2662    0.3685       308\n",
      "\n",
      "    accuracy                         0.5261       593\n",
      "   macro avg     0.5515    0.5366    0.4947       593\n",
      "weighted avg     0.5533    0.5261    0.4898       593\n",
      "\n",
      "[[230  55]\n",
      " [226  82]]\n",
      "None\n"
     ]
    }
   ],
   "source": [
    "# Using fasttext\n",
    "print(mlp_model(X_train_fast, y_train, X_test_1_fast, y_test_1))"
   ]
  },
  {
   "attachments": {},
   "cell_type": "markdown",
   "metadata": {},
   "source": [
    "#### FastText Supervised Model"
   ]
  },
  {
   "cell_type": "code",
   "execution_count": 44,
   "metadata": {},
   "outputs": [],
   "source": [
    "# Using supervised model in fasttext directly\n",
    "train_data = \"train_data_1.txt\"\n",
    "model_path = \"emoji_based_hate_speech_model_1_2.bin\"\n",
    "\n",
    "# Define the parameters for training\n",
    "lr = 0.1 \n",
    "dim = 100 \n",
    "epoch = 25\n",
    "\n",
    "model = fasttext.train_supervised(input=train_data, lr=lr, dim=dim, epoch=epoch)\n",
    "model.save_model(model_path)"
   ]
  },
  {
   "cell_type": "code",
   "execution_count": 45,
   "metadata": {},
   "outputs": [
    {
     "name": "stdout",
     "output_type": "stream",
     "text": [
      "(591, 0.5532994923857868, 0.5532994923857868)\n"
     ]
    }
   ],
   "source": [
    "# Evaluate the model with Kirk's data\n",
    "test_data_1 = \"test_data_1_1.txt\"\n",
    "\n",
    "result = model.test(test_data_1)\n",
    "\n",
    "print(result)"
   ]
  },
  {
   "attachments": {},
   "cell_type": "markdown",
   "metadata": {},
   "source": [
    "### Test 1.1.2 Binary classifier that are trained by Kirk's data and tested by our own data"
   ]
  },
  {
   "attachments": {},
   "cell_type": "markdown",
   "metadata": {},
   "source": [
    "- df (using Kirk's \" train + validation\" data as the training data)\\\n",
    "training dataset =  Krik train + Krik validation (5319 messages)\n",
    "\n",
    "- df2: (usingour own annotated data as the testing data)\\\n",
    "test dataset = TikTok + YouTube dataset (200 messages)"
   ]
  },
  {
   "cell_type": "code",
   "execution_count": 12,
   "metadata": {},
   "outputs": [],
   "source": [
    "df2_test = pd.read_csv(\"../Training_machine_learning_model/Annotate_Dataset/comments_annotated.csv\")\n",
    "dic = {'Hated':1, 'Non-Hated':0}\n",
    "df2_test['Tag_Nalin'] = df2_test['Tag_Nalin'].map(dic)"
   ]
  },
  {
   "cell_type": "code",
   "execution_count": 47,
   "metadata": {},
   "outputs": [],
   "source": [
    "# Prepare the data for training and testing (lowercase the letters)\n",
    "X_test_2 = df2_test['Comment'].apply(lambda x: (preprocessing_text(x)))\n",
    "y_test_2 = df2_test['Tag_Nalin']"
   ]
  },
  {
   "cell_type": "code",
   "execution_count": 48,
   "metadata": {},
   "outputs": [],
   "source": [
    "# Hashing Vectorizer\n",
    "X_test_2_hash = hash_vectorizer.transform(X_test_2)\n",
    "\n",
    "# Tfidf Vectorizer\n",
    "X_test_2_idf = idf_vectorizer.transform(X_test_2)\n"
   ]
  },
  {
   "cell_type": "code",
   "execution_count": 49,
   "metadata": {},
   "outputs": [],
   "source": [
    "# Process the data for fasttext\n",
    "\n",
    "df2_test['test_data'] = '__label__' + df2_test['Tag_Nalin'].astype(str) + ' ' + df2_test['Comment'].apply(lambda x: (preprocessing_text(x)))\n",
    "df2_test['test_data'].to_csv('test_data_1_2.txt', index=False, header=False, sep='\\t')"
   ]
  },
  {
   "cell_type": "code",
   "execution_count": 50,
   "metadata": {},
   "outputs": [],
   "source": [
    "# Using fasttext to train the word vector\n",
    "X_test_2_fast = np.vstack(encode_text_with_fasttext(X_test_2).values)"
   ]
  },
  {
   "attachments": {},
   "cell_type": "markdown",
   "metadata": {},
   "source": [
    "#### Logistic Regression"
   ]
  },
  {
   "cell_type": "code",
   "execution_count": 51,
   "metadata": {},
   "outputs": [
    {
     "name": "stdout",
     "output_type": "stream",
     "text": [
      "Best Hyperparameters: {'C': 0.1, 'class_weight': 'balanced', 'max_iter': 100, 'penalty': 'l2', 'solver': 'saga'}\n",
      "Best accuracy score: 0.5833751830186944\n",
      "              precision    recall  f1-score   support\n",
      "\n",
      "           0     0.5591    0.7100    0.6256       100\n",
      "           1     0.6027    0.4400    0.5087       100\n",
      "\n",
      "    accuracy                         0.5750       200\n",
      "   macro avg     0.5809    0.5750    0.5671       200\n",
      "weighted avg     0.5809    0.5750    0.5671       200\n",
      "\n",
      "[[71 29]\n",
      " [56 44]]\n",
      "None\n"
     ]
    }
   ],
   "source": [
    "# Using hashing vectorizer\n",
    "print(lr_model(X_train_hash, y_train, X_test_2_hash, y_test_2))"
   ]
  },
  {
   "cell_type": "code",
   "execution_count": 52,
   "metadata": {},
   "outputs": [
    {
     "name": "stdout",
     "output_type": "stream",
     "text": [
      "Best Hyperparameters: {'C': 1.0, 'class_weight': 'balanced', 'max_iter': 100, 'penalty': 'l2', 'solver': 'sag'}\n",
      "Best accuracy score: 0.6194696524943591\n",
      "              precision    recall  f1-score   support\n",
      "\n",
      "           0     0.5763    0.6800    0.6239       100\n",
      "           1     0.6098    0.5000    0.5495       100\n",
      "\n",
      "    accuracy                         0.5900       200\n",
      "   macro avg     0.5930    0.5900    0.5867       200\n",
      "weighted avg     0.5930    0.5900    0.5867       200\n",
      "\n",
      "[[68 32]\n",
      " [50 50]]\n",
      "None\n"
     ]
    }
   ],
   "source": [
    "# Using tfidf vectorizer\n",
    "print(lr_model(X_train_idf, y_train, X_test_2_idf, y_test_2))"
   ]
  },
  {
   "cell_type": "code",
   "execution_count": 53,
   "metadata": {},
   "outputs": [
    {
     "name": "stdout",
     "output_type": "stream",
     "text": [
      "Best Hyperparameters: {'C': 1.0, 'class_weight': 'balanced', 'max_iter': 100, 'penalty': 'l2', 'solver': 'sag'}\n",
      "Best accuracy score: 0.5337421045558393\n",
      "              precision    recall  f1-score   support\n",
      "\n",
      "           0     0.0000    0.0000    0.0000       100\n",
      "           1     0.5000    1.0000    0.6667       100\n",
      "\n",
      "    accuracy                         0.5000       200\n",
      "   macro avg     0.2500    0.5000    0.3333       200\n",
      "weighted avg     0.2500    0.5000    0.3333       200\n",
      "\n",
      "[[  0 100]\n",
      " [  0 100]]\n",
      "None\n"
     ]
    },
    {
     "name": "stderr",
     "output_type": "stream",
     "text": [
      "C:\\Users\\lvshu\\AppData\\Local\\Packages\\PythonSoftwareFoundation.Python.3.10_qbz5n2kfra8p0\\LocalCache\\local-packages\\Python310\\site-packages\\sklearn\\metrics\\_classification.py:1334: UndefinedMetricWarning: Precision and F-score are ill-defined and being set to 0.0 in labels with no predicted samples. Use `zero_division` parameter to control this behavior.\n",
      "  _warn_prf(average, modifier, msg_start, len(result))\n",
      "C:\\Users\\lvshu\\AppData\\Local\\Packages\\PythonSoftwareFoundation.Python.3.10_qbz5n2kfra8p0\\LocalCache\\local-packages\\Python310\\site-packages\\sklearn\\metrics\\_classification.py:1334: UndefinedMetricWarning: Precision and F-score are ill-defined and being set to 0.0 in labels with no predicted samples. Use `zero_division` parameter to control this behavior.\n",
      "  _warn_prf(average, modifier, msg_start, len(result))\n",
      "C:\\Users\\lvshu\\AppData\\Local\\Packages\\PythonSoftwareFoundation.Python.3.10_qbz5n2kfra8p0\\LocalCache\\local-packages\\Python310\\site-packages\\sklearn\\metrics\\_classification.py:1334: UndefinedMetricWarning: Precision and F-score are ill-defined and being set to 0.0 in labels with no predicted samples. Use `zero_division` parameter to control this behavior.\n",
      "  _warn_prf(average, modifier, msg_start, len(result))\n"
     ]
    }
   ],
   "source": [
    "# Using fasttext\n",
    "print(lr_model(X_train_fast, y_train, X_test_2_fast, y_test_2))"
   ]
  },
  {
   "attachments": {},
   "cell_type": "markdown",
   "metadata": {},
   "source": [
    "#### SGD Classifier"
   ]
  },
  {
   "cell_type": "code",
   "execution_count": 54,
   "metadata": {},
   "outputs": [
    {
     "name": "stdout",
     "output_type": "stream",
     "text": [
      "Best Hyperparameters: {'alpha': 0.001, 'class_weight': 'balanced', 'loss': 'hinge'}\n",
      "Best accuracy score: 0.5854419680433444\n",
      "              precision    recall  f1-score   support\n",
      "\n",
      "           0     0.5649    0.7400    0.6407       100\n",
      "           1     0.6232    0.4300    0.5089       100\n",
      "\n",
      "    accuracy                         0.5850       200\n",
      "   macro avg     0.5940    0.5850    0.5748       200\n",
      "weighted avg     0.5940    0.5850    0.5748       200\n",
      "\n",
      "[[74 26]\n",
      " [57 43]]\n",
      "None\n"
     ]
    }
   ],
   "source": [
    "# Using hashing vectorizer\n",
    "print(sgdc_model(X_train_hash, y_train, X_test_2_hash, y_test_2))"
   ]
  },
  {
   "cell_type": "code",
   "execution_count": 55,
   "metadata": {},
   "outputs": [
    {
     "name": "stdout",
     "output_type": "stream",
     "text": [
      "Best Hyperparameters: {'alpha': 0.001, 'class_weight': 'balanced', 'loss': 'modified_huber'}\n",
      "Best accuracy score: 0.61702568981249\n",
      "              precision    recall  f1-score   support\n",
      "\n",
      "           0     0.5630    0.6700    0.6119       100\n",
      "           1     0.5926    0.4800    0.5304       100\n",
      "\n",
      "    accuracy                         0.5750       200\n",
      "   macro avg     0.5778    0.5750    0.5711       200\n",
      "weighted avg     0.5778    0.5750    0.5711       200\n",
      "\n",
      "[[67 33]\n",
      " [52 48]]\n",
      "None\n"
     ]
    }
   ],
   "source": [
    "# Using tfidf vectorizer\n",
    "print(sgdc_model(X_train_idf, y_train, X_test_2_idf, y_test_2))"
   ]
  },
  {
   "cell_type": "code",
   "execution_count": 56,
   "metadata": {},
   "outputs": [
    {
     "name": "stdout",
     "output_type": "stream",
     "text": [
      "Best Hyperparameters: {'alpha': 0.1, 'class_weight': 'balanced', 'loss': 'modified_huber'}\n",
      "Best accuracy score: 0.5269755409219191\n",
      "              precision    recall  f1-score   support\n",
      "\n",
      "           0     1.0000    0.0100    0.0198       100\n",
      "           1     0.5025    1.0000    0.6689       100\n",
      "\n",
      "    accuracy                         0.5050       200\n",
      "   macro avg     0.7513    0.5050    0.3443       200\n",
      "weighted avg     0.7513    0.5050    0.3443       200\n",
      "\n",
      "[[  1  99]\n",
      " [  0 100]]\n",
      "None\n"
     ]
    }
   ],
   "source": [
    "# Using fasttext\n",
    "print(sgdc_model(X_train_fast, y_train, X_test_2_fast, y_test_2))"
   ]
  },
  {
   "attachments": {},
   "cell_type": "markdown",
   "metadata": {},
   "source": [
    "#### SVM"
   ]
  },
  {
   "cell_type": "code",
   "execution_count": 57,
   "metadata": {},
   "outputs": [
    {
     "name": "stdout",
     "output_type": "stream",
     "text": [
      "Best parameters: {'C': 1, 'gamma': 'scale', 'kernel': 'linear'}\n",
      "Best accuracy score: 0.5767939368647396\n",
      "Best Hyperparameters: {'C': 1, 'gamma': 'scale', 'kernel': 'linear'}\n",
      "Best accuracy score: 0.5767939368647396\n",
      "              precision    recall  f1-score   support\n",
      "\n",
      "           0     0.5738    0.7000    0.6306       100\n",
      "           1     0.6154    0.4800    0.5393       100\n",
      "\n",
      "    accuracy                         0.5900       200\n",
      "   macro avg     0.5946    0.5900    0.5850       200\n",
      "weighted avg     0.5946    0.5900    0.5850       200\n",
      "\n",
      "[[70 30]\n",
      " [52 48]]\n",
      "None\n"
     ]
    }
   ],
   "source": [
    "# Using hashing vectorizer\n",
    "print(svm_model(X_train_hash, y_train, X_test_2_hash, y_test_2))"
   ]
  },
  {
   "cell_type": "code",
   "execution_count": 58,
   "metadata": {},
   "outputs": [
    {
     "name": "stdout",
     "output_type": "stream",
     "text": [
      "Best parameters: {'C': 1, 'gamma': 'scale', 'kernel': 'linear'}\n",
      "Best accuracy score: 0.620032678120513\n",
      "Best Hyperparameters: {'C': 1, 'gamma': 'scale', 'kernel': 'linear'}\n",
      "Best accuracy score: 0.620032678120513\n",
      "              precision    recall  f1-score   support\n",
      "\n",
      "           0     0.5476    0.6900    0.6106       100\n",
      "           1     0.5811    0.4300    0.4943       100\n",
      "\n",
      "    accuracy                         0.5600       200\n",
      "   macro avg     0.5644    0.5600    0.5524       200\n",
      "weighted avg     0.5644    0.5600    0.5524       200\n",
      "\n",
      "[[69 31]\n",
      " [57 43]]\n",
      "None\n"
     ]
    }
   ],
   "source": [
    "# Using tfidf vectorizer\n",
    "print(svm_model(X_train_idf, y_train, X_test_2_idf, y_test_2))"
   ]
  },
  {
   "cell_type": "code",
   "execution_count": 59,
   "metadata": {},
   "outputs": [
    {
     "name": "stdout",
     "output_type": "stream",
     "text": [
      "Best parameters: {'C': 10, 'gamma': 'scale', 'kernel': 'rbf'}\n",
      "Best accuracy score: 0.535061961111622\n",
      "Best Hyperparameters: {'C': 10, 'gamma': 'scale', 'kernel': 'rbf'}\n",
      "Best accuracy score: 0.535061961111622\n",
      "              precision    recall  f1-score   support\n",
      "\n",
      "           0     0.5000    1.0000    0.6667       100\n",
      "           1     0.0000    0.0000    0.0000       100\n",
      "\n",
      "    accuracy                         0.5000       200\n",
      "   macro avg     0.2500    0.5000    0.3333       200\n",
      "weighted avg     0.2500    0.5000    0.3333       200\n",
      "\n",
      "[[100   0]\n",
      " [100   0]]\n",
      "None\n"
     ]
    },
    {
     "name": "stderr",
     "output_type": "stream",
     "text": [
      "C:\\Users\\lvshu\\AppData\\Local\\Packages\\PythonSoftwareFoundation.Python.3.10_qbz5n2kfra8p0\\LocalCache\\local-packages\\Python310\\site-packages\\sklearn\\metrics\\_classification.py:1334: UndefinedMetricWarning: Precision and F-score are ill-defined and being set to 0.0 in labels with no predicted samples. Use `zero_division` parameter to control this behavior.\n",
      "  _warn_prf(average, modifier, msg_start, len(result))\n",
      "C:\\Users\\lvshu\\AppData\\Local\\Packages\\PythonSoftwareFoundation.Python.3.10_qbz5n2kfra8p0\\LocalCache\\local-packages\\Python310\\site-packages\\sklearn\\metrics\\_classification.py:1334: UndefinedMetricWarning: Precision and F-score are ill-defined and being set to 0.0 in labels with no predicted samples. Use `zero_division` parameter to control this behavior.\n",
      "  _warn_prf(average, modifier, msg_start, len(result))\n",
      "C:\\Users\\lvshu\\AppData\\Local\\Packages\\PythonSoftwareFoundation.Python.3.10_qbz5n2kfra8p0\\LocalCache\\local-packages\\Python310\\site-packages\\sklearn\\metrics\\_classification.py:1334: UndefinedMetricWarning: Precision and F-score are ill-defined and being set to 0.0 in labels with no predicted samples. Use `zero_division` parameter to control this behavior.\n",
      "  _warn_prf(average, modifier, msg_start, len(result))\n"
     ]
    }
   ],
   "source": [
    "# Using fasttext\n",
    "print(svm_model(X_train_fast, y_train, X_test_2_fast, y_test_2))"
   ]
  },
  {
   "attachments": {},
   "cell_type": "markdown",
   "metadata": {},
   "source": [
    "#### Decision Tree Classifier"
   ]
  },
  {
   "cell_type": "code",
   "execution_count": 60,
   "metadata": {},
   "outputs": [
    {
     "name": "stdout",
     "output_type": "stream",
     "text": [
      "Best Hyperparameters: {'class_weight': 'balanced', 'criterion': 'gini', 'max_depth': 15, 'min_samples_leaf': 10, 'min_samples_split': 20}\n",
      "Best accuracy score: 0.5647656299733341\n",
      "              precision    recall  f1-score   support\n",
      "\n",
      "           0     0.4974    0.9400    0.6505       100\n",
      "           1     0.4545    0.0500    0.0901       100\n",
      "\n",
      "    accuracy                         0.4950       200\n",
      "   macro avg     0.4759    0.4950    0.3703       200\n",
      "weighted avg     0.4759    0.4950    0.3703       200\n",
      "\n",
      "[[94  6]\n",
      " [95  5]]\n",
      "None\n"
     ]
    }
   ],
   "source": [
    "# Using hashing vectorizer\n",
    "print(dtc_model(X_train_hash, y_train, X_test_2_hash, y_test_2))"
   ]
  },
  {
   "cell_type": "code",
   "execution_count": 61,
   "metadata": {},
   "outputs": [
    {
     "name": "stdout",
     "output_type": "stream",
     "text": [
      "Best Hyperparameters: {'class_weight': 'balanced', 'criterion': 'gini', 'max_depth': 15, 'min_samples_leaf': 1, 'min_samples_split': 20}\n",
      "Best accuracy score: 0.5850669123420028\n",
      "              precision    recall  f1-score   support\n",
      "\n",
      "           0     0.4891    0.9000    0.6338       100\n",
      "           1     0.3750    0.0600    0.1034       100\n",
      "\n",
      "    accuracy                         0.4800       200\n",
      "   macro avg     0.4321    0.4800    0.3686       200\n",
      "weighted avg     0.4321    0.4800    0.3686       200\n",
      "\n",
      "[[90 10]\n",
      " [94  6]]\n",
      "None\n"
     ]
    }
   ],
   "source": [
    "# Using tfidf vectorizer\n",
    "print(dtc_model(X_train_idf, y_train, X_test_2_idf, y_test_2))"
   ]
  },
  {
   "cell_type": "code",
   "execution_count": 62,
   "metadata": {},
   "outputs": [
    {
     "name": "stdout",
     "output_type": "stream",
     "text": [
      "Best Hyperparameters: {'class_weight': 'balanced', 'criterion': 'entropy', 'max_depth': 5, 'min_samples_leaf': 1, 'min_samples_split': 2}\n",
      "Best accuracy score: 0.5303620056726955\n",
      "              precision    recall  f1-score   support\n",
      "\n",
      "           0     0.0000    0.0000    0.0000       100\n",
      "           1     0.5000    1.0000    0.6667       100\n",
      "\n",
      "    accuracy                         0.5000       200\n",
      "   macro avg     0.2500    0.5000    0.3333       200\n",
      "weighted avg     0.2500    0.5000    0.3333       200\n",
      "\n",
      "[[  0 100]\n",
      " [  0 100]]\n",
      "None\n"
     ]
    },
    {
     "name": "stderr",
     "output_type": "stream",
     "text": [
      "C:\\Users\\lvshu\\AppData\\Local\\Packages\\PythonSoftwareFoundation.Python.3.10_qbz5n2kfra8p0\\LocalCache\\local-packages\\Python310\\site-packages\\sklearn\\metrics\\_classification.py:1334: UndefinedMetricWarning: Precision and F-score are ill-defined and being set to 0.0 in labels with no predicted samples. Use `zero_division` parameter to control this behavior.\n",
      "  _warn_prf(average, modifier, msg_start, len(result))\n",
      "C:\\Users\\lvshu\\AppData\\Local\\Packages\\PythonSoftwareFoundation.Python.3.10_qbz5n2kfra8p0\\LocalCache\\local-packages\\Python310\\site-packages\\sklearn\\metrics\\_classification.py:1334: UndefinedMetricWarning: Precision and F-score are ill-defined and being set to 0.0 in labels with no predicted samples. Use `zero_division` parameter to control this behavior.\n",
      "  _warn_prf(average, modifier, msg_start, len(result))\n",
      "C:\\Users\\lvshu\\AppData\\Local\\Packages\\PythonSoftwareFoundation.Python.3.10_qbz5n2kfra8p0\\LocalCache\\local-packages\\Python310\\site-packages\\sklearn\\metrics\\_classification.py:1334: UndefinedMetricWarning: Precision and F-score are ill-defined and being set to 0.0 in labels with no predicted samples. Use `zero_division` parameter to control this behavior.\n",
      "  _warn_prf(average, modifier, msg_start, len(result))\n"
     ]
    }
   ],
   "source": [
    "# Using fasttext\n",
    "print(dtc_model(X_train_fast, y_train, X_test_2_fast, y_test_2))"
   ]
  },
  {
   "attachments": {},
   "cell_type": "markdown",
   "metadata": {},
   "source": [
    "#### Random Forest Classifier"
   ]
  },
  {
   "cell_type": "code",
   "execution_count": 63,
   "metadata": {},
   "outputs": [
    {
     "name": "stdout",
     "output_type": "stream",
     "text": [
      "Best Hyperparameters: {'max_depth': None, 'max_features': 'sqrt', 'min_samples_leaf': 6, 'min_samples_split': 10, 'n_estimators': 150}\n",
      "Best accuracy score: 0.5846900883440964\n",
      "              precision    recall  f1-score   support\n",
      "\n",
      "           0     0.5667    0.6800    0.6182       100\n",
      "           1     0.6000    0.4800    0.5333       100\n",
      "\n",
      "    accuracy                         0.5800       200\n",
      "   macro avg     0.5833    0.5800    0.5758       200\n",
      "weighted avg     0.5833    0.5800    0.5758       200\n",
      "\n",
      "[[68 32]\n",
      " [52 48]]\n",
      "None\n"
     ]
    }
   ],
   "source": [
    "# Using hashing vectorizer\n",
    "print(rf_model(X_train_hash, y_train, X_test_2_hash, y_test_2))"
   ]
  },
  {
   "cell_type": "code",
   "execution_count": 64,
   "metadata": {},
   "outputs": [
    {
     "name": "stdout",
     "output_type": "stream",
     "text": [
      "Best Hyperparameters: {'max_depth': None, 'max_features': 'sqrt', 'min_samples_leaf': 4, 'min_samples_split': 5, 'n_estimators': 50}\n",
      "Best accuracy score: 0.6117607636211884\n",
      "              precision    recall  f1-score   support\n",
      "\n",
      "           0     0.5407    0.7300    0.6213       100\n",
      "           1     0.5846    0.3800    0.4606       100\n",
      "\n",
      "    accuracy                         0.5550       200\n",
      "   macro avg     0.5627    0.5550    0.5409       200\n",
      "weighted avg     0.5627    0.5550    0.5409       200\n",
      "\n",
      "[[73 27]\n",
      " [62 38]]\n",
      "None\n"
     ]
    }
   ],
   "source": [
    "# Using tfidf vectorizer\n",
    "print(rf_model(X_train_idf, y_train, X_test_2_idf, y_test_2))"
   ]
  },
  {
   "cell_type": "code",
   "execution_count": 65,
   "metadata": {},
   "outputs": [
    {
     "name": "stderr",
     "output_type": "stream",
     "text": [
      "C:\\Users\\lvshu\\AppData\\Local\\Packages\\PythonSoftwareFoundation.Python.3.10_qbz5n2kfra8p0\\LocalCache\\local-packages\\Python310\\site-packages\\sklearn\\ensemble\\_forest.py:427: FutureWarning: `max_features='auto'` has been deprecated in 1.1 and will be removed in 1.3. To keep the past behaviour, explicitly set `max_features='sqrt'` or remove this parameter as it is also the default value for RandomForestClassifiers and ExtraTreesClassifiers.\n",
      "  warn(\n",
      "C:\\Users\\lvshu\\AppData\\Local\\Packages\\PythonSoftwareFoundation.Python.3.10_qbz5n2kfra8p0\\LocalCache\\local-packages\\Python310\\site-packages\\sklearn\\ensemble\\_forest.py:427: FutureWarning: `max_features='auto'` has been deprecated in 1.1 and will be removed in 1.3. To keep the past behaviour, explicitly set `max_features='sqrt'` or remove this parameter as it is also the default value for RandomForestClassifiers and ExtraTreesClassifiers.\n",
      "  warn(\n"
     ]
    },
    {
     "name": "stdout",
     "output_type": "stream",
     "text": [
      "Best Hyperparameters: {'max_depth': 5, 'max_features': 'auto', 'min_samples_leaf': 1, 'min_samples_split': 2, 'n_estimators': 100}\n",
      "Best accuracy score: 0.5519796080040176\n",
      "              precision    recall  f1-score   support\n",
      "\n",
      "           0     0.6667    0.3400    0.4503       100\n",
      "           1     0.5570    0.8300    0.6667       100\n",
      "\n",
      "    accuracy                         0.5850       200\n",
      "   macro avg     0.6119    0.5850    0.5585       200\n",
      "weighted avg     0.6119    0.5850    0.5585       200\n",
      "\n",
      "[[34 66]\n",
      " [17 83]]\n",
      "None\n"
     ]
    }
   ],
   "source": [
    "# Using fasttext\n",
    "print(rf_model(X_train_fast, y_train, X_test_2_fast, y_test_2))"
   ]
  },
  {
   "attachments": {},
   "cell_type": "markdown",
   "metadata": {},
   "source": [
    "#### LightGBM"
   ]
  },
  {
   "cell_type": "code",
   "execution_count": 66,
   "metadata": {},
   "outputs": [
    {
     "name": "stdout",
     "output_type": "stream",
     "text": [
      "Best Hyperparameters: {'boosting_type': 'gbdt', 'class_weight': 'balanced', 'learning_rate': 0.05, 'max_depth': -1, 'min_child_samples': 50, 'n_estimators': 100, 'num_leaves': 31}\n",
      "Best accuracy score: 0.5901421003119275\n",
      "              precision    recall  f1-score   support\n",
      "\n",
      "           0     0.5763    0.6800    0.6239       100\n",
      "           1     0.6098    0.5000    0.5495       100\n",
      "\n",
      "    accuracy                         0.5900       200\n",
      "   macro avg     0.5930    0.5900    0.5867       200\n",
      "weighted avg     0.5930    0.5900    0.5867       200\n",
      "\n",
      "[[68 32]\n",
      " [50 50]]\n",
      "None\n"
     ]
    }
   ],
   "source": [
    "# Using hashing vectorizer\n",
    "print(lgbm_model(X_train_hash, y_train, X_test_2_hash, y_test_2))"
   ]
  },
  {
   "cell_type": "code",
   "execution_count": 67,
   "metadata": {},
   "outputs": [
    {
     "name": "stdout",
     "output_type": "stream",
     "text": [
      "Best Hyperparameters: {'boosting_type': 'gbdt', 'class_weight': 'balanced', 'learning_rate': 0.05, 'max_depth': -1, 'min_child_samples': 20, 'n_estimators': 100, 'num_leaves': 31}\n",
      "Best accuracy score: 0.6027389145488368\n",
      "              precision    recall  f1-score   support\n",
      "\n",
      "           0     0.5166    0.7800    0.6215       100\n",
      "           1     0.5510    0.2700    0.3624       100\n",
      "\n",
      "    accuracy                         0.5250       200\n",
      "   macro avg     0.5338    0.5250    0.4920       200\n",
      "weighted avg     0.5338    0.5250    0.4920       200\n",
      "\n",
      "[[78 22]\n",
      " [73 27]]\n",
      "None\n"
     ]
    }
   ],
   "source": [
    "# Using tfidf vectorizer\n",
    "print(lgbm_model(X_train_idf, y_train, X_test_2_idf, y_test_2))"
   ]
  },
  {
   "cell_type": "code",
   "execution_count": 68,
   "metadata": {},
   "outputs": [
    {
     "name": "stdout",
     "output_type": "stream",
     "text": [
      "Best Hyperparameters: {'boosting_type': 'gbdt', 'class_weight': 'balanced', 'learning_rate': 0.05, 'max_depth': -1, 'min_child_samples': 100, 'n_estimators': 100, 'num_leaves': 31}\n",
      "Best accuracy score: 0.5453990691686885\n",
      "              precision    recall  f1-score   support\n",
      "\n",
      "           0     0.5104    0.4900    0.5000       100\n",
      "           1     0.5096    0.5300    0.5196       100\n",
      "\n",
      "    accuracy                         0.5100       200\n",
      "   macro avg     0.5100    0.5100    0.5098       200\n",
      "weighted avg     0.5100    0.5100    0.5098       200\n",
      "\n",
      "[[49 51]\n",
      " [47 53]]\n",
      "None\n"
     ]
    }
   ],
   "source": [
    "# Using fasttext\n",
    "print(lgbm_model(X_train_fast, y_train, X_test_2_fast, y_test_2))"
   ]
  },
  {
   "attachments": {},
   "cell_type": "markdown",
   "metadata": {},
   "source": [
    "#### BernoulliNB"
   ]
  },
  {
   "cell_type": "code",
   "execution_count": 69,
   "metadata": {},
   "outputs": [
    {
     "name": "stdout",
     "output_type": "stream",
     "text": [
      "Best parameters: {'alpha': 1.0}\n",
      "Best accuracy score: 0.6006708917165915\n",
      "Best Hyperparameters: {'alpha': 1.0}\n",
      "Best accuracy score: 0.6006708917165915\n",
      "              precision    recall  f1-score   support\n",
      "\n",
      "           0     0.5248    0.7400    0.6141       100\n",
      "           1     0.5593    0.3300    0.4151       100\n",
      "\n",
      "    accuracy                         0.5350       200\n",
      "   macro avg     0.5421    0.5350    0.5146       200\n",
      "weighted avg     0.5421    0.5350    0.5146       200\n",
      "\n",
      "[[74 26]\n",
      " [67 33]]\n",
      "None\n"
     ]
    }
   ],
   "source": [
    "# Using tfidf vectorizer\n",
    "print(bnb_model(X_train_idf, y_train, X_test_2_idf, y_test_2))"
   ]
  },
  {
   "attachments": {},
   "cell_type": "markdown",
   "metadata": {},
   "source": [
    "#### MLPClassifier"
   ]
  },
  {
   "cell_type": "code",
   "execution_count": 70,
   "metadata": {},
   "outputs": [
    {
     "name": "stderr",
     "output_type": "stream",
     "text": [
      "C:\\Users\\lvshu\\AppData\\Local\\Packages\\PythonSoftwareFoundation.Python.3.10_qbz5n2kfra8p0\\LocalCache\\local-packages\\Python310\\site-packages\\sklearn\\neural_network\\_multilayer_perceptron.py:702: ConvergenceWarning: Stochastic Optimizer: Maximum iterations (200) reached and the optimization hasn't converged yet.\n",
      "  warnings.warn(\n"
     ]
    },
    {
     "name": "stdout",
     "output_type": "stream",
     "text": [
      "Best parameters: {'activation': 'logistic', 'alpha': 0.01, 'hidden_layer_sizes': (100,)}\n",
      "Best accuracy score: 0.5662663832676705\n",
      "Best Hyperparameters: {'activation': 'logistic', 'alpha': 0.01, 'hidden_layer_sizes': (100,)}\n",
      "Best accuracy score: 0.5662663832676705\n",
      "              precision    recall  f1-score   support\n",
      "\n",
      "           0     0.5847    0.6900    0.6330       100\n",
      "           1     0.6220    0.5100    0.5604       100\n",
      "\n",
      "    accuracy                         0.6000       200\n",
      "   macro avg     0.6033    0.6000    0.5967       200\n",
      "weighted avg     0.6033    0.6000    0.5967       200\n",
      "\n",
      "[[69 31]\n",
      " [49 51]]\n",
      "None\n"
     ]
    },
    {
     "name": "stderr",
     "output_type": "stream",
     "text": [
      "C:\\Users\\lvshu\\AppData\\Local\\Packages\\PythonSoftwareFoundation.Python.3.10_qbz5n2kfra8p0\\LocalCache\\local-packages\\Python310\\site-packages\\sklearn\\neural_network\\_multilayer_perceptron.py:702: ConvergenceWarning: Stochastic Optimizer: Maximum iterations (200) reached and the optimization hasn't converged yet.\n",
      "  warnings.warn(\n"
     ]
    }
   ],
   "source": [
    "# Using hashing vectorizer\n",
    "print(mlp_model(X_train_hash, y_train, X_test_2_hash, y_test_2))"
   ]
  },
  {
   "cell_type": "code",
   "execution_count": 71,
   "metadata": {},
   "outputs": [
    {
     "name": "stderr",
     "output_type": "stream",
     "text": [
      "C:\\Users\\lvshu\\AppData\\Local\\Packages\\PythonSoftwareFoundation.Python.3.10_qbz5n2kfra8p0\\LocalCache\\local-packages\\Python310\\site-packages\\sklearn\\neural_network\\_multilayer_perceptron.py:702: ConvergenceWarning: Stochastic Optimizer: Maximum iterations (200) reached and the optimization hasn't converged yet.\n",
      "  warnings.warn(\n"
     ]
    },
    {
     "name": "stdout",
     "output_type": "stream",
     "text": [
      "Best parameters: {'activation': 'logistic', 'alpha': 0.01, 'hidden_layer_sizes': (100,)}\n",
      "Best accuracy score: 0.6125142347873447\n",
      "Best Hyperparameters: {'activation': 'logistic', 'alpha': 0.01, 'hidden_layer_sizes': (100,)}\n",
      "Best accuracy score: 0.6125142347873447\n",
      "              precision    recall  f1-score   support\n",
      "\n",
      "           0     0.5612    0.7800    0.6527       100\n",
      "           1     0.6393    0.3900    0.4845       100\n",
      "\n",
      "    accuracy                         0.5850       200\n",
      "   macro avg     0.6002    0.5850    0.5686       200\n",
      "weighted avg     0.6002    0.5850    0.5686       200\n",
      "\n",
      "[[78 22]\n",
      " [61 39]]\n",
      "None\n"
     ]
    },
    {
     "name": "stderr",
     "output_type": "stream",
     "text": [
      "C:\\Users\\lvshu\\AppData\\Local\\Packages\\PythonSoftwareFoundation.Python.3.10_qbz5n2kfra8p0\\LocalCache\\local-packages\\Python310\\site-packages\\sklearn\\neural_network\\_multilayer_perceptron.py:702: ConvergenceWarning: Stochastic Optimizer: Maximum iterations (200) reached and the optimization hasn't converged yet.\n",
      "  warnings.warn(\n"
     ]
    }
   ],
   "source": [
    "# Using tfidf vectorizer\n",
    "print(mlp_model(X_train_idf, y_train, X_test_2_idf, y_test_2))"
   ]
  },
  {
   "cell_type": "code",
   "execution_count": 72,
   "metadata": {},
   "outputs": [
    {
     "name": "stdout",
     "output_type": "stream",
     "text": [
      "Best parameters: {'activation': 'relu', 'alpha': 0.0001, 'hidden_layer_sizes': (50, 50)}\n",
      "Best accuracy score: 0.5369393615742084\n",
      "Best Hyperparameters: {'activation': 'relu', 'alpha': 0.0001, 'hidden_layer_sizes': (50, 50)}\n",
      "Best accuracy score: 0.5369393615742084\n",
      "              precision    recall  f1-score   support\n",
      "\n",
      "           0     0.0000    0.0000    0.0000       100\n",
      "           1     0.5000    1.0000    0.6667       100\n",
      "\n",
      "    accuracy                         0.5000       200\n",
      "   macro avg     0.2500    0.5000    0.3333       200\n",
      "weighted avg     0.2500    0.5000    0.3333       200\n",
      "\n",
      "[[  0 100]\n",
      " [  0 100]]\n",
      "None\n"
     ]
    },
    {
     "name": "stderr",
     "output_type": "stream",
     "text": [
      "C:\\Users\\lvshu\\AppData\\Local\\Packages\\PythonSoftwareFoundation.Python.3.10_qbz5n2kfra8p0\\LocalCache\\local-packages\\Python310\\site-packages\\sklearn\\metrics\\_classification.py:1334: UndefinedMetricWarning: Precision and F-score are ill-defined and being set to 0.0 in labels with no predicted samples. Use `zero_division` parameter to control this behavior.\n",
      "  _warn_prf(average, modifier, msg_start, len(result))\n",
      "C:\\Users\\lvshu\\AppData\\Local\\Packages\\PythonSoftwareFoundation.Python.3.10_qbz5n2kfra8p0\\LocalCache\\local-packages\\Python310\\site-packages\\sklearn\\metrics\\_classification.py:1334: UndefinedMetricWarning: Precision and F-score are ill-defined and being set to 0.0 in labels with no predicted samples. Use `zero_division` parameter to control this behavior.\n",
      "  _warn_prf(average, modifier, msg_start, len(result))\n",
      "C:\\Users\\lvshu\\AppData\\Local\\Packages\\PythonSoftwareFoundation.Python.3.10_qbz5n2kfra8p0\\LocalCache\\local-packages\\Python310\\site-packages\\sklearn\\metrics\\_classification.py:1334: UndefinedMetricWarning: Precision and F-score are ill-defined and being set to 0.0 in labels with no predicted samples. Use `zero_division` parameter to control this behavior.\n",
      "  _warn_prf(average, modifier, msg_start, len(result))\n"
     ]
    }
   ],
   "source": [
    "# Using fasttext\n",
    "print(mlp_model(X_train_fast, y_train, X_test_2_fast, y_test_2))"
   ]
  },
  {
   "attachments": {},
   "cell_type": "markdown",
   "metadata": {},
   "source": [
    "#### FastText Supervised Model"
   ]
  },
  {
   "cell_type": "code",
   "execution_count": 73,
   "metadata": {},
   "outputs": [
    {
     "name": "stdout",
     "output_type": "stream",
     "text": [
      "(200, 0.595, 0.595)\n"
     ]
    }
   ],
   "source": [
    "# Evaluate the model with our data\n",
    "test_data_2 = \"test_data_1_2.txt\"\n",
    "\n",
    "result = model.test(test_data_2)\n",
    "\n",
    "print(result)"
   ]
  },
  {
   "attachments": {},
   "cell_type": "markdown",
   "metadata": {},
   "source": [
    "## Test 1.2 Multiclass classifiers that can distinguish the types of the comments"
   ]
  },
  {
   "attachments": {},
   "cell_type": "markdown",
   "metadata": {},
   "source": [
    "### Test 1.2.1 Multiclass classifiers that are trained and tested by Kirk's data"
   ]
  },
  {
   "attachments": {},
   "cell_type": "markdown",
   "metadata": {},
   "source": [
    "- df (using Kirk's \" train + validation\" data as the training data)\\\n",
    "training dataset =  Krik train + Krik validation (5319 messages)\n",
    "\n",
    "- df1 (using Kirk's \"test\" data as the testing data)\\\n",
    "test dataset = Krik test (593 messages)"
   ]
  },
  {
   "cell_type": "code",
   "execution_count": 13,
   "metadata": {},
   "outputs": [],
   "source": [
    "# Encoding categorical variables\n",
    "label_encoder = preprocessing.LabelEncoder() \n",
    "df_train['type'] = label_encoder.fit_transform(df_train['type'])\n",
    "df1_test['type'] = label_encoder.fit_transform(df1_test['type'])"
   ]
  },
  {
   "cell_type": "code",
   "execution_count": 14,
   "metadata": {},
   "outputs": [
    {
     "name": "stdout",
     "output_type": "stream",
     "text": [
      "Type: 0, Type label: ['animosity']\n",
      "Type: 1, Type label: ['dehumanizinglanguage']\n",
      "Type: 2, Type label: ['derogation']\n",
      "Type: 3, Type label: ['none']\n",
      "Type: 4, Type label: ['threateninglanguage']\n"
     ]
    }
   ],
   "source": [
    "# Get the type with its type label\n",
    "df_train['type_label'] = label_encoder.inverse_transform(df_train['type'])\n",
    "unique_labels = df_train.groupby('type')['type_label'].agg(lambda x: x.unique().tolist())\n",
    "\n",
    "for type_, label in unique_labels.items():\n",
    "    print(f\"Type: {type_}, Type label: {label}\")"
   ]
  },
  {
   "cell_type": "code",
   "execution_count": 15,
   "metadata": {},
   "outputs": [
    {
     "data": {
      "text/plain": [
       "none                    2662\n",
       "derogation              1758\n",
       "animosity                513\n",
       "dehumanizinglanguage     205\n",
       "threateninglanguage      181\n",
       "Name: type_label, dtype: int64"
      ]
     },
     "execution_count": 15,
     "metadata": {},
     "output_type": "execute_result"
    }
   ],
   "source": [
    "df_train['type_label'].value_counts()"
   ]
  },
  {
   "cell_type": "code",
   "execution_count": 77,
   "metadata": {},
   "outputs": [],
   "source": [
    "X_train = df_train['text'].apply((lambda x: preprocessing_text(x)))\n",
    "y_train = df_train['type']\n",
    "X_test = df1_test['text'].apply((lambda x: preprocessing_text(x)))\n",
    "y_test = df1_test['type']"
   ]
  },
  {
   "cell_type": "code",
   "execution_count": 78,
   "metadata": {},
   "outputs": [],
   "source": [
    "# Hashing Vectorizer\n",
    "X_train_hash = hash_vectorizer.fit_transform(X_train)\n",
    "X_test_hash = hash_vectorizer.transform(X_test)\n",
    "\n",
    "# Tfidf Vectorizer\n",
    "X_train_idf = idf_vectorizer.fit_transform(X_train)\n",
    "X_test_idf = idf_vectorizer.transform(X_test)"
   ]
  },
  {
   "cell_type": "code",
   "execution_count": 79,
   "metadata": {},
   "outputs": [],
   "source": [
    "# Process the data for fasttext\n",
    "df_train['train_data'] = '__label__' + df_train['type'].astype(str) + ' ' + df_train['text'].apply(lambda x: (preprocessing_text(x)))\n",
    "df_train['train_data'].to_csv('train_data_2_1.txt', index=False, header=False, sep='\\t')\n",
    "\n",
    "df1_test['test_data'] = '__label__' + df1_test['type'].astype(str) + ' ' + df1_test['text'].apply(lambda x: (preprocessing_text(x)))\n",
    "df1_test['test_data'].to_csv('test_data_2_1.txt', index=False, header=False, sep='\\t')"
   ]
  },
  {
   "cell_type": "code",
   "execution_count": 80,
   "metadata": {},
   "outputs": [],
   "source": [
    "# Using fasttext to train the word vector\n",
    "train_data = \"train_data_2_1.txt\"\n",
    "model_path = \"emoji_based_hate_speech_model_2_1_1.bin\"\n",
    "\n",
    "model = fasttext.train_unsupervised(train_data, dim=100)\n",
    "model.save_model(model_path)\n",
    "\n",
    "def encode_text_with_fasttext(series):\n",
    "    encoded_data = series.apply(lambda x: model.get_sentence_vector(x.replace('\\n', ' ')))\n",
    "    return encoded_data\n",
    "\n",
    "X_train_fast = np.vstack(encode_text_with_fasttext(X_train).values)\n",
    "X_test_fast = np.vstack(encode_text_with_fasttext(X_test).values)"
   ]
  },
  {
   "cell_type": "code",
   "execution_count": 81,
   "metadata": {},
   "outputs": [],
   "source": [
    "from sklearn.multiclass import OneVsRestClassifier\n",
    "from imblearn.over_sampling import SMOTE #SMOTE is an oversampling technique that generates synthetic samples from the minority class."
   ]
  },
  {
   "attachments": {},
   "cell_type": "markdown",
   "metadata": {},
   "source": [
    "#### Logistic Regression"
   ]
  },
  {
   "cell_type": "code",
   "execution_count": 82,
   "metadata": {},
   "outputs": [],
   "source": [
    "# With SMOTE strategy\n",
    "def lr_test_model(X_train_vec, y_train, X_test_vec, y_test):\n",
    "    lr_test_model = LogisticRegression()\n",
    "\n",
    "    params = {\n",
    "        'C': [0.001, 0.01, 0.1, 1.0, 10.0, 100.0],\n",
    "        'penalty': ['l2'],\n",
    "        'solver': ['newton-cg', 'sag', 'saga', 'lbfgs'],\n",
    "        'class_weight': ['balanced'],\n",
    "        'max_iter': [1000, 3000],\n",
    "        'multi_class': ['multinomial']\n",
    "    }\n",
    "\n",
    "    smote = SMOTE()\n",
    "    X_train_oversampled, y_train_oversampled = smote.fit_resample(X_train_vec, y_train)\n",
    "                              \n",
    "    grid_search = GridSearchCV(lr_test_model, params, cv=5, n_jobs=-1)\n",
    "    grid_search.fit(X_train_oversampled, y_train_oversampled)\n",
    "\n",
    "    # Use best hyperparameters to fit a model\n",
    "    best_lr_test_model = grid_search.best_estimator_\n",
    "    best_lr_test_model.fit(X_train_oversampled, y_train_oversampled)\n",
    "\n",
    "    # Use the fitted model to predict on test data\n",
    "    y_pred = best_lr_test_model.predict(X_test_vec)\n",
    "\n",
    "    print(\"Best Hyperparameters:\", grid_search.best_params_)\n",
    "    print(\"Best accuracy score:\", grid_search.best_score_)\n",
    "    print(classification_report(y_test, y_pred, digits=4))\n",
    "    print(confusion_matrix(y_test, y_pred))\n"
   ]
  },
  {
   "cell_type": "code",
   "execution_count": 83,
   "metadata": {},
   "outputs": [
    {
     "name": "stdout",
     "output_type": "stream",
     "text": [
      "Best Hyperparameters: {'C': 100.0, 'class_weight': 'balanced', 'max_iter': 1000, 'multi_class': 'multinomial', 'penalty': 'l2', 'solver': 'sag'}\n",
      "Best accuracy score: 0.7517655897821187\n",
      "              precision    recall  f1-score   support\n",
      "\n",
      "           0     0.1698    0.3273    0.2236        55\n",
      "           1     0.2564    0.3571    0.2985        28\n",
      "           2     0.3803    0.3990    0.3894       203\n",
      "           3     0.4776    0.3368    0.3951       285\n",
      "           4     0.2059    0.3182    0.2500        22\n",
      "\n",
      "    accuracy                         0.3575       593\n",
      "   macro avg     0.2980    0.3477    0.3113       593\n",
      "weighted avg     0.3952    0.3575    0.3673       593\n",
      "\n",
      "[[ 18   2  16  18   1]\n",
      " [  1  10  10   7   0]\n",
      " [ 27  12  81  72  11]\n",
      " [ 59  13 102  96  15]\n",
      " [  1   2   4   8   7]]\n",
      "None\n"
     ]
    }
   ],
   "source": [
    "# Using hashing vectorizer\n",
    "print(lr_test_model(X_train_hash, y_train, X_test_hash, y_test))"
   ]
  },
  {
   "cell_type": "code",
   "execution_count": 84,
   "metadata": {},
   "outputs": [],
   "source": [
    "# Without SMOTE strategy\n",
    "def lr2_model(X_train_vec, y_train, X_test_vec, y_test):\n",
    "    lr2 = LogisticRegression()\n",
    "\n",
    "    params = {\n",
    "        'C': [0.001, 0.01, 0.1, 1.0, 10.0, 100.0],\n",
    "        'penalty': ['l2'],\n",
    "        'solver': ['newton-cg', 'sag', 'saga', 'lbfgs'],\n",
    "        'class_weight': ['balanced'],\n",
    "        'max_iter': [1000, 3000],\n",
    "        'multi_class': ['multinomial']\n",
    "    }\n",
    "                              \n",
    "    grid_search = GridSearchCV(lr2, params, cv=5, n_jobs=-1)\n",
    "    grid_search.fit(X_train_vec, y_train)\n",
    "\n",
    "    # Use best hyperparameters to fit a model\n",
    "    best_lr2 = grid_search.best_estimator_\n",
    "    best_lr2.fit(X_train_vec, y_train)\n",
    "\n",
    "    # Use the fitted model to predict on test data\n",
    "    y_pred = best_lr2.predict(X_test_vec)\n",
    "\n",
    "    print(\"Best Hyperparameters:\", grid_search.best_params_)\n",
    "    print(\"Best accuracy score:\", grid_search.best_score_)\n",
    "    print(classification_report(y_test, y_pred, digits=4))\n",
    "    print(confusion_matrix(y_test, y_pred))"
   ]
  },
  {
   "cell_type": "code",
   "execution_count": 85,
   "metadata": {},
   "outputs": [
    {
     "name": "stderr",
     "output_type": "stream",
     "text": [
      "C:\\Users\\lvshu\\AppData\\Local\\Packages\\PythonSoftwareFoundation.Python.3.10_qbz5n2kfra8p0\\LocalCache\\local-packages\\Python310\\site-packages\\sklearn\\linear_model\\_sag.py:350: ConvergenceWarning: The max_iter was reached which means the coef_ did not converge\n",
      "  warnings.warn(\n"
     ]
    },
    {
     "name": "stdout",
     "output_type": "stream",
     "text": [
      "Best Hyperparameters: {'C': 10.0, 'class_weight': 'balanced', 'max_iter': 1000, 'multi_class': 'multinomial', 'penalty': 'l2', 'solver': 'saga'}\n",
      "Best accuracy score: 0.3807050552062187\n",
      "              precision    recall  f1-score   support\n",
      "\n",
      "           0     0.1368    0.4727    0.2122        55\n",
      "           1     0.1440    0.6429    0.2353        28\n",
      "           2     0.4135    0.2709    0.3274       203\n",
      "           3     0.4595    0.1789    0.2576       285\n",
      "           4     0.3235    0.5000    0.3929        22\n",
      "\n",
      "    accuracy                         0.2715       593\n",
      "   macro avg     0.2955    0.4131    0.2851       593\n",
      "weighted avg     0.3939    0.2715    0.2812       593\n",
      "\n",
      "[[ 26  11   8   9   1]\n",
      " [  3  18   4   3   0]\n",
      " [ 58  40  55  46   4]\n",
      " [102  51  63  51  18]\n",
      " [  1   5   3   2  11]]\n",
      "None\n"
     ]
    },
    {
     "name": "stderr",
     "output_type": "stream",
     "text": [
      "C:\\Users\\lvshu\\AppData\\Local\\Packages\\PythonSoftwareFoundation.Python.3.10_qbz5n2kfra8p0\\LocalCache\\local-packages\\Python310\\site-packages\\sklearn\\linear_model\\_sag.py:350: ConvergenceWarning: The max_iter was reached which means the coef_ did not converge\n",
      "  warnings.warn(\n"
     ]
    }
   ],
   "source": [
    "# Using hashing vectorizer\n",
    "print(lr2_model(X_train_hash, y_train, X_test_hash, y_test))"
   ]
  },
  {
   "cell_type": "code",
   "execution_count": 86,
   "metadata": {},
   "outputs": [
    {
     "name": "stdout",
     "output_type": "stream",
     "text": [
      "Best Hyperparameters: {'C': 10.0, 'class_weight': 'balanced', 'max_iter': 1000, 'multi_class': 'multinomial', 'penalty': 'l2', 'solver': 'newton-cg'}\n",
      "Best accuracy score: 0.40289452464651754\n",
      "              precision    recall  f1-score   support\n",
      "\n",
      "           0     0.1704    0.4182    0.2421        55\n",
      "           1     0.4318    0.6786    0.5278        28\n",
      "           2     0.4649    0.4236    0.4433       203\n",
      "           3     0.6057    0.3719    0.4609       285\n",
      "           4     0.2407    0.5909    0.3421        22\n",
      "\n",
      "    accuracy                         0.4165       593\n",
      "   macro avg     0.3827    0.4966    0.4032       593\n",
      "weighted avg     0.4954    0.4165    0.4333       593\n",
      "\n",
      "[[ 23   2  11  12   7]\n",
      " [  3  19   2   4   0]\n",
      " [ 48   7  86  48  14]\n",
      " [ 60  15  84 106  20]\n",
      " [  1   1   2   5  13]]\n",
      "None\n"
     ]
    }
   ],
   "source": [
    "# Using tfidf vectorizer\n",
    "print(lr2_model(X_train_idf, y_train, X_test_idf, y_test))"
   ]
  },
  {
   "cell_type": "code",
   "execution_count": 87,
   "metadata": {},
   "outputs": [
    {
     "name": "stderr",
     "output_type": "stream",
     "text": [
      "C:\\Users\\lvshu\\AppData\\Local\\Packages\\PythonSoftwareFoundation.Python.3.10_qbz5n2kfra8p0\\LocalCache\\local-packages\\Python310\\site-packages\\sklearn\\linear_model\\_sag.py:350: ConvergenceWarning: The max_iter was reached which means the coef_ did not converge\n",
      "  warnings.warn(\n"
     ]
    },
    {
     "name": "stdout",
     "output_type": "stream",
     "text": [
      "Best Hyperparameters: {'C': 10.0, 'class_weight': 'balanced', 'max_iter': 3000, 'multi_class': 'multinomial', 'penalty': 'l2', 'solver': 'sag'}\n",
      "Best accuracy score: 0.2559211410464072\n",
      "              precision    recall  f1-score   support\n",
      "\n",
      "           0     0.0985    0.9818    0.1791        55\n",
      "           1     0.1333    0.2143    0.1644        28\n",
      "           2     0.0000    0.0000    0.0000       203\n",
      "           3     0.0000    0.0000    0.0000       285\n",
      "           4     0.0000    0.0000    0.0000        22\n",
      "\n",
      "    accuracy                         0.1012       593\n",
      "   macro avg     0.0464    0.2392    0.0687       593\n",
      "weighted avg     0.0154    0.1012    0.0244       593\n",
      "\n",
      "[[ 54   1   0   0   0]\n",
      " [ 22   6   0   0   0]\n",
      " [180  23   0   0   0]\n",
      " [271  14   0   0   0]\n",
      " [ 21   1   0   0   0]]\n",
      "None\n"
     ]
    },
    {
     "name": "stderr",
     "output_type": "stream",
     "text": [
      "C:\\Users\\lvshu\\AppData\\Local\\Packages\\PythonSoftwareFoundation.Python.3.10_qbz5n2kfra8p0\\LocalCache\\local-packages\\Python310\\site-packages\\sklearn\\linear_model\\_sag.py:350: ConvergenceWarning: The max_iter was reached which means the coef_ did not converge\n",
      "  warnings.warn(\n",
      "C:\\Users\\lvshu\\AppData\\Local\\Packages\\PythonSoftwareFoundation.Python.3.10_qbz5n2kfra8p0\\LocalCache\\local-packages\\Python310\\site-packages\\sklearn\\metrics\\_classification.py:1334: UndefinedMetricWarning: Precision and F-score are ill-defined and being set to 0.0 in labels with no predicted samples. Use `zero_division` parameter to control this behavior.\n",
      "  _warn_prf(average, modifier, msg_start, len(result))\n",
      "C:\\Users\\lvshu\\AppData\\Local\\Packages\\PythonSoftwareFoundation.Python.3.10_qbz5n2kfra8p0\\LocalCache\\local-packages\\Python310\\site-packages\\sklearn\\metrics\\_classification.py:1334: UndefinedMetricWarning: Precision and F-score are ill-defined and being set to 0.0 in labels with no predicted samples. Use `zero_division` parameter to control this behavior.\n",
      "  _warn_prf(average, modifier, msg_start, len(result))\n",
      "C:\\Users\\lvshu\\AppData\\Local\\Packages\\PythonSoftwareFoundation.Python.3.10_qbz5n2kfra8p0\\LocalCache\\local-packages\\Python310\\site-packages\\sklearn\\metrics\\_classification.py:1334: UndefinedMetricWarning: Precision and F-score are ill-defined and being set to 0.0 in labels with no predicted samples. Use `zero_division` parameter to control this behavior.\n",
      "  _warn_prf(average, modifier, msg_start, len(result))\n"
     ]
    }
   ],
   "source": [
    "# Using fasttext\n",
    "print(lr2_model(X_train_fast, y_train, X_test_fast, y_test))"
   ]
  },
  {
   "attachments": {},
   "cell_type": "markdown",
   "metadata": {},
   "source": [
    "#### SVM"
   ]
  },
  {
   "cell_type": "code",
   "execution_count": 88,
   "metadata": {},
   "outputs": [],
   "source": [
    "def svm2_model(X_train_vec, y_train, X_test_vec, y_test):\n",
    "    svm2 = SVC()\n",
    "\n",
    "    params = {\n",
    "        'C': [0.1, 1, 10],\n",
    "        'kernel': ['linear', 'rbf'],\n",
    "        'gamma': ['scale', 'auto'],\n",
    "        'decision_function_shape': ['ovr', 'ovo'],\n",
    "        'class_weight': ['balanced']\n",
    "    }\n",
    "\n",
    "    grid_search = GridSearchCV(svm2, params, cv=5, n_jobs=-1)\n",
    "    grid_search.fit(X_train_vec, y_train)\n",
    "\n",
    "    # Use best hyperparameters to fit a model\n",
    "    best_svm2 = grid_search.best_estimator_\n",
    "    best_svm2.fit(X_train_vec, y_train)\n",
    "\n",
    "    # Use the fitted model to predict on test data\n",
    "    y_pred = best_svm2.predict(X_test_vec)\n",
    "\n",
    "    print(\"Best Hyperparameters:\", grid_search.best_params_)\n",
    "    print(\"Best accuracy score:\", grid_search.best_score_)\n",
    "    print(classification_report(y_test, y_pred, digits=4))\n",
    "    print(confusion_matrix(y_test, y_pred))"
   ]
  },
  {
   "cell_type": "code",
   "execution_count": 89,
   "metadata": {},
   "outputs": [
    {
     "name": "stdout",
     "output_type": "stream",
     "text": [
      "Best Hyperparameters: {'C': 1, 'class_weight': 'balanced', 'decision_function_shape': 'ovr', 'gamma': 'scale', 'kernel': 'rbf'}\n",
      "Best accuracy score: 0.44274821578876633\n",
      "              precision    recall  f1-score   support\n",
      "\n",
      "           0     0.1707    0.2545    0.2044        55\n",
      "           1     0.4286    0.3214    0.3673        28\n",
      "           2     0.4315    0.4187    0.4250       203\n",
      "           3     0.4586    0.4281    0.4428       285\n",
      "           4     0.3333    0.4091    0.3673        22\n",
      "\n",
      "    accuracy                         0.4030       593\n",
      "   macro avg     0.3646    0.3664    0.3614       593\n",
      "weighted avg     0.4166    0.4030    0.4082       593\n",
      "\n",
      "[[ 14   1  11  27   2]\n",
      " [  6   9   5   8   0]\n",
      " [ 16   1  85  98   3]\n",
      " [ 46  10  94 122  13]\n",
      " [  0   0   2  11   9]]\n",
      "None\n"
     ]
    }
   ],
   "source": [
    "# Using hashing vectorizer with SVM\n",
    "print(svm2_model(X_train_hash, y_train, X_test_hash, y_test))"
   ]
  },
  {
   "cell_type": "code",
   "execution_count": 90,
   "metadata": {},
   "outputs": [
    {
     "name": "stdout",
     "output_type": "stream",
     "text": [
      "Best Hyperparameters: {'C': 0.1, 'class_weight': 'balanced', 'decision_function_shape': 'ovr', 'gamma': 'scale', 'kernel': 'rbf'}\n",
      "Best accuracy score: 0.4788502889396586\n",
      "              precision    recall  f1-score   support\n",
      "\n",
      "           0     0.2222    0.1455    0.1758        55\n",
      "           1     0.3750    0.5357    0.4412        28\n",
      "           2     0.5181    0.2118    0.3007       203\n",
      "           3     0.5402    0.7544    0.6296       285\n",
      "           4     0.2500    0.4091    0.3103        22\n",
      "\n",
      "    accuracy                         0.4890       593\n",
      "   macro avg     0.3811    0.4113    0.3715       593\n",
      "weighted avg     0.4846    0.4890    0.4542       593\n",
      "\n",
      "[[  8   3   5  37   2]\n",
      " [  3  15   4   6   0]\n",
      " [ 14   8  43 128  10]\n",
      " [ 11  14  30 215  15]\n",
      " [  0   0   1  12   9]]\n",
      "None\n"
     ]
    }
   ],
   "source": [
    "# Using tfidf vectorizer with SVM\n",
    "print(svm2_model(X_train_idf, y_train, X_test_idf, y_test))"
   ]
  },
  {
   "cell_type": "code",
   "execution_count": 91,
   "metadata": {},
   "outputs": [
    {
     "name": "stdout",
     "output_type": "stream",
     "text": [
      "Best Hyperparameters: {'C': 10, 'class_weight': 'balanced', 'decision_function_shape': 'ovr', 'gamma': 'scale', 'kernel': 'linear'}\n",
      "Best accuracy score: 0.24008091725079397\n",
      "              precision    recall  f1-score   support\n",
      "\n",
      "           0     0.1237    0.4364    0.1928        55\n",
      "           1     0.0891    0.3214    0.1395        28\n",
      "           2     0.5366    0.1084    0.1803       203\n",
      "           3     0.5414    0.3439    0.4206       285\n",
      "           4     0.1447    0.5000    0.2245        22\n",
      "\n",
      "    accuracy                         0.2766       593\n",
      "   macro avg     0.2871    0.3420    0.2315       593\n",
      "weighted avg     0.4650    0.2766    0.2967       593\n",
      "\n",
      "[[24  6  4 10 11]\n",
      " [10  9  0  9  0]\n",
      " [67 44 22 59 11]\n",
      " [92 39 13 98 43]\n",
      " [ 1  3  2  5 11]]\n",
      "None\n"
     ]
    }
   ],
   "source": [
    "# Using fasttext\n",
    "print(svm2_model(X_train_fast, y_train, X_test_fast, y_test))"
   ]
  },
  {
   "attachments": {},
   "cell_type": "markdown",
   "metadata": {},
   "source": [
    "#### Decision Tree Classifier"
   ]
  },
  {
   "cell_type": "code",
   "execution_count": 92,
   "metadata": {},
   "outputs": [],
   "source": [
    "def dtc2_model(X_train_vec, y_train, X_test_vec, y_test):\n",
    "    dtc2 = DecisionTreeClassifier()\n",
    "\n",
    "    params = {\n",
    "        'criterion': ['gini', 'entropy'],\n",
    "        'max_depth': [None, 4, 6, 8, 10, 15],\n",
    "        'min_samples_split': [2, 5, 10, 20],\n",
    "        'min_samples_leaf': [1, 2, 5, 10],\n",
    "        'class_weight': ['balanced']\n",
    "    }\n",
    "\n",
    "    grid_search = GridSearchCV(dtc2, params, cv=5, n_jobs=-1)\n",
    "    grid_search.fit(X_train_vec, y_train)\n",
    "\n",
    "    # Use best hyperparameters to fit a model\n",
    "    best_dtc2 = grid_search.best_estimator_\n",
    "    best_dtc2.fit(X_train_vec, y_train)\n",
    "\n",
    "    # Use the fitted model to predict on test data\n",
    "    y_pred = best_dtc2.predict(X_test_vec)\n",
    "\n",
    "    print(\"Best Hyperparameters:\", grid_search.best_params_)\n",
    "    print(\"Best accuracy score:\", grid_search.best_score_)\n",
    "    print(classification_report(y_test, y_pred, digits=4))\n",
    "    print(confusion_matrix(y_test, y_pred))\n"
   ]
  },
  {
   "cell_type": "code",
   "execution_count": 93,
   "metadata": {},
   "outputs": [
    {
     "name": "stdout",
     "output_type": "stream",
     "text": [
      "Best Hyperparameters: {'class_weight': 'balanced', 'criterion': 'gini', 'max_depth': None, 'min_samples_leaf': 1, 'min_samples_split': 2}\n",
      "Best accuracy score: 0.3654826742302605\n",
      "              precision    recall  f1-score   support\n",
      "\n",
      "           0     0.1940    0.2364    0.2131        55\n",
      "           1     0.4412    0.5357    0.4839        28\n",
      "           2     0.3077    0.3153    0.3114       203\n",
      "           3     0.4194    0.3649    0.3902       285\n",
      "           4     0.1667    0.2727    0.2069        22\n",
      "\n",
      "    accuracy                         0.3406       593\n",
      "   macro avg     0.3058    0.3450    0.3211       593\n",
      "weighted avg     0.3519    0.3406    0.3445       593\n",
      "\n",
      "[[ 13   2  16  21   3]\n",
      " [  2  15   6   5   0]\n",
      " [ 18   4  64 108   9]\n",
      " [ 34  12 117 104  18]\n",
      " [  0   1   5  10   6]]\n",
      "None\n"
     ]
    }
   ],
   "source": [
    "# Using hashing vectorizer with Decision Tree Classifier \n",
    "print(dtc2_model(X_train_hash, y_train, X_test_hash, y_test))"
   ]
  },
  {
   "cell_type": "code",
   "execution_count": 94,
   "metadata": {},
   "outputs": [
    {
     "name": "stdout",
     "output_type": "stream",
     "text": [
      "Best Hyperparameters: {'class_weight': 'balanced', 'criterion': 'entropy', 'max_depth': None, 'min_samples_leaf': 1, 'min_samples_split': 2}\n",
      "Best accuracy score: 0.3886058042566435\n",
      "              precision    recall  f1-score   support\n",
      "\n",
      "           0     0.1290    0.1455    0.1368        55\n",
      "           1     0.4615    0.4286    0.4444        28\n",
      "           2     0.3426    0.3645    0.3532       203\n",
      "           3     0.4319    0.3895    0.4096       285\n",
      "           4     0.2188    0.3182    0.2593        22\n",
      "\n",
      "    accuracy                         0.3575       593\n",
      "   macro avg     0.3168    0.3292    0.3207       593\n",
      "weighted avg     0.3667    0.3575    0.3611       593\n",
      "\n",
      "[[  8   2  20  22   3]\n",
      " [  0  12   5  11   0]\n",
      " [ 19   3  74 103   4]\n",
      " [ 35   9 112 111  18]\n",
      " [  0   0   5  10   7]]\n",
      "None\n"
     ]
    }
   ],
   "source": [
    "# Using tfidf vectorizer with Decision Tree Classifier \n",
    "print(dtc2_model(X_train_idf, y_train, X_test_idf, y_test))"
   ]
  },
  {
   "cell_type": "code",
   "execution_count": 95,
   "metadata": {},
   "outputs": [
    {
     "name": "stdout",
     "output_type": "stream",
     "text": [
      "Best Hyperparameters: {'class_weight': 'balanced', 'criterion': 'entropy', 'max_depth': None, 'min_samples_leaf': 1, 'min_samples_split': 2}\n",
      "Best accuracy score: 0.3820263263992531\n",
      "              precision    recall  f1-score   support\n",
      "\n",
      "           0     0.1111    0.1273    0.1186        55\n",
      "           1     0.1000    0.0714    0.0833        28\n",
      "           2     0.3854    0.3892    0.3873       203\n",
      "           3     0.4594    0.4561    0.4577       285\n",
      "           4     0.0455    0.0455    0.0455        22\n",
      "\n",
      "    accuracy                         0.3693       593\n",
      "   macro avg     0.2203    0.2179    0.2185       593\n",
      "weighted avg     0.3694    0.3693    0.3692       593\n",
      "\n",
      "[[  7   2  16  29   1]\n",
      " [  3   2   5  17   1]\n",
      " [ 17   6  79  96   5]\n",
      " [ 34   9  98 130  14]\n",
      " [  2   1   7  11   1]]\n",
      "None\n"
     ]
    }
   ],
   "source": [
    "# Using fasttext\n",
    "print(dtc2_model(X_train_fast, y_train, X_test_fast, y_test))"
   ]
  },
  {
   "attachments": {},
   "cell_type": "markdown",
   "metadata": {},
   "source": [
    "#### Random Forest Classifier"
   ]
  },
  {
   "cell_type": "code",
   "execution_count": 96,
   "metadata": {},
   "outputs": [],
   "source": [
    "def rf2_model(X_train_vec, y_train, X_test_vec, y_test):\n",
    "    rf2 = RandomForestClassifier()\n",
    "\n",
    "    params = {\n",
    "          'n_estimators': [100, 150, 200],\n",
    "          'max_depth': [3, 5, 7, None],\n",
    "          'min_samples_split': [2, 5, 10],\n",
    "          'min_samples_leaf': [1, 2, 5],\n",
    "          'class_weight': ['balanced']\n",
    "    }\n",
    "    grid_search = GridSearchCV(rf2, params, cv=5, n_jobs=-1)\n",
    "    grid_search.fit(X_train_vec, y_train)\n",
    "\n",
    "    # Use best hyperparameters to fit a model\n",
    "    best_rf2 = grid_search.best_estimator_\n",
    "    best_rf2.fit(X_train_vec, y_train)\n",
    "\n",
    "    # Use the fitted model to predict on test data\n",
    "    y_pred = best_rf2.predict(X_test_vec)\n",
    "\n",
    "    print(\"Best Hyperparameters:\", grid_search.best_params_)\n",
    "    print(\"Best accuracy score:\", grid_search.best_score_)\n",
    "    print(classification_report(y_test, y_pred, digits=4))\n",
    "    print(confusion_matrix(y_test, y_pred))"
   ]
  },
  {
   "cell_type": "code",
   "execution_count": 97,
   "metadata": {},
   "outputs": [
    {
     "name": "stdout",
     "output_type": "stream",
     "text": [
      "Best Hyperparameters: {'class_weight': 'balanced', 'max_depth': None, 'min_samples_leaf': 1, 'min_samples_split': 2, 'n_estimators': 200}\n",
      "Best accuracy score: 0.46192450788306605\n",
      "              precision    recall  f1-score   support\n",
      "\n",
      "           0     0.2105    0.0727    0.1081        55\n",
      "           1     0.5000    0.1429    0.2222        28\n",
      "           2     0.2840    0.2266    0.2521       203\n",
      "           3     0.4041    0.5544    0.4675       285\n",
      "           4     0.1538    0.0909    0.1143        22\n",
      "\n",
      "    accuracy                         0.3609       593\n",
      "   macro avg     0.3105    0.2175    0.2328       593\n",
      "weighted avg     0.3403    0.3609    0.3357       593\n",
      "\n",
      "[[  4   0   7  42   2]\n",
      " [  0   4   5  19   0]\n",
      " [  2   0  46 154   1]\n",
      " [ 13   4 102 158   8]\n",
      " [  0   0   2  18   2]]\n",
      "None\n"
     ]
    }
   ],
   "source": [
    "# Using hashing vectorizer with Random Forest Classifier\n",
    "print(rf2_model(X_train_hash, y_train, X_test_hash, y_test))"
   ]
  },
  {
   "cell_type": "code",
   "execution_count": 98,
   "metadata": {},
   "outputs": [
    {
     "name": "stdout",
     "output_type": "stream",
     "text": [
      "Best Hyperparameters: {'class_weight': 'balanced', 'max_depth': None, 'min_samples_leaf': 1, 'min_samples_split': 2, 'n_estimators': 200}\n",
      "Best accuracy score: 0.46060907206869484\n",
      "              precision    recall  f1-score   support\n",
      "\n",
      "           0     0.1290    0.0727    0.0930        55\n",
      "           1     0.5714    0.2857    0.3810        28\n",
      "           2     0.3486    0.3005    0.3228       203\n",
      "           3     0.4366    0.5439    0.4844       285\n",
      "           4     0.1111    0.0909    0.1000        22\n",
      "\n",
      "    accuracy                         0.3879       593\n",
      "   macro avg     0.3194    0.2587    0.2762       593\n",
      "weighted avg     0.3722    0.3879    0.3736       593\n",
      "\n",
      "[[  4   1  13  35   2]\n",
      " [  0   8   6  14   0]\n",
      " [  5   0  61 136   1]\n",
      " [ 22   4  91 155  13]\n",
      " [  0   1   4  15   2]]\n",
      "None\n"
     ]
    }
   ],
   "source": [
    "# Using tfidf vectorizer with Random Forest Classifier\n",
    "print(rf2_model(X_train_idf, y_train, X_test_idf, y_test))"
   ]
  },
  {
   "cell_type": "code",
   "execution_count": 99,
   "metadata": {},
   "outputs": [
    {
     "name": "stdout",
     "output_type": "stream",
     "text": [
      "Best Hyperparameters: {'class_weight': 'balanced', 'max_depth': None, 'min_samples_leaf': 1, 'min_samples_split': 2, 'n_estimators': 150}\n",
      "Best accuracy score: 0.47583923354953706\n",
      "              precision    recall  f1-score   support\n",
      "\n",
      "           0     0.1111    0.0182    0.0312        55\n",
      "           1     0.0000    0.0000    0.0000        28\n",
      "           2     0.3730    0.2315    0.2857       203\n",
      "           3     0.4725    0.7544    0.5811       285\n",
      "           4     0.0000    0.0000    0.0000        22\n",
      "\n",
      "    accuracy                         0.4435       593\n",
      "   macro avg     0.1913    0.2008    0.1796       593\n",
      "weighted avg     0.3651    0.4435    0.3800       593\n",
      "\n",
      "[[  1   0   9  45   0]\n",
      " [  0   0   5  23   0]\n",
      " [  3   0  47 153   0]\n",
      " [  5   0  62 215   3]\n",
      " [  0   0   3  19   0]]\n",
      "None\n"
     ]
    },
    {
     "name": "stderr",
     "output_type": "stream",
     "text": [
      "C:\\Users\\lvshu\\AppData\\Local\\Packages\\PythonSoftwareFoundation.Python.3.10_qbz5n2kfra8p0\\LocalCache\\local-packages\\Python310\\site-packages\\sklearn\\metrics\\_classification.py:1334: UndefinedMetricWarning: Precision and F-score are ill-defined and being set to 0.0 in labels with no predicted samples. Use `zero_division` parameter to control this behavior.\n",
      "  _warn_prf(average, modifier, msg_start, len(result))\n",
      "C:\\Users\\lvshu\\AppData\\Local\\Packages\\PythonSoftwareFoundation.Python.3.10_qbz5n2kfra8p0\\LocalCache\\local-packages\\Python310\\site-packages\\sklearn\\metrics\\_classification.py:1334: UndefinedMetricWarning: Precision and F-score are ill-defined and being set to 0.0 in labels with no predicted samples. Use `zero_division` parameter to control this behavior.\n",
      "  _warn_prf(average, modifier, msg_start, len(result))\n",
      "C:\\Users\\lvshu\\AppData\\Local\\Packages\\PythonSoftwareFoundation.Python.3.10_qbz5n2kfra8p0\\LocalCache\\local-packages\\Python310\\site-packages\\sklearn\\metrics\\_classification.py:1334: UndefinedMetricWarning: Precision and F-score are ill-defined and being set to 0.0 in labels with no predicted samples. Use `zero_division` parameter to control this behavior.\n",
      "  _warn_prf(average, modifier, msg_start, len(result))\n"
     ]
    }
   ],
   "source": [
    "# Using fasttext\n",
    "print(rf2_model(X_train_fast, y_train, X_test_fast, y_test))"
   ]
  },
  {
   "attachments": {},
   "cell_type": "markdown",
   "metadata": {},
   "source": [
    "#### LightGBM"
   ]
  },
  {
   "cell_type": "code",
   "execution_count": 100,
   "metadata": {},
   "outputs": [],
   "source": [
    "def lgbm2_model(X_train_vec, y_train, X_test_vec, y_test):\n",
    "    lgbm2 = lgb.LGBMClassifier()\n",
    "\n",
    "    params = {\n",
    "        'boosting_type': ['gbdt'],\n",
    "        'num_leaves': [30, 60, 120],\n",
    "        'learning_rate': [0.05, 0.1, 0.15, 0.2],\n",
    "        'n_estimators': [100, 200, 300],\n",
    "        'max_depth': [-1],\n",
    "        'min_child_samples': [20, 50, 100],\n",
    "        'class_weight': ['balanced']\n",
    "    }\n",
    "\n",
    "\n",
    "    grid_search = GridSearchCV(lgbm2, params, cv=5, n_jobs=-1)\n",
    "    grid_search.fit(X_train_vec, y_train)\n",
    "\n",
    "    # Use best hyperparameters to fit a model\n",
    "    best_lgbm2 = grid_search.best_estimator_\n",
    "    best_lgbm2.fit(X_train_vec, y_train)\n",
    "\n",
    "    # Use the fitted model to predict on test data\n",
    "    y_pred = best_lgbm2.predict(X_test_vec)\n",
    "\n",
    "    print(\"Best Hyperparameters:\", grid_search.best_params_)\n",
    "    print(\"Best accuracy score:\", grid_search.best_score_)\n",
    "    print(classification_report(y_test, y_pred, digits=4))\n",
    "    print(confusion_matrix(y_test, y_pred))"
   ]
  },
  {
   "cell_type": "code",
   "execution_count": 101,
   "metadata": {},
   "outputs": [
    {
     "name": "stdout",
     "output_type": "stream",
     "text": [
      "Best Hyperparameters: {'boosting_type': 'gbdt', 'class_weight': 'balanced', 'learning_rate': 0.2, 'max_depth': -1, 'min_child_samples': 20, 'n_estimators': 200, 'num_leaves': 120}\n",
      "Best accuracy score: 0.45534750564086607\n",
      "              precision    recall  f1-score   support\n",
      "\n",
      "           0     0.1600    0.0727    0.1000        55\n",
      "           1     0.4667    0.2500    0.3256        28\n",
      "           2     0.3617    0.3350    0.3478       203\n",
      "           3     0.4501    0.5544    0.4969       285\n",
      "           4     0.2143    0.1364    0.1667        22\n",
      "\n",
      "    accuracy                         0.4047       593\n",
      "   macro avg     0.3306    0.2697    0.2874       593\n",
      "weighted avg     0.3850    0.4047    0.3887       593\n",
      "\n",
      "[[  4   1  12  38   0]\n",
      " [  0   7   8  13   0]\n",
      " [  4   1  68 127   3]\n",
      " [ 17   6  96 158   8]\n",
      " [  0   0   4  15   3]]\n",
      "None\n"
     ]
    }
   ],
   "source": [
    "# Using hashing vectorizer with LightGBM\n",
    "print(lgbm2_model(X_train_hash, y_train, X_test_hash, y_test))"
   ]
  },
  {
   "cell_type": "code",
   "execution_count": 102,
   "metadata": {},
   "outputs": [
    {
     "name": "stdout",
     "output_type": "stream",
     "text": [
      "Best Hyperparameters: {'boosting_type': 'gbdt', 'class_weight': 'balanced', 'learning_rate': 0.1, 'max_depth': -1, 'min_child_samples': 20, 'n_estimators': 300, 'num_leaves': 120}\n",
      "Best accuracy score: 0.44162110355852\n",
      "              precision    recall  f1-score   support\n",
      "\n",
      "           0     0.1026    0.0727    0.0851        55\n",
      "           1     0.5000    0.3214    0.3913        28\n",
      "           2     0.3706    0.3596    0.3650       203\n",
      "           3     0.4684    0.5193    0.4925       285\n",
      "           4     0.1304    0.1364    0.1333        22\n",
      "\n",
      "    accuracy                         0.3997       593\n",
      "   macro avg     0.3144    0.2819    0.2935       593\n",
      "weighted avg     0.3899    0.3997    0.3930       593\n",
      "\n",
      "[[  4   1  19  29   2]\n",
      " [  1   9   6  11   1]\n",
      " [  9   1  73 116   4]\n",
      " [ 24   7  93 148  13]\n",
      " [  1   0   6  12   3]]\n",
      "None\n"
     ]
    }
   ],
   "source": [
    "# Using tfidf vectorizer with LightGBM\n",
    "print(lgbm2_model(X_train_idf, y_train, X_test_idf, y_test))"
   ]
  },
  {
   "cell_type": "code",
   "execution_count": 103,
   "metadata": {},
   "outputs": [
    {
     "name": "stdout",
     "output_type": "stream",
     "text": [
      "Best Hyperparameters: {'boosting_type': 'gbdt', 'class_weight': 'balanced', 'learning_rate': 0.1, 'max_depth': -1, 'min_child_samples': 20, 'n_estimators': 200, 'num_leaves': 120}\n",
      "Best accuracy score: 0.4570388813048615\n",
      "              precision    recall  f1-score   support\n",
      "\n",
      "           0     0.1000    0.0364    0.0533        55\n",
      "           1     0.3333    0.0357    0.0645        28\n",
      "           2     0.3663    0.3103    0.3360       203\n",
      "           3     0.4617    0.6351    0.5347       285\n",
      "           4     0.0000    0.0000    0.0000        22\n",
      "\n",
      "    accuracy                         0.4165       593\n",
      "   macro avg     0.2523    0.2035    0.1977       593\n",
      "weighted avg     0.3723    0.4165    0.3800       593\n",
      "\n",
      "[[  2   0  11  42   0]\n",
      " [  2   1   6  19   0]\n",
      " [  5   0  63 134   1]\n",
      " [ 11   2  86 181   5]\n",
      " [  0   0   6  16   0]]\n",
      "None\n"
     ]
    }
   ],
   "source": [
    "# Using fasttext\n",
    "print(lgbm2_model(X_train_fast, y_train, X_test_fast, y_test))"
   ]
  },
  {
   "attachments": {},
   "cell_type": "markdown",
   "metadata": {},
   "source": [
    "#### MultinomialNB"
   ]
  },
  {
   "cell_type": "code",
   "execution_count": 104,
   "metadata": {},
   "outputs": [],
   "source": [
    "def mnb2_model(X_train_vec, y_train, X_test_vec, y_test):\n",
    "    mnb2 = MultinomialNB()\n",
    "\n",
    "    params = {'alpha': [0.1, 0.5, 1.0, 2.0, 5.0, 10.0, 15.0]}\n",
    "\n",
    "    grid_search = GridSearchCV(mnb2, params, cv=5, n_jobs=-1)\n",
    "    grid_search.fit(X_train_vec, y_train)\n",
    "\n",
    "    # Use best hyperparameters to fit a model\n",
    "    best_mnb2 = grid_search.best_estimator_\n",
    "    best_mnb2.fit(X_train_vec, y_train)\n",
    "\n",
    "    # Use the fitted model to predict on test data\n",
    "    y_pred = best_mnb2.predict(X_test_vec)\n",
    "\n",
    "    print(\"Best Hyperparameters:\", grid_search.best_params_)\n",
    "    print(\"Best accuracy score:\", grid_search.best_score_)\n",
    "    print(classification_report(y_test, y_pred, digits=4))\n",
    "    print(confusion_matrix(y_test, y_pred))"
   ]
  },
  {
   "cell_type": "code",
   "execution_count": 105,
   "metadata": {},
   "outputs": [
    {
     "name": "stdout",
     "output_type": "stream",
     "text": [
      "Best Hyperparameters: {'alpha': 2.0}\n",
      "Best accuracy score: 0.5275387433777294\n",
      "              precision    recall  f1-score   support\n",
      "\n",
      "           0     1.0000    0.0182    0.0357        55\n",
      "           1     0.0000    0.0000    0.0000        28\n",
      "           2     0.4932    0.3547    0.4126       203\n",
      "           3     0.5090    0.7965    0.6211       285\n",
      "           4     0.0000    0.0000    0.0000        22\n",
      "\n",
      "    accuracy                         0.5059       593\n",
      "   macro avg     0.4004    0.2339    0.2139       593\n",
      "weighted avg     0.5062    0.5059    0.4430       593\n",
      "\n",
      "[[  1   0   6  48   0]\n",
      " [  0   0   8  20   0]\n",
      " [  0   0  72 131   0]\n",
      " [  0   0  58 227   0]\n",
      " [  0   0   2  20   0]]\n",
      "None\n"
     ]
    },
    {
     "name": "stderr",
     "output_type": "stream",
     "text": [
      "C:\\Users\\lvshu\\AppData\\Local\\Packages\\PythonSoftwareFoundation.Python.3.10_qbz5n2kfra8p0\\LocalCache\\local-packages\\Python310\\site-packages\\sklearn\\metrics\\_classification.py:1334: UndefinedMetricWarning: Precision and F-score are ill-defined and being set to 0.0 in labels with no predicted samples. Use `zero_division` parameter to control this behavior.\n",
      "  _warn_prf(average, modifier, msg_start, len(result))\n",
      "C:\\Users\\lvshu\\AppData\\Local\\Packages\\PythonSoftwareFoundation.Python.3.10_qbz5n2kfra8p0\\LocalCache\\local-packages\\Python310\\site-packages\\sklearn\\metrics\\_classification.py:1334: UndefinedMetricWarning: Precision and F-score are ill-defined and being set to 0.0 in labels with no predicted samples. Use `zero_division` parameter to control this behavior.\n",
      "  _warn_prf(average, modifier, msg_start, len(result))\n",
      "C:\\Users\\lvshu\\AppData\\Local\\Packages\\PythonSoftwareFoundation.Python.3.10_qbz5n2kfra8p0\\LocalCache\\local-packages\\Python310\\site-packages\\sklearn\\metrics\\_classification.py:1334: UndefinedMetricWarning: Precision and F-score are ill-defined and being set to 0.0 in labels with no predicted samples. Use `zero_division` parameter to control this behavior.\n",
      "  _warn_prf(average, modifier, msg_start, len(result))\n"
     ]
    }
   ],
   "source": [
    "# Using tfidf vectorizer with MultinomialNB\n",
    "print(mnb2_model(X_train_idf, y_train, X_test_idf, y_test))"
   ]
  },
  {
   "attachments": {},
   "cell_type": "markdown",
   "metadata": {},
   "source": [
    "#### MLPClassifier"
   ]
  },
  {
   "cell_type": "code",
   "execution_count": 106,
   "metadata": {},
   "outputs": [],
   "source": [
    "def mlp2_model(X_train_vec, y_train, X_test_vec, y_test):\n",
    "    mlp2 = MLPClassifier()\n",
    "\n",
    "    params = {'hidden_layer_sizes': [(100,), (50, 50), (100, 50)],\n",
    "          'activation': ['relu', 'tanh', 'logistic'],\n",
    "          'alpha': [0.0001, 0.001, 0.01]}\n",
    "\n",
    "    grid_search = GridSearchCV(mlp2, params, cv=5, n_jobs=-1)\n",
    "    grid_search.fit(X_train_vec, y_train)\n",
    "\n",
    "    # Use best hyperparameters to fit a model\n",
    "    best_mlp2 = grid_search.best_estimator_\n",
    "    best_mlp2.fit(X_train_vec, y_train)\n",
    "\n",
    "    # Use the fitted model to predict on test data\n",
    "    y_pred = best_mlp2.predict(X_test_vec)\n",
    "\n",
    "    print(\"Best Hyperparameters:\", grid_search.best_params_)\n",
    "    print(\"Best accuracy score:\", grid_search.best_score_)\n",
    "    print(classification_report(y_test, y_pred, digits=4))\n",
    "    print(confusion_matrix(y_test, y_pred))"
   ]
  },
  {
   "cell_type": "code",
   "execution_count": 107,
   "metadata": {},
   "outputs": [
    {
     "name": "stderr",
     "output_type": "stream",
     "text": [
      "C:\\Users\\lvshu\\AppData\\Local\\Packages\\PythonSoftwareFoundation.Python.3.10_qbz5n2kfra8p0\\LocalCache\\local-packages\\Python310\\site-packages\\sklearn\\neural_network\\_multilayer_perceptron.py:702: ConvergenceWarning: Stochastic Optimizer: Maximum iterations (200) reached and the optimization hasn't converged yet.\n",
      "  warnings.warn(\n"
     ]
    },
    {
     "name": "stdout",
     "output_type": "stream",
     "text": [
      "Best Hyperparameters: {'activation': 'logistic', 'alpha': 0.01, 'hidden_layer_sizes': (100,)}\n",
      "Best accuracy score: 0.47114175372580086\n",
      "              precision    recall  f1-score   support\n",
      "\n",
      "           0     0.3750    0.1091    0.1690        55\n",
      "           1     0.5000    0.2143    0.3000        28\n",
      "           2     0.4091    0.3103    0.3529       203\n",
      "           3     0.5051    0.7018    0.5874       285\n",
      "           4     0.3333    0.2273    0.2703        22\n",
      "\n",
      "    accuracy                         0.4722       593\n",
      "   macro avg     0.4245    0.3125    0.3359       593\n",
      "weighted avg     0.4535    0.4722    0.4430       593\n",
      "\n",
      "[[  6   0  14  35   0]\n",
      " [  0   6   9  13   0]\n",
      " [  2   2  63 133   3]\n",
      " [  8   4  66 200   7]\n",
      " [  0   0   2  15   5]]\n",
      "None\n"
     ]
    },
    {
     "name": "stderr",
     "output_type": "stream",
     "text": [
      "C:\\Users\\lvshu\\AppData\\Local\\Packages\\PythonSoftwareFoundation.Python.3.10_qbz5n2kfra8p0\\LocalCache\\local-packages\\Python310\\site-packages\\sklearn\\neural_network\\_multilayer_perceptron.py:702: ConvergenceWarning: Stochastic Optimizer: Maximum iterations (200) reached and the optimization hasn't converged yet.\n",
      "  warnings.warn(\n"
     ]
    }
   ],
   "source": [
    "# Using hashing vectorizer with MLPClassifier\n",
    "print(mlp2_model(X_train_hash, y_train, X_test_hash, y_test))"
   ]
  },
  {
   "cell_type": "code",
   "execution_count": 108,
   "metadata": {},
   "outputs": [
    {
     "name": "stderr",
     "output_type": "stream",
     "text": [
      "C:\\Users\\lvshu\\AppData\\Local\\Packages\\PythonSoftwareFoundation.Python.3.10_qbz5n2kfra8p0\\LocalCache\\local-packages\\Python310\\site-packages\\sklearn\\neural_network\\_multilayer_perceptron.py:702: ConvergenceWarning: Stochastic Optimizer: Maximum iterations (200) reached and the optimization hasn't converged yet.\n",
      "  warnings.warn(\n"
     ]
    },
    {
     "name": "stdout",
     "output_type": "stream",
     "text": [
      "Best Hyperparameters: {'activation': 'logistic', 'alpha': 0.01, 'hidden_layer_sizes': (100,)}\n",
      "Best accuracy score: 0.5038520572362232\n",
      "              precision    recall  f1-score   support\n",
      "\n",
      "           0     0.2353    0.1455    0.1798        55\n",
      "           1     0.6429    0.3214    0.4286        28\n",
      "           2     0.4831    0.4236    0.4514       203\n",
      "           3     0.5442    0.6702    0.6006       285\n",
      "           4     0.1250    0.0909    0.1053        22\n",
      "\n",
      "    accuracy                         0.4992       593\n",
      "   macro avg     0.4061    0.3303    0.3531       593\n",
      "weighted avg     0.4837    0.4992    0.4840       593\n",
      "\n",
      "[[  8   1  14  29   3]\n",
      " [  0   9   6  13   0]\n",
      " [ 11   0  86 104   2]\n",
      " [ 15   4  66 191   9]\n",
      " [  0   0   6  14   2]]\n",
      "None\n"
     ]
    },
    {
     "name": "stderr",
     "output_type": "stream",
     "text": [
      "C:\\Users\\lvshu\\AppData\\Local\\Packages\\PythonSoftwareFoundation.Python.3.10_qbz5n2kfra8p0\\LocalCache\\local-packages\\Python310\\site-packages\\sklearn\\neural_network\\_multilayer_perceptron.py:702: ConvergenceWarning: Stochastic Optimizer: Maximum iterations (200) reached and the optimization hasn't converged yet.\n",
      "  warnings.warn(\n"
     ]
    }
   ],
   "source": [
    "# Using tfidf vectorizer with MLPClassifier\n",
    "print(mlp2_model(X_train_idf, y_train, X_test_idf, y_test))"
   ]
  },
  {
   "cell_type": "code",
   "execution_count": 109,
   "metadata": {},
   "outputs": [
    {
     "name": "stderr",
     "output_type": "stream",
     "text": [
      "C:\\Users\\lvshu\\AppData\\Local\\Packages\\PythonSoftwareFoundation.Python.3.10_qbz5n2kfra8p0\\LocalCache\\local-packages\\Python310\\site-packages\\sklearn\\neural_network\\_multilayer_perceptron.py:702: ConvergenceWarning: Stochastic Optimizer: Maximum iterations (200) reached and the optimization hasn't converged yet.\n",
      "  warnings.warn(\n"
     ]
    },
    {
     "name": "stdout",
     "output_type": "stream",
     "text": [
      "Best Hyperparameters: {'activation': 'relu', 'alpha': 0.001, 'hidden_layer_sizes': (100, 50)}\n",
      "Best accuracy score: 0.5029132685901019\n",
      "              precision    recall  f1-score   support\n",
      "\n",
      "           0     0.0000    0.0000    0.0000        55\n",
      "           1     0.0000    0.0000    0.0000        28\n",
      "           2     0.4694    0.1133    0.1825       203\n",
      "           3     0.4862    0.9263    0.6377       285\n",
      "           4     0.0000    0.0000    0.0000        22\n",
      "\n",
      "    accuracy                         0.4840       593\n",
      "   macro avg     0.1911    0.2079    0.1640       593\n",
      "weighted avg     0.3943    0.4840    0.3690       593\n",
      "\n",
      "[[  0   0   3  52   0]\n",
      " [  0   0   2  26   0]\n",
      " [  0   0  23 180   0]\n",
      " [  0   0  20 264   1]\n",
      " [  0   0   1  21   0]]\n",
      "None\n"
     ]
    },
    {
     "name": "stderr",
     "output_type": "stream",
     "text": [
      "C:\\Users\\lvshu\\AppData\\Local\\Packages\\PythonSoftwareFoundation.Python.3.10_qbz5n2kfra8p0\\LocalCache\\local-packages\\Python310\\site-packages\\sklearn\\neural_network\\_multilayer_perceptron.py:702: ConvergenceWarning: Stochastic Optimizer: Maximum iterations (200) reached and the optimization hasn't converged yet.\n",
      "  warnings.warn(\n",
      "C:\\Users\\lvshu\\AppData\\Local\\Packages\\PythonSoftwareFoundation.Python.3.10_qbz5n2kfra8p0\\LocalCache\\local-packages\\Python310\\site-packages\\sklearn\\metrics\\_classification.py:1334: UndefinedMetricWarning: Precision and F-score are ill-defined and being set to 0.0 in labels with no predicted samples. Use `zero_division` parameter to control this behavior.\n",
      "  _warn_prf(average, modifier, msg_start, len(result))\n",
      "C:\\Users\\lvshu\\AppData\\Local\\Packages\\PythonSoftwareFoundation.Python.3.10_qbz5n2kfra8p0\\LocalCache\\local-packages\\Python310\\site-packages\\sklearn\\metrics\\_classification.py:1334: UndefinedMetricWarning: Precision and F-score are ill-defined and being set to 0.0 in labels with no predicted samples. Use `zero_division` parameter to control this behavior.\n",
      "  _warn_prf(average, modifier, msg_start, len(result))\n",
      "C:\\Users\\lvshu\\AppData\\Local\\Packages\\PythonSoftwareFoundation.Python.3.10_qbz5n2kfra8p0\\LocalCache\\local-packages\\Python310\\site-packages\\sklearn\\metrics\\_classification.py:1334: UndefinedMetricWarning: Precision and F-score are ill-defined and being set to 0.0 in labels with no predicted samples. Use `zero_division` parameter to control this behavior.\n",
      "  _warn_prf(average, modifier, msg_start, len(result))\n"
     ]
    }
   ],
   "source": [
    "# Using fasttext\n",
    "print(mlp2_model(X_train_fast, y_train, X_test_fast, y_test))"
   ]
  },
  {
   "attachments": {},
   "cell_type": "markdown",
   "metadata": {},
   "source": [
    "#### FastText Supervised Model"
   ]
  },
  {
   "cell_type": "code",
   "execution_count": 110,
   "metadata": {},
   "outputs": [],
   "source": [
    "# Using supervised model in fasttext directly\n",
    "train_data = \"train_data_2_1.txt\"\n",
    "model_path = \"emoji_based_hate_speech_model_2_1_2.bin\"\n",
    "\n",
    "# Define the parameters for training\n",
    "lr = 0.1 \n",
    "dim = 100 \n",
    "epoch = 25\n",
    "\n",
    "model = fasttext.train_supervised(input=train_data, lr=lr, dim=dim, epoch=epoch)\n",
    "model.save_model(model_path)"
   ]
  },
  {
   "cell_type": "code",
   "execution_count": 111,
   "metadata": {},
   "outputs": [
    {
     "name": "stdout",
     "output_type": "stream",
     "text": [
      "(591, 0.46362098138747887, 0.46362098138747887)\n"
     ]
    }
   ],
   "source": [
    "# Evaluate the model with Kirk's data\n",
    "test_data = \"test_data_2_1.txt\"\n",
    "\n",
    "result = model.test(test_data)\n",
    "\n",
    "print(result)"
   ]
  },
  {
   "attachments": {},
   "cell_type": "markdown",
   "metadata": {},
   "source": [
    "### Test 1.2.2 Multiclass classifiers that are trained and tested by our own data"
   ]
  },
  {
   "attachments": {},
   "cell_type": "markdown",
   "metadata": {},
   "source": [
    "\n",
    "- df2: (usingour own annotated data as the training / testing data)\\\n",
    "dataset = TikTok + YouTube dataset (200 messages)"
   ]
  },
  {
   "cell_type": "code",
   "execution_count": 16,
   "metadata": {},
   "outputs": [],
   "source": [
    "# Load data\n",
    "df2 = pd.read_csv(\"../Training_machine_learning_model/Annotate_Dataset/comments_annotated.csv\")\n",
    "\n",
    "# Encoding categorical variables\n",
    "label_encoder = preprocessing.LabelEncoder() \n",
    "df2['Type_Nalin'] = label_encoder.fit_transform(df2['Type_Nalin'])"
   ]
  },
  {
   "cell_type": "code",
   "execution_count": 17,
   "metadata": {},
   "outputs": [
    {
     "name": "stdout",
     "output_type": "stream",
     "text": [
      "Type: 0, Type label: ['accusatory']\n",
      "Type: 1, Type label: ['acknowledgement']\n",
      "Type: 2, Type label: ['admiration']\n",
      "Type: 3, Type label: ['amazement']\n",
      "Type: 4, Type label: ['amusement']\n",
      "Type: 5, Type label: ['concerning']\n",
      "Type: 6, Type label: ['criticism']\n",
      "Type: 7, Type label: ['derogatory']\n",
      "Type: 8, Type label: ['discriminatory']\n",
      "Type: 9, Type label: ['disgust']\n",
      "Type: 10, Type label: ['excitement']\n",
      "Type: 11, Type label: ['humorous']\n",
      "Type: 12, Type label: ['mocking']\n",
      "Type: 13, Type label: ['rebellious']\n",
      "Type: 14, Type label: ['respect']\n",
      "Type: 15, Type label: ['sarcastic']\n",
      "Type: 16, Type label: ['support']\n",
      "Type: 17, Type label: ['sweet']\n",
      "Type: 18, Type label: ['threat']\n"
     ]
    }
   ],
   "source": [
    "# Get the type with its type label\n",
    "df2['type_label'] = label_encoder.inverse_transform(df2['Type_Nalin'])\n",
    "unique_labels = df2.groupby('Type_Nalin')['type_label'].agg(lambda x: x.unique().tolist())\n",
    "\n",
    "for type_, label in unique_labels.items():\n",
    "    print(f\"Type: {type_}, Type label: {label}\")"
   ]
  },
  {
   "cell_type": "code",
   "execution_count": 114,
   "metadata": {},
   "outputs": [
    {
     "data": {
      "text/plain": [
       "sarcastic          30\n",
       "criticism          21\n",
       "amazement          17\n",
       "admiration         16\n",
       "mocking            15\n",
       "humorous           14\n",
       "amusement          13\n",
       "support            10\n",
       "concerning          8\n",
       "discriminatory      7\n",
       "acknowledgement     7\n",
       "derogatory          6\n",
       "threat              6\n",
       "sweet               6\n",
       "rebellious          5\n",
       "disgust             5\n",
       "excitement          5\n",
       "accusatory          5\n",
       "respect             4\n",
       "Name: type_label, dtype: int64"
      ]
     },
     "execution_count": 114,
     "metadata": {},
     "output_type": "execute_result"
    }
   ],
   "source": [
    "df2['type_label'].value_counts()"
   ]
  },
  {
   "cell_type": "code",
   "execution_count": 115,
   "metadata": {},
   "outputs": [],
   "source": [
    "X = df2['Comment'].apply((lambda x: preprocessing_text(x)))\n",
    "y = df2['Type_Nalin']"
   ]
  },
  {
   "cell_type": "code",
   "execution_count": 116,
   "metadata": {},
   "outputs": [],
   "source": [
    "from sklearn.model_selection import train_test_split\n",
    "X_train, X_test, y_train, y_test = train_test_split(X, y, test_size=0.20, random_state=42)"
   ]
  },
  {
   "cell_type": "code",
   "execution_count": 117,
   "metadata": {},
   "outputs": [],
   "source": [
    "# Hashing Vectorizer\n",
    "X_train_hash = hash_vectorizer.fit_transform(X_train)\n",
    "X_test_hash = hash_vectorizer.transform(X_test)\n",
    "\n",
    "# Tfidf Vectorizer\n",
    "X_train_idf = idf_vectorizer.fit_transform(X_train)\n",
    "X_test_idf = idf_vectorizer.transform(X_test)"
   ]
  },
  {
   "cell_type": "code",
   "execution_count": 118,
   "metadata": {},
   "outputs": [],
   "source": [
    "# Process the data for fasttext\n",
    "df2['train_data'] = '__label__' + df2['Type_Nalin'].astype(str) + ' ' + df2['Comment'].apply(lambda x: (preprocessing_text(x)))\n",
    "df2['train_data'].to_csv('train_data_2_2.txt', index=False, header=False, sep='\\t')"
   ]
  },
  {
   "cell_type": "code",
   "execution_count": 119,
   "metadata": {},
   "outputs": [],
   "source": [
    "# Using fasttext to train the word vector\n",
    "train_data = \"train_data_2_2.txt\"\n",
    "model_path = \"emoji_based_hate_speech_model_2_2.bin\"\n",
    "\n",
    "model = fasttext.train_unsupervised(train_data, dim=100)\n",
    "model.save_model(model_path)\n",
    "\n",
    "def encode_text_with_fasttext(series):\n",
    "    encoded_data = series.apply(lambda x: model.get_sentence_vector(x.replace('\\n', ' ')))\n",
    "    return encoded_data\n",
    "\n",
    "X_train_fast = np.vstack(encode_text_with_fasttext(X_train).values)\n",
    "X_test_fast = np.vstack(encode_text_with_fasttext(X_test).values)"
   ]
  },
  {
   "attachments": {},
   "cell_type": "markdown",
   "metadata": {},
   "source": [
    "#### Logistic Regression"
   ]
  },
  {
   "cell_type": "code",
   "execution_count": 120,
   "metadata": {},
   "outputs": [
    {
     "name": "stderr",
     "output_type": "stream",
     "text": [
      "C:\\Users\\lvshu\\AppData\\Local\\Packages\\PythonSoftwareFoundation.Python.3.10_qbz5n2kfra8p0\\LocalCache\\local-packages\\Python310\\site-packages\\sklearn\\model_selection\\_split.py:684: UserWarning: The least populated class in y has only 3 members, which is less than n_splits=5.\n",
      "  warnings.warn(\n"
     ]
    },
    {
     "name": "stdout",
     "output_type": "stream",
     "text": [
      "Best Hyperparameters: {'C': 100.0, 'class_weight': 'balanced', 'max_iter': 1000, 'multi_class': 'multinomial', 'penalty': 'l2', 'solver': 'newton-cg'}\n",
      "Best accuracy score: 0.1375\n",
      "              precision    recall  f1-score   support\n",
      "\n",
      "           0     0.0000    0.0000    0.0000         1\n",
      "           1     0.0000    0.0000    0.0000         2\n",
      "           2     0.6000    0.5000    0.5455         6\n",
      "           3     0.0000    0.0000    0.0000         6\n",
      "           4     0.0000    0.0000    0.0000         1\n",
      "           5     0.5000    0.3333    0.4000         3\n",
      "           6     0.2857    0.5000    0.3636         4\n",
      "           7     0.0000    0.0000    0.0000         1\n",
      "           9     0.0000    0.0000    0.0000         1\n",
      "          10     0.0000    0.0000    0.0000         2\n",
      "          11     0.2500    0.3333    0.2857         3\n",
      "          12     0.0000    0.0000    0.0000         2\n",
      "          13     0.0000    0.0000    0.0000         1\n",
      "          14     0.0000    0.0000    0.0000         0\n",
      "          15     0.1875    0.7500    0.3000         4\n",
      "          16     0.0000    0.0000    0.0000         1\n",
      "          17     0.0000    0.0000    0.0000         2\n",
      "\n",
      "    accuracy                         0.2500        40\n",
      "   macro avg     0.1072    0.1422    0.1115        40\n",
      "weighted avg     0.1936    0.2500    0.1996        40\n",
      "\n",
      "[[0 0 0 0 0 0 0 0 0 0 0 0 0 0 1 0 0]\n",
      " [0 0 0 0 0 0 0 0 0 0 1 0 0 0 1 0 0]\n",
      " [0 0 3 0 0 0 0 0 0 0 0 0 0 1 2 0 0]\n",
      " [0 0 0 0 0 0 3 0 0 0 1 0 0 0 2 0 0]\n",
      " [0 0 0 0 0 1 0 0 0 0 0 0 0 0 0 0 0]\n",
      " [0 0 0 0 0 1 0 0 0 0 0 0 0 0 1 1 0]\n",
      " [0 0 0 0 0 0 2 0 0 0 0 0 0 0 2 0 0]\n",
      " [0 0 0 0 0 0 0 0 0 0 0 0 0 0 0 1 0]\n",
      " [0 0 0 0 0 0 1 0 0 0 0 0 0 0 0 0 0]\n",
      " [0 0 0 1 0 0 0 0 0 0 0 0 0 0 1 0 0]\n",
      " [0 0 0 0 1 0 0 0 0 0 1 0 0 0 1 0 0]\n",
      " [0 0 0 0 0 0 0 0 0 0 1 0 0 0 1 0 0]\n",
      " [0 0 0 0 0 0 1 0 0 0 0 0 0 0 0 0 0]\n",
      " [0 0 0 0 0 0 0 0 0 0 0 0 0 0 0 0 0]\n",
      " [0 0 0 0 0 0 0 0 0 0 0 1 0 0 3 0 0]\n",
      " [0 0 1 0 0 0 0 0 0 0 0 0 0 0 0 0 0]\n",
      " [0 0 1 0 0 0 0 0 0 0 0 0 0 0 1 0 0]]\n",
      "None\n"
     ]
    },
    {
     "name": "stderr",
     "output_type": "stream",
     "text": [
      "C:\\Users\\lvshu\\AppData\\Local\\Packages\\PythonSoftwareFoundation.Python.3.10_qbz5n2kfra8p0\\LocalCache\\local-packages\\Python310\\site-packages\\sklearn\\metrics\\_classification.py:1334: UndefinedMetricWarning: Precision and F-score are ill-defined and being set to 0.0 in labels with no predicted samples. Use `zero_division` parameter to control this behavior.\n",
      "  _warn_prf(average, modifier, msg_start, len(result))\n",
      "C:\\Users\\lvshu\\AppData\\Local\\Packages\\PythonSoftwareFoundation.Python.3.10_qbz5n2kfra8p0\\LocalCache\\local-packages\\Python310\\site-packages\\sklearn\\metrics\\_classification.py:1334: UndefinedMetricWarning: Recall and F-score are ill-defined and being set to 0.0 in labels with no true samples. Use `zero_division` parameter to control this behavior.\n",
      "  _warn_prf(average, modifier, msg_start, len(result))\n",
      "C:\\Users\\lvshu\\AppData\\Local\\Packages\\PythonSoftwareFoundation.Python.3.10_qbz5n2kfra8p0\\LocalCache\\local-packages\\Python310\\site-packages\\sklearn\\metrics\\_classification.py:1334: UndefinedMetricWarning: Precision and F-score are ill-defined and being set to 0.0 in labels with no predicted samples. Use `zero_division` parameter to control this behavior.\n",
      "  _warn_prf(average, modifier, msg_start, len(result))\n",
      "C:\\Users\\lvshu\\AppData\\Local\\Packages\\PythonSoftwareFoundation.Python.3.10_qbz5n2kfra8p0\\LocalCache\\local-packages\\Python310\\site-packages\\sklearn\\metrics\\_classification.py:1334: UndefinedMetricWarning: Recall and F-score are ill-defined and being set to 0.0 in labels with no true samples. Use `zero_division` parameter to control this behavior.\n",
      "  _warn_prf(average, modifier, msg_start, len(result))\n",
      "C:\\Users\\lvshu\\AppData\\Local\\Packages\\PythonSoftwareFoundation.Python.3.10_qbz5n2kfra8p0\\LocalCache\\local-packages\\Python310\\site-packages\\sklearn\\metrics\\_classification.py:1334: UndefinedMetricWarning: Precision and F-score are ill-defined and being set to 0.0 in labels with no predicted samples. Use `zero_division` parameter to control this behavior.\n",
      "  _warn_prf(average, modifier, msg_start, len(result))\n",
      "C:\\Users\\lvshu\\AppData\\Local\\Packages\\PythonSoftwareFoundation.Python.3.10_qbz5n2kfra8p0\\LocalCache\\local-packages\\Python310\\site-packages\\sklearn\\metrics\\_classification.py:1334: UndefinedMetricWarning: Recall and F-score are ill-defined and being set to 0.0 in labels with no true samples. Use `zero_division` parameter to control this behavior.\n",
      "  _warn_prf(average, modifier, msg_start, len(result))\n"
     ]
    }
   ],
   "source": [
    "# Using hashing vectorizer\n",
    "print(lr2_model(X_train_hash, y_train, X_test_hash, y_test))"
   ]
  },
  {
   "cell_type": "code",
   "execution_count": 121,
   "metadata": {},
   "outputs": [
    {
     "name": "stderr",
     "output_type": "stream",
     "text": [
      "C:\\Users\\lvshu\\AppData\\Local\\Packages\\PythonSoftwareFoundation.Python.3.10_qbz5n2kfra8p0\\LocalCache\\local-packages\\Python310\\site-packages\\sklearn\\model_selection\\_split.py:684: UserWarning: The least populated class in y has only 3 members, which is less than n_splits=5.\n",
      "  warnings.warn(\n"
     ]
    },
    {
     "name": "stdout",
     "output_type": "stream",
     "text": [
      "Best Hyperparameters: {'C': 10.0, 'class_weight': 'balanced', 'max_iter': 1000, 'multi_class': 'multinomial', 'penalty': 'l2', 'solver': 'newton-cg'}\n",
      "Best accuracy score: 0.1625\n",
      "              precision    recall  f1-score   support\n",
      "\n",
      "           0     0.0000    0.0000    0.0000         1\n",
      "           1     0.0000    0.0000    0.0000         2\n",
      "           2     0.4000    0.3333    0.3636         6\n",
      "           3     0.2000    0.1667    0.1818         6\n",
      "           4     0.0000    0.0000    0.0000         1\n",
      "           5     0.0000    0.0000    0.0000         3\n",
      "           6     0.5000    0.2500    0.3333         4\n",
      "           7     0.0000    0.0000    0.0000         1\n",
      "           9     0.0000    0.0000    0.0000         1\n",
      "          10     0.0000    0.0000    0.0000         2\n",
      "          11     0.3333    0.3333    0.3333         3\n",
      "          12     0.1667    0.5000    0.2500         2\n",
      "          13     0.0000    0.0000    0.0000         1\n",
      "          14     0.0000    0.0000    0.0000         0\n",
      "          15     1.0000    0.2500    0.4000         4\n",
      "          16     0.5000    1.0000    0.6667         1\n",
      "          17     1.0000    0.5000    0.6667         2\n",
      "          18     0.0000    0.0000    0.0000         0\n",
      "\n",
      "    accuracy                         0.2250        40\n",
      "   macro avg     0.2278    0.1852    0.1775        40\n",
      "weighted avg     0.3358    0.2250    0.2427        40\n",
      "\n",
      "[[0 1 0 0 0 0 0 0 0 0 0 0 0 0 0 0 0 0]\n",
      " [0 0 1 0 0 0 0 0 0 0 1 0 0 0 0 0 0 0]\n",
      " [0 0 2 1 1 0 0 0 0 1 0 0 0 1 0 0 0 0]\n",
      " [1 0 0 1 0 2 0 0 0 0 0 1 0 1 0 0 0 0]\n",
      " [0 0 0 0 0 1 0 0 0 0 0 0 0 0 0 0 0 0]\n",
      " [0 0 0 2 1 0 0 0 0 0 0 0 0 0 0 0 0 0]\n",
      " [0 0 0 0 0 0 1 0 1 1 0 0 0 0 0 0 0 1]\n",
      " [0 0 0 0 0 0 0 0 0 0 0 0 0 0 0 1 0 0]\n",
      " [0 0 0 0 0 0 1 0 0 0 0 0 0 0 0 0 0 0]\n",
      " [0 0 0 1 0 1 0 0 0 0 0 0 0 0 0 0 0 0]\n",
      " [0 0 0 0 0 0 0 0 0 0 1 2 0 0 0 0 0 0]\n",
      " [0 0 0 0 0 0 0 0 0 0 1 1 0 0 0 0 0 0]\n",
      " [0 0 1 0 0 0 0 0 0 0 0 0 0 0 0 0 0 0]\n",
      " [0 0 0 0 0 0 0 0 0 0 0 0 0 0 0 0 0 0]\n",
      " [0 0 1 0 0 0 0 0 0 0 0 2 0 0 1 0 0 0]\n",
      " [0 0 0 0 0 0 0 0 0 0 0 0 0 0 0 1 0 0]\n",
      " [0 0 0 0 0 0 0 0 0 1 0 0 0 0 0 0 1 0]\n",
      " [0 0 0 0 0 0 0 0 0 0 0 0 0 0 0 0 0 0]]\n",
      "None\n"
     ]
    },
    {
     "name": "stderr",
     "output_type": "stream",
     "text": [
      "C:\\Users\\lvshu\\AppData\\Local\\Packages\\PythonSoftwareFoundation.Python.3.10_qbz5n2kfra8p0\\LocalCache\\local-packages\\Python310\\site-packages\\sklearn\\metrics\\_classification.py:1334: UndefinedMetricWarning: Precision and F-score are ill-defined and being set to 0.0 in labels with no predicted samples. Use `zero_division` parameter to control this behavior.\n",
      "  _warn_prf(average, modifier, msg_start, len(result))\n",
      "C:\\Users\\lvshu\\AppData\\Local\\Packages\\PythonSoftwareFoundation.Python.3.10_qbz5n2kfra8p0\\LocalCache\\local-packages\\Python310\\site-packages\\sklearn\\metrics\\_classification.py:1334: UndefinedMetricWarning: Recall and F-score are ill-defined and being set to 0.0 in labels with no true samples. Use `zero_division` parameter to control this behavior.\n",
      "  _warn_prf(average, modifier, msg_start, len(result))\n",
      "C:\\Users\\lvshu\\AppData\\Local\\Packages\\PythonSoftwareFoundation.Python.3.10_qbz5n2kfra8p0\\LocalCache\\local-packages\\Python310\\site-packages\\sklearn\\metrics\\_classification.py:1334: UndefinedMetricWarning: Precision and F-score are ill-defined and being set to 0.0 in labels with no predicted samples. Use `zero_division` parameter to control this behavior.\n",
      "  _warn_prf(average, modifier, msg_start, len(result))\n",
      "C:\\Users\\lvshu\\AppData\\Local\\Packages\\PythonSoftwareFoundation.Python.3.10_qbz5n2kfra8p0\\LocalCache\\local-packages\\Python310\\site-packages\\sklearn\\metrics\\_classification.py:1334: UndefinedMetricWarning: Recall and F-score are ill-defined and being set to 0.0 in labels with no true samples. Use `zero_division` parameter to control this behavior.\n",
      "  _warn_prf(average, modifier, msg_start, len(result))\n",
      "C:\\Users\\lvshu\\AppData\\Local\\Packages\\PythonSoftwareFoundation.Python.3.10_qbz5n2kfra8p0\\LocalCache\\local-packages\\Python310\\site-packages\\sklearn\\metrics\\_classification.py:1334: UndefinedMetricWarning: Precision and F-score are ill-defined and being set to 0.0 in labels with no predicted samples. Use `zero_division` parameter to control this behavior.\n",
      "  _warn_prf(average, modifier, msg_start, len(result))\n",
      "C:\\Users\\lvshu\\AppData\\Local\\Packages\\PythonSoftwareFoundation.Python.3.10_qbz5n2kfra8p0\\LocalCache\\local-packages\\Python310\\site-packages\\sklearn\\metrics\\_classification.py:1334: UndefinedMetricWarning: Recall and F-score are ill-defined and being set to 0.0 in labels with no true samples. Use `zero_division` parameter to control this behavior.\n",
      "  _warn_prf(average, modifier, msg_start, len(result))\n"
     ]
    }
   ],
   "source": [
    "# Using tfidf vectorizer\n",
    "print(lr2_model(X_train_idf, y_train, X_test_idf, y_test))"
   ]
  },
  {
   "cell_type": "code",
   "execution_count": 122,
   "metadata": {},
   "outputs": [
    {
     "name": "stderr",
     "output_type": "stream",
     "text": [
      "C:\\Users\\lvshu\\AppData\\Local\\Packages\\PythonSoftwareFoundation.Python.3.10_qbz5n2kfra8p0\\LocalCache\\local-packages\\Python310\\site-packages\\sklearn\\model_selection\\_split.py:684: UserWarning: The least populated class in y has only 3 members, which is less than n_splits=5.\n",
      "  warnings.warn(\n"
     ]
    },
    {
     "name": "stdout",
     "output_type": "stream",
     "text": [
      "Best Hyperparameters: {'C': 100.0, 'class_weight': 'balanced', 'max_iter': 1000, 'multi_class': 'multinomial', 'penalty': 'l2', 'solver': 'newton-cg'}\n",
      "Best accuracy score: 0.1375\n",
      "              precision    recall  f1-score   support\n",
      "\n",
      "           0     0.5000    1.0000    0.6667         1\n",
      "           1     0.0000    0.0000    0.0000         2\n",
      "           2     1.0000    0.3333    0.5000         6\n",
      "           3     0.0000    0.0000    0.0000         6\n",
      "           4     0.0000    0.0000    0.0000         1\n",
      "           5     0.0000    0.0000    0.0000         3\n",
      "           6     0.0000    0.0000    0.0000         4\n",
      "           7     0.0000    0.0000    0.0000         1\n",
      "           8     0.0000    0.0000    0.0000         0\n",
      "           9     0.5000    1.0000    0.6667         1\n",
      "          10     0.0000    0.0000    0.0000         2\n",
      "          11     0.0000    0.0000    0.0000         3\n",
      "          12     0.0000    0.0000    0.0000         2\n",
      "          13     0.0000    0.0000    0.0000         1\n",
      "          14     0.0000    0.0000    0.0000         0\n",
      "          15     0.0000    0.0000    0.0000         4\n",
      "          16     0.0000    0.0000    0.0000         1\n",
      "          17     1.0000    0.5000    0.6667         2\n",
      "          18     0.0000    0.0000    0.0000         0\n",
      "\n",
      "    accuracy                         0.1250        40\n",
      "   macro avg     0.1579    0.1491    0.1316        40\n",
      "weighted avg     0.2250    0.1250    0.1417        40\n",
      "\n",
      "[[1 0 0 0 0 0 0 0 0 0 0 0 0 0 0 0 0 0 0]\n",
      " [0 0 0 0 0 0 0 0 0 0 0 1 0 0 0 1 0 0 0]\n",
      " [0 0 2 0 0 0 2 0 1 0 0 0 0 0 1 0 0 0 0]\n",
      " [0 0 0 0 1 1 0 0 0 0 0 0 1 0 0 0 3 0 0]\n",
      " [0 0 0 0 0 0 0 0 0 0 0 0 0 1 0 0 0 0 0]\n",
      " [0 0 0 1 0 0 0 0 1 0 0 0 0 0 0 0 1 0 0]\n",
      " [0 0 0 0 0 0 0 0 0 1 0 1 0 0 0 2 0 0 0]\n",
      " [0 0 0 0 0 0 0 0 0 0 0 0 0 0 0 0 1 0 0]\n",
      " [0 0 0 0 0 0 0 0 0 0 0 0 0 0 0 0 0 0 0]\n",
      " [0 0 0 0 0 0 0 0 0 1 0 0 0 0 0 0 0 0 0]\n",
      " [0 0 0 0 0 0 0 1 0 0 0 0 0 0 0 0 1 0 0]\n",
      " [1 0 0 0 0 0 0 0 0 0 0 0 1 0 0 1 0 0 0]\n",
      " [0 0 0 0 0 0 0 1 0 0 0 1 0 0 0 0 0 0 0]\n",
      " [0 0 0 0 0 0 0 0 0 0 0 1 0 0 0 0 0 0 0]\n",
      " [0 0 0 0 0 0 0 0 0 0 0 0 0 0 0 0 0 0 0]\n",
      " [0 0 0 0 0 0 0 0 1 0 0 0 1 0 0 0 1 0 1]\n",
      " [0 0 0 0 0 0 0 0 0 0 0 1 0 0 0 0 0 0 0]\n",
      " [0 0 0 0 0 0 0 0 0 0 0 0 0 0 0 0 1 1 0]\n",
      " [0 0 0 0 0 0 0 0 0 0 0 0 0 0 0 0 0 0 0]]\n",
      "None\n"
     ]
    },
    {
     "name": "stderr",
     "output_type": "stream",
     "text": [
      "C:\\Users\\lvshu\\AppData\\Local\\Packages\\PythonSoftwareFoundation.Python.3.10_qbz5n2kfra8p0\\LocalCache\\local-packages\\Python310\\site-packages\\sklearn\\metrics\\_classification.py:1334: UndefinedMetricWarning: Precision and F-score are ill-defined and being set to 0.0 in labels with no predicted samples. Use `zero_division` parameter to control this behavior.\n",
      "  _warn_prf(average, modifier, msg_start, len(result))\n",
      "C:\\Users\\lvshu\\AppData\\Local\\Packages\\PythonSoftwareFoundation.Python.3.10_qbz5n2kfra8p0\\LocalCache\\local-packages\\Python310\\site-packages\\sklearn\\metrics\\_classification.py:1334: UndefinedMetricWarning: Recall and F-score are ill-defined and being set to 0.0 in labels with no true samples. Use `zero_division` parameter to control this behavior.\n",
      "  _warn_prf(average, modifier, msg_start, len(result))\n",
      "C:\\Users\\lvshu\\AppData\\Local\\Packages\\PythonSoftwareFoundation.Python.3.10_qbz5n2kfra8p0\\LocalCache\\local-packages\\Python310\\site-packages\\sklearn\\metrics\\_classification.py:1334: UndefinedMetricWarning: Precision and F-score are ill-defined and being set to 0.0 in labels with no predicted samples. Use `zero_division` parameter to control this behavior.\n",
      "  _warn_prf(average, modifier, msg_start, len(result))\n",
      "C:\\Users\\lvshu\\AppData\\Local\\Packages\\PythonSoftwareFoundation.Python.3.10_qbz5n2kfra8p0\\LocalCache\\local-packages\\Python310\\site-packages\\sklearn\\metrics\\_classification.py:1334: UndefinedMetricWarning: Recall and F-score are ill-defined and being set to 0.0 in labels with no true samples. Use `zero_division` parameter to control this behavior.\n",
      "  _warn_prf(average, modifier, msg_start, len(result))\n",
      "C:\\Users\\lvshu\\AppData\\Local\\Packages\\PythonSoftwareFoundation.Python.3.10_qbz5n2kfra8p0\\LocalCache\\local-packages\\Python310\\site-packages\\sklearn\\metrics\\_classification.py:1334: UndefinedMetricWarning: Precision and F-score are ill-defined and being set to 0.0 in labels with no predicted samples. Use `zero_division` parameter to control this behavior.\n",
      "  _warn_prf(average, modifier, msg_start, len(result))\n",
      "C:\\Users\\lvshu\\AppData\\Local\\Packages\\PythonSoftwareFoundation.Python.3.10_qbz5n2kfra8p0\\LocalCache\\local-packages\\Python310\\site-packages\\sklearn\\metrics\\_classification.py:1334: UndefinedMetricWarning: Recall and F-score are ill-defined and being set to 0.0 in labels with no true samples. Use `zero_division` parameter to control this behavior.\n",
      "  _warn_prf(average, modifier, msg_start, len(result))\n"
     ]
    }
   ],
   "source": [
    "# Using fasttext\n",
    "print(lr2_model(X_train_fast, y_train, X_test_fast, y_test))"
   ]
  },
  {
   "attachments": {},
   "cell_type": "markdown",
   "metadata": {},
   "source": [
    "#### SVM"
   ]
  },
  {
   "cell_type": "code",
   "execution_count": 123,
   "metadata": {},
   "outputs": [
    {
     "name": "stderr",
     "output_type": "stream",
     "text": [
      "C:\\Users\\lvshu\\AppData\\Local\\Packages\\PythonSoftwareFoundation.Python.3.10_qbz5n2kfra8p0\\LocalCache\\local-packages\\Python310\\site-packages\\sklearn\\model_selection\\_split.py:684: UserWarning: The least populated class in y has only 3 members, which is less than n_splits=5.\n",
      "  warnings.warn(\n"
     ]
    },
    {
     "name": "stdout",
     "output_type": "stream",
     "text": [
      "Best Hyperparameters: {'C': 1, 'class_weight': 'balanced', 'decision_function_shape': 'ovr', 'gamma': 'scale', 'kernel': 'rbf'}\n",
      "Best accuracy score: 0.1625\n",
      "              precision    recall  f1-score   support\n",
      "\n",
      "           0     0.0000    0.0000    0.0000         1\n",
      "           1     0.0000    0.0000    0.0000         2\n",
      "           2     0.4000    0.6667    0.5000         6\n",
      "           3     0.0000    0.0000    0.0000         6\n",
      "           4     0.0000    0.0000    0.0000         1\n",
      "           5     0.0000    0.0000    0.0000         3\n",
      "           6     0.3000    0.7500    0.4286         4\n",
      "           7     0.0000    0.0000    0.0000         1\n",
      "           9     0.0000    0.0000    0.0000         1\n",
      "          10     0.0000    0.0000    0.0000         2\n",
      "          11     0.0000    0.0000    0.0000         3\n",
      "          12     0.0000    0.0000    0.0000         2\n",
      "          13     0.0000    0.0000    0.0000         1\n",
      "          14     0.0000    0.0000    0.0000         0\n",
      "          15     0.0833    0.2500    0.1250         4\n",
      "          16     0.0000    0.0000    0.0000         1\n",
      "          17     0.0000    0.0000    0.0000         2\n",
      "\n",
      "    accuracy                         0.2000        40\n",
      "   macro avg     0.0461    0.0980    0.0620        40\n",
      "weighted avg     0.0983    0.2000    0.1304        40\n",
      "\n",
      "[[0 0 0 0 0 0 0 0 0 0 0 0 0 0 1 0 0]\n",
      " [0 0 1 0 0 0 0 0 0 0 0 1 0 0 0 0 0]\n",
      " [0 0 4 0 0 0 0 0 0 0 0 0 0 1 1 0 0]\n",
      " [0 0 1 0 0 0 3 0 0 0 0 1 0 0 1 0 0]\n",
      " [0 0 0 0 0 0 1 0 0 0 0 0 0 0 0 0 0]\n",
      " [0 0 0 0 0 0 1 0 0 0 0 0 0 0 2 0 0]\n",
      " [0 0 0 0 0 0 3 0 0 0 0 0 0 0 1 0 0]\n",
      " [0 0 0 0 0 0 1 0 0 0 0 0 0 0 0 0 0]\n",
      " [0 0 0 0 0 0 1 0 0 0 0 0 0 0 0 0 0]\n",
      " [0 0 0 0 0 0 0 0 0 0 0 0 0 0 2 0 0]\n",
      " [0 0 0 0 0 0 0 0 0 0 0 2 0 0 1 0 0]\n",
      " [0 0 1 0 0 0 0 0 0 0 1 0 0 0 0 0 0]\n",
      " [0 0 0 0 0 0 0 0 0 0 0 0 0 0 1 0 0]\n",
      " [0 0 0 0 0 0 0 0 0 0 0 0 0 0 0 0 0]\n",
      " [0 0 1 0 0 0 0 0 0 0 0 2 0 0 1 0 0]\n",
      " [0 0 1 0 0 0 0 0 0 0 0 0 0 0 0 0 0]\n",
      " [0 0 1 0 0 0 0 0 0 0 0 0 0 0 1 0 0]]\n",
      "None\n"
     ]
    },
    {
     "name": "stderr",
     "output_type": "stream",
     "text": [
      "C:\\Users\\lvshu\\AppData\\Local\\Packages\\PythonSoftwareFoundation.Python.3.10_qbz5n2kfra8p0\\LocalCache\\local-packages\\Python310\\site-packages\\sklearn\\metrics\\_classification.py:1334: UndefinedMetricWarning: Precision and F-score are ill-defined and being set to 0.0 in labels with no predicted samples. Use `zero_division` parameter to control this behavior.\n",
      "  _warn_prf(average, modifier, msg_start, len(result))\n",
      "C:\\Users\\lvshu\\AppData\\Local\\Packages\\PythonSoftwareFoundation.Python.3.10_qbz5n2kfra8p0\\LocalCache\\local-packages\\Python310\\site-packages\\sklearn\\metrics\\_classification.py:1334: UndefinedMetricWarning: Recall and F-score are ill-defined and being set to 0.0 in labels with no true samples. Use `zero_division` parameter to control this behavior.\n",
      "  _warn_prf(average, modifier, msg_start, len(result))\n",
      "C:\\Users\\lvshu\\AppData\\Local\\Packages\\PythonSoftwareFoundation.Python.3.10_qbz5n2kfra8p0\\LocalCache\\local-packages\\Python310\\site-packages\\sklearn\\metrics\\_classification.py:1334: UndefinedMetricWarning: Precision and F-score are ill-defined and being set to 0.0 in labels with no predicted samples. Use `zero_division` parameter to control this behavior.\n",
      "  _warn_prf(average, modifier, msg_start, len(result))\n",
      "C:\\Users\\lvshu\\AppData\\Local\\Packages\\PythonSoftwareFoundation.Python.3.10_qbz5n2kfra8p0\\LocalCache\\local-packages\\Python310\\site-packages\\sklearn\\metrics\\_classification.py:1334: UndefinedMetricWarning: Recall and F-score are ill-defined and being set to 0.0 in labels with no true samples. Use `zero_division` parameter to control this behavior.\n",
      "  _warn_prf(average, modifier, msg_start, len(result))\n",
      "C:\\Users\\lvshu\\AppData\\Local\\Packages\\PythonSoftwareFoundation.Python.3.10_qbz5n2kfra8p0\\LocalCache\\local-packages\\Python310\\site-packages\\sklearn\\metrics\\_classification.py:1334: UndefinedMetricWarning: Precision and F-score are ill-defined and being set to 0.0 in labels with no predicted samples. Use `zero_division` parameter to control this behavior.\n",
      "  _warn_prf(average, modifier, msg_start, len(result))\n",
      "C:\\Users\\lvshu\\AppData\\Local\\Packages\\PythonSoftwareFoundation.Python.3.10_qbz5n2kfra8p0\\LocalCache\\local-packages\\Python310\\site-packages\\sklearn\\metrics\\_classification.py:1334: UndefinedMetricWarning: Recall and F-score are ill-defined and being set to 0.0 in labels with no true samples. Use `zero_division` parameter to control this behavior.\n",
      "  _warn_prf(average, modifier, msg_start, len(result))\n"
     ]
    }
   ],
   "source": [
    "# Using hashing vectorizer\n",
    "print(svm2_model(X_train_hash, y_train, X_test_hash, y_test))"
   ]
  },
  {
   "cell_type": "code",
   "execution_count": 124,
   "metadata": {},
   "outputs": [
    {
     "name": "stderr",
     "output_type": "stream",
     "text": [
      "C:\\Users\\lvshu\\AppData\\Local\\Packages\\PythonSoftwareFoundation.Python.3.10_qbz5n2kfra8p0\\LocalCache\\local-packages\\Python310\\site-packages\\sklearn\\model_selection\\_split.py:684: UserWarning: The least populated class in y has only 3 members, which is less than n_splits=5.\n",
      "  warnings.warn(\n"
     ]
    },
    {
     "name": "stdout",
     "output_type": "stream",
     "text": [
      "Best Hyperparameters: {'C': 10, 'class_weight': 'balanced', 'decision_function_shape': 'ovr', 'gamma': 'scale', 'kernel': 'rbf'}\n",
      "Best accuracy score: 0.15625\n",
      "              precision    recall  f1-score   support\n",
      "\n",
      "           0     0.0000    0.0000    0.0000         1\n",
      "           1     0.0000    0.0000    0.0000         2\n",
      "           2     0.1667    0.1667    0.1667         6\n",
      "           3     0.2000    0.1667    0.1818         6\n",
      "           4     0.0000    0.0000    0.0000         1\n",
      "           5     0.0000    0.0000    0.0000         3\n",
      "           6     0.5000    0.2500    0.3333         4\n",
      "           7     0.0000    0.0000    0.0000         1\n",
      "           9     0.0000    0.0000    0.0000         1\n",
      "          10     0.0000    0.0000    0.0000         2\n",
      "          11     0.0000    0.0000    0.0000         3\n",
      "          12     0.1667    0.5000    0.2500         2\n",
      "          13     0.0000    0.0000    0.0000         1\n",
      "          14     0.0000    0.0000    0.0000         0\n",
      "          15     0.1429    0.2500    0.1818         4\n",
      "          16     0.5000    1.0000    0.6667         1\n",
      "          17     0.0000    0.0000    0.0000         2\n",
      "          18     0.0000    0.0000    0.0000         0\n",
      "\n",
      "    accuracy                         0.1500        40\n",
      "   macro avg     0.0931    0.1296    0.0989        40\n",
      "weighted avg     0.1401    0.1500    0.1330        40\n",
      "\n",
      "[[0 0 0 0 0 0 0 0 0 0 0 0 0 0 1 0 0 0]\n",
      " [0 0 1 0 0 0 0 0 0 0 1 0 0 0 0 0 0 0]\n",
      " [0 0 1 1 0 0 1 0 0 1 0 0 0 1 1 0 0 0]\n",
      " [0 0 0 1 0 1 0 0 0 0 0 1 0 1 2 0 0 0]\n",
      " [0 0 0 0 0 1 0 0 0 0 0 0 0 0 0 0 0 0]\n",
      " [0 0 1 2 0 0 0 0 0 0 0 0 0 0 0 0 0 0]\n",
      " [0 0 1 0 0 0 1 0 1 0 0 0 0 0 0 0 0 1]\n",
      " [0 0 0 0 0 0 0 0 0 0 0 0 0 0 0 1 0 0]\n",
      " [0 0 1 0 0 0 0 0 0 0 0 0 0 0 0 0 0 0]\n",
      " [0 0 0 1 0 1 0 0 0 0 0 0 0 0 0 0 0 0]\n",
      " [0 0 0 0 1 0 0 0 0 0 0 2 0 0 0 0 0 0]\n",
      " [0 0 0 0 1 0 0 0 0 0 0 1 0 0 0 0 0 0]\n",
      " [0 0 0 0 0 0 0 0 0 0 0 0 0 0 1 0 0 0]\n",
      " [0 0 0 0 0 0 0 0 0 0 0 0 0 0 0 0 0 0]\n",
      " [0 0 1 0 0 0 0 0 0 0 0 2 0 0 1 0 0 0]\n",
      " [0 0 0 0 0 0 0 0 0 0 0 0 0 0 0 1 0 0]\n",
      " [0 0 0 0 0 0 0 0 0 1 0 0 0 0 1 0 0 0]\n",
      " [0 0 0 0 0 0 0 0 0 0 0 0 0 0 0 0 0 0]]\n",
      "None\n"
     ]
    },
    {
     "name": "stderr",
     "output_type": "stream",
     "text": [
      "C:\\Users\\lvshu\\AppData\\Local\\Packages\\PythonSoftwareFoundation.Python.3.10_qbz5n2kfra8p0\\LocalCache\\local-packages\\Python310\\site-packages\\sklearn\\metrics\\_classification.py:1334: UndefinedMetricWarning: Precision and F-score are ill-defined and being set to 0.0 in labels with no predicted samples. Use `zero_division` parameter to control this behavior.\n",
      "  _warn_prf(average, modifier, msg_start, len(result))\n",
      "C:\\Users\\lvshu\\AppData\\Local\\Packages\\PythonSoftwareFoundation.Python.3.10_qbz5n2kfra8p0\\LocalCache\\local-packages\\Python310\\site-packages\\sklearn\\metrics\\_classification.py:1334: UndefinedMetricWarning: Recall and F-score are ill-defined and being set to 0.0 in labels with no true samples. Use `zero_division` parameter to control this behavior.\n",
      "  _warn_prf(average, modifier, msg_start, len(result))\n",
      "C:\\Users\\lvshu\\AppData\\Local\\Packages\\PythonSoftwareFoundation.Python.3.10_qbz5n2kfra8p0\\LocalCache\\local-packages\\Python310\\site-packages\\sklearn\\metrics\\_classification.py:1334: UndefinedMetricWarning: Precision and F-score are ill-defined and being set to 0.0 in labels with no predicted samples. Use `zero_division` parameter to control this behavior.\n",
      "  _warn_prf(average, modifier, msg_start, len(result))\n",
      "C:\\Users\\lvshu\\AppData\\Local\\Packages\\PythonSoftwareFoundation.Python.3.10_qbz5n2kfra8p0\\LocalCache\\local-packages\\Python310\\site-packages\\sklearn\\metrics\\_classification.py:1334: UndefinedMetricWarning: Recall and F-score are ill-defined and being set to 0.0 in labels with no true samples. Use `zero_division` parameter to control this behavior.\n",
      "  _warn_prf(average, modifier, msg_start, len(result))\n",
      "C:\\Users\\lvshu\\AppData\\Local\\Packages\\PythonSoftwareFoundation.Python.3.10_qbz5n2kfra8p0\\LocalCache\\local-packages\\Python310\\site-packages\\sklearn\\metrics\\_classification.py:1334: UndefinedMetricWarning: Precision and F-score are ill-defined and being set to 0.0 in labels with no predicted samples. Use `zero_division` parameter to control this behavior.\n",
      "  _warn_prf(average, modifier, msg_start, len(result))\n",
      "C:\\Users\\lvshu\\AppData\\Local\\Packages\\PythonSoftwareFoundation.Python.3.10_qbz5n2kfra8p0\\LocalCache\\local-packages\\Python310\\site-packages\\sklearn\\metrics\\_classification.py:1334: UndefinedMetricWarning: Recall and F-score are ill-defined and being set to 0.0 in labels with no true samples. Use `zero_division` parameter to control this behavior.\n",
      "  _warn_prf(average, modifier, msg_start, len(result))\n"
     ]
    }
   ],
   "source": [
    "# Using tfidf vectorizer\n",
    "print(svm2_model(X_train_idf, y_train, X_test_idf, y_test))"
   ]
  },
  {
   "cell_type": "code",
   "execution_count": 125,
   "metadata": {},
   "outputs": [
    {
     "name": "stderr",
     "output_type": "stream",
     "text": [
      "C:\\Users\\lvshu\\AppData\\Local\\Packages\\PythonSoftwareFoundation.Python.3.10_qbz5n2kfra8p0\\LocalCache\\local-packages\\Python310\\site-packages\\sklearn\\model_selection\\_split.py:684: UserWarning: The least populated class in y has only 3 members, which is less than n_splits=5.\n",
      "  warnings.warn(\n"
     ]
    },
    {
     "name": "stdout",
     "output_type": "stream",
     "text": [
      "Best Hyperparameters: {'C': 10, 'class_weight': 'balanced', 'decision_function_shape': 'ovr', 'gamma': 'scale', 'kernel': 'rbf'}\n",
      "Best accuracy score: 0.13125\n",
      "              precision    recall  f1-score   support\n",
      "\n",
      "           0     1.0000    1.0000    1.0000         1\n",
      "           1     0.0000    0.0000    0.0000         2\n",
      "           2     0.5000    0.1667    0.2500         6\n",
      "           3     0.5000    0.1667    0.2500         6\n",
      "           4     0.0000    0.0000    0.0000         1\n",
      "           5     0.0000    0.0000    0.0000         3\n",
      "           6     0.5000    0.2500    0.3333         4\n",
      "           7     0.0000    0.0000    0.0000         1\n",
      "           8     0.0000    0.0000    0.0000         0\n",
      "           9     1.0000    1.0000    1.0000         1\n",
      "          10     0.0000    0.0000    0.0000         2\n",
      "          11     0.2000    0.3333    0.2500         3\n",
      "          12     0.0000    0.0000    0.0000         2\n",
      "          13     0.0000    0.0000    0.0000         1\n",
      "          14     0.0000    0.0000    0.0000         0\n",
      "          15     0.3333    0.5000    0.4000         4\n",
      "          16     0.0000    0.0000    0.0000         1\n",
      "          17     0.0000    0.0000    0.0000         2\n",
      "\n",
      "    accuracy                         0.2000        40\n",
      "   macro avg     0.2241    0.1898    0.1935        40\n",
      "weighted avg     0.2983    0.2000    0.2171        40\n",
      "\n",
      "[[1 0 0 0 0 0 0 0 0 0 0 0 0 0 0 0 0 0]\n",
      " [0 0 0 0 0 0 0 0 0 0 0 1 0 0 0 0 1 0]\n",
      " [0 0 1 0 1 0 1 0 0 0 0 0 0 0 1 1 1 0]\n",
      " [0 0 0 1 2 1 0 0 0 0 0 0 1 0 0 0 1 0]\n",
      " [0 0 0 0 0 0 0 0 0 0 0 0 0 1 0 0 0 0]\n",
      " [0 0 0 1 0 0 0 0 1 0 0 0 0 0 0 0 1 0]\n",
      " [0 0 0 0 0 0 1 0 0 0 0 1 0 0 0 1 1 0]\n",
      " [0 0 0 0 0 0 0 0 0 0 0 0 1 0 0 0 0 0]\n",
      " [0 0 0 0 0 0 0 0 0 0 0 0 0 0 0 0 0 0]\n",
      " [0 0 0 0 0 0 0 0 0 1 0 0 0 0 0 0 0 0]\n",
      " [0 0 0 0 0 0 0 0 0 0 0 0 1 0 0 1 0 0]\n",
      " [0 0 0 0 0 0 0 0 0 0 0 1 1 0 0 1 0 0]\n",
      " [0 0 0 0 2 0 0 0 0 0 0 0 0 0 0 0 0 0]\n",
      " [0 0 0 0 0 0 0 0 0 0 0 1 0 0 0 0 0 0]\n",
      " [0 0 0 0 0 0 0 0 0 0 0 0 0 0 0 0 0 0]\n",
      " [0 0 0 0 0 0 0 0 0 0 0 0 0 0 0 2 1 1]\n",
      " [0 0 0 0 0 0 0 0 0 0 0 1 0 0 0 0 0 0]\n",
      " [0 0 1 0 0 0 0 0 0 0 0 0 0 0 0 0 1 0]]\n",
      "None\n"
     ]
    },
    {
     "name": "stderr",
     "output_type": "stream",
     "text": [
      "C:\\Users\\lvshu\\AppData\\Local\\Packages\\PythonSoftwareFoundation.Python.3.10_qbz5n2kfra8p0\\LocalCache\\local-packages\\Python310\\site-packages\\sklearn\\metrics\\_classification.py:1334: UndefinedMetricWarning: Precision and F-score are ill-defined and being set to 0.0 in labels with no predicted samples. Use `zero_division` parameter to control this behavior.\n",
      "  _warn_prf(average, modifier, msg_start, len(result))\n",
      "C:\\Users\\lvshu\\AppData\\Local\\Packages\\PythonSoftwareFoundation.Python.3.10_qbz5n2kfra8p0\\LocalCache\\local-packages\\Python310\\site-packages\\sklearn\\metrics\\_classification.py:1334: UndefinedMetricWarning: Recall and F-score are ill-defined and being set to 0.0 in labels with no true samples. Use `zero_division` parameter to control this behavior.\n",
      "  _warn_prf(average, modifier, msg_start, len(result))\n",
      "C:\\Users\\lvshu\\AppData\\Local\\Packages\\PythonSoftwareFoundation.Python.3.10_qbz5n2kfra8p0\\LocalCache\\local-packages\\Python310\\site-packages\\sklearn\\metrics\\_classification.py:1334: UndefinedMetricWarning: Precision and F-score are ill-defined and being set to 0.0 in labels with no predicted samples. Use `zero_division` parameter to control this behavior.\n",
      "  _warn_prf(average, modifier, msg_start, len(result))\n",
      "C:\\Users\\lvshu\\AppData\\Local\\Packages\\PythonSoftwareFoundation.Python.3.10_qbz5n2kfra8p0\\LocalCache\\local-packages\\Python310\\site-packages\\sklearn\\metrics\\_classification.py:1334: UndefinedMetricWarning: Recall and F-score are ill-defined and being set to 0.0 in labels with no true samples. Use `zero_division` parameter to control this behavior.\n",
      "  _warn_prf(average, modifier, msg_start, len(result))\n",
      "C:\\Users\\lvshu\\AppData\\Local\\Packages\\PythonSoftwareFoundation.Python.3.10_qbz5n2kfra8p0\\LocalCache\\local-packages\\Python310\\site-packages\\sklearn\\metrics\\_classification.py:1334: UndefinedMetricWarning: Precision and F-score are ill-defined and being set to 0.0 in labels with no predicted samples. Use `zero_division` parameter to control this behavior.\n",
      "  _warn_prf(average, modifier, msg_start, len(result))\n",
      "C:\\Users\\lvshu\\AppData\\Local\\Packages\\PythonSoftwareFoundation.Python.3.10_qbz5n2kfra8p0\\LocalCache\\local-packages\\Python310\\site-packages\\sklearn\\metrics\\_classification.py:1334: UndefinedMetricWarning: Recall and F-score are ill-defined and being set to 0.0 in labels with no true samples. Use `zero_division` parameter to control this behavior.\n",
      "  _warn_prf(average, modifier, msg_start, len(result))\n"
     ]
    }
   ],
   "source": [
    "# Using fasttext\n",
    "print(svm2_model(X_train_fast, y_train, X_test_fast, y_test))"
   ]
  },
  {
   "attachments": {},
   "cell_type": "markdown",
   "metadata": {},
   "source": [
    "#### Decision Tree Classifier"
   ]
  },
  {
   "cell_type": "code",
   "execution_count": 126,
   "metadata": {},
   "outputs": [
    {
     "name": "stderr",
     "output_type": "stream",
     "text": [
      "C:\\Users\\lvshu\\AppData\\Local\\Packages\\PythonSoftwareFoundation.Python.3.10_qbz5n2kfra8p0\\LocalCache\\local-packages\\Python310\\site-packages\\sklearn\\model_selection\\_split.py:684: UserWarning: The least populated class in y has only 3 members, which is less than n_splits=5.\n",
      "  warnings.warn(\n"
     ]
    },
    {
     "name": "stdout",
     "output_type": "stream",
     "text": [
      "Best Hyperparameters: {'class_weight': 'balanced', 'criterion': 'entropy', 'max_depth': None, 'min_samples_leaf': 1, 'min_samples_split': 5}\n",
      "Best accuracy score: 0.16875\n",
      "              precision    recall  f1-score   support\n",
      "\n",
      "           0     0.0000    0.0000    0.0000         1\n",
      "           1     0.0000    0.0000    0.0000         2\n",
      "           2     0.7500    0.5000    0.6000         6\n",
      "           3     0.0000    0.0000    0.0000         6\n",
      "           4     0.0000    0.0000    0.0000         1\n",
      "           5     0.0000    0.0000    0.0000         3\n",
      "           6     0.1667    0.2500    0.2000         4\n",
      "           7     0.0000    0.0000    0.0000         1\n",
      "           8     0.0000    0.0000    0.0000         0\n",
      "           9     0.0000    0.0000    0.0000         1\n",
      "          10     0.0000    0.0000    0.0000         2\n",
      "          11     0.0000    0.0000    0.0000         3\n",
      "          12     0.3333    0.5000    0.4000         2\n",
      "          13     0.0000    0.0000    0.0000         1\n",
      "          14     0.0000    0.0000    0.0000         0\n",
      "          15     0.6667    0.5000    0.5714         4\n",
      "          16     0.0000    0.0000    0.0000         1\n",
      "          17     0.5000    0.5000    0.5000         2\n",
      "\n",
      "    accuracy                         0.2000        40\n",
      "   macro avg     0.1343    0.1250    0.1262        40\n",
      "weighted avg     0.2375    0.2000    0.2121        40\n",
      "\n",
      "[[0 0 0 0 0 0 0 0 0 0 0 0 0 0 1 0 0 0]\n",
      " [0 0 1 0 1 0 0 0 0 0 0 0 0 0 0 0 0 0]\n",
      " [0 0 3 0 0 0 0 0 0 0 0 1 0 0 2 0 0 0]\n",
      " [1 0 0 0 0 1 2 0 0 0 0 0 1 0 1 0 0 0]\n",
      " [0 0 0 0 0 1 0 0 0 0 0 0 0 0 0 0 0 0]\n",
      " [0 0 0 0 0 0 2 0 0 0 0 0 0 0 0 1 0 0]\n",
      " [0 0 0 0 0 0 1 1 0 1 0 1 0 0 0 0 0 0]\n",
      " [0 0 0 0 0 0 0 0 0 0 0 0 0 0 0 0 1 0]\n",
      " [0 0 0 0 0 0 0 0 0 0 0 0 0 0 0 0 0 0]\n",
      " [0 0 0 0 0 0 1 0 0 0 0 0 0 0 0 0 0 0]\n",
      " [0 0 0 0 0 2 0 0 0 0 0 0 0 0 0 0 0 0]\n",
      " [0 0 0 0 0 0 0 0 0 0 0 0 1 0 2 0 0 0]\n",
      " [0 0 0 0 0 0 0 0 0 0 0 0 1 0 1 0 0 0]\n",
      " [0 0 0 0 0 0 0 0 0 0 0 0 0 0 1 0 0 0]\n",
      " [0 0 0 0 0 0 0 0 0 0 0 0 0 0 0 0 0 0]\n",
      " [0 0 0 0 1 0 0 0 0 0 0 0 0 0 0 2 1 0]\n",
      " [0 0 0 0 0 0 0 0 0 0 0 0 0 0 0 0 0 1]\n",
      " [0 0 0 0 0 0 0 0 1 0 0 0 0 0 0 0 0 1]]\n",
      "None\n"
     ]
    },
    {
     "name": "stderr",
     "output_type": "stream",
     "text": [
      "C:\\Users\\lvshu\\AppData\\Local\\Packages\\PythonSoftwareFoundation.Python.3.10_qbz5n2kfra8p0\\LocalCache\\local-packages\\Python310\\site-packages\\sklearn\\metrics\\_classification.py:1334: UndefinedMetricWarning: Precision and F-score are ill-defined and being set to 0.0 in labels with no predicted samples. Use `zero_division` parameter to control this behavior.\n",
      "  _warn_prf(average, modifier, msg_start, len(result))\n",
      "C:\\Users\\lvshu\\AppData\\Local\\Packages\\PythonSoftwareFoundation.Python.3.10_qbz5n2kfra8p0\\LocalCache\\local-packages\\Python310\\site-packages\\sklearn\\metrics\\_classification.py:1334: UndefinedMetricWarning: Recall and F-score are ill-defined and being set to 0.0 in labels with no true samples. Use `zero_division` parameter to control this behavior.\n",
      "  _warn_prf(average, modifier, msg_start, len(result))\n",
      "C:\\Users\\lvshu\\AppData\\Local\\Packages\\PythonSoftwareFoundation.Python.3.10_qbz5n2kfra8p0\\LocalCache\\local-packages\\Python310\\site-packages\\sklearn\\metrics\\_classification.py:1334: UndefinedMetricWarning: Precision and F-score are ill-defined and being set to 0.0 in labels with no predicted samples. Use `zero_division` parameter to control this behavior.\n",
      "  _warn_prf(average, modifier, msg_start, len(result))\n",
      "C:\\Users\\lvshu\\AppData\\Local\\Packages\\PythonSoftwareFoundation.Python.3.10_qbz5n2kfra8p0\\LocalCache\\local-packages\\Python310\\site-packages\\sklearn\\metrics\\_classification.py:1334: UndefinedMetricWarning: Recall and F-score are ill-defined and being set to 0.0 in labels with no true samples. Use `zero_division` parameter to control this behavior.\n",
      "  _warn_prf(average, modifier, msg_start, len(result))\n",
      "C:\\Users\\lvshu\\AppData\\Local\\Packages\\PythonSoftwareFoundation.Python.3.10_qbz5n2kfra8p0\\LocalCache\\local-packages\\Python310\\site-packages\\sklearn\\metrics\\_classification.py:1334: UndefinedMetricWarning: Precision and F-score are ill-defined and being set to 0.0 in labels with no predicted samples. Use `zero_division` parameter to control this behavior.\n",
      "  _warn_prf(average, modifier, msg_start, len(result))\n",
      "C:\\Users\\lvshu\\AppData\\Local\\Packages\\PythonSoftwareFoundation.Python.3.10_qbz5n2kfra8p0\\LocalCache\\local-packages\\Python310\\site-packages\\sklearn\\metrics\\_classification.py:1334: UndefinedMetricWarning: Recall and F-score are ill-defined and being set to 0.0 in labels with no true samples. Use `zero_division` parameter to control this behavior.\n",
      "  _warn_prf(average, modifier, msg_start, len(result))\n"
     ]
    }
   ],
   "source": [
    "# Using hashing vectorizer\n",
    "print(dtc2_model(X_train_hash, y_train, X_test_hash, y_test))"
   ]
  },
  {
   "cell_type": "code",
   "execution_count": 127,
   "metadata": {},
   "outputs": [
    {
     "name": "stderr",
     "output_type": "stream",
     "text": [
      "C:\\Users\\lvshu\\AppData\\Local\\Packages\\PythonSoftwareFoundation.Python.3.10_qbz5n2kfra8p0\\LocalCache\\local-packages\\Python310\\site-packages\\sklearn\\model_selection\\_split.py:684: UserWarning: The least populated class in y has only 3 members, which is less than n_splits=5.\n",
      "  warnings.warn(\n"
     ]
    },
    {
     "name": "stdout",
     "output_type": "stream",
     "text": [
      "Best Hyperparameters: {'class_weight': 'balanced', 'criterion': 'entropy', 'max_depth': None, 'min_samples_leaf': 1, 'min_samples_split': 20}\n",
      "Best accuracy score: 0.1125\n",
      "              precision    recall  f1-score   support\n",
      "\n",
      "           0     0.0000    0.0000    0.0000         1\n",
      "           1     0.0000    0.0000    0.0000         2\n",
      "           2     0.0000    0.0000    0.0000         6\n",
      "           3     0.0000    0.0000    0.0000         6\n",
      "           4     0.0000    0.0000    0.0000         1\n",
      "           5     0.1667    0.3333    0.2222         3\n",
      "           6     0.0667    0.2500    0.1053         4\n",
      "           7     0.0000    0.0000    0.0000         1\n",
      "           8     0.0000    0.0000    0.0000         0\n",
      "           9     0.0000    0.0000    0.0000         1\n",
      "          10     0.0000    0.0000    0.0000         2\n",
      "          11     0.0000    0.0000    0.0000         3\n",
      "          12     0.0000    0.0000    0.0000         2\n",
      "          13     0.0000    0.0000    0.0000         1\n",
      "          14     0.0000    0.0000    0.0000         0\n",
      "          15     0.0000    0.0000    0.0000         4\n",
      "          16     0.0000    0.0000    0.0000         1\n",
      "          17     0.5000    0.5000    0.5000         2\n",
      "\n",
      "    accuracy                         0.0750        40\n",
      "   macro avg     0.0407    0.0602    0.0460        40\n",
      "weighted avg     0.0442    0.0750    0.0522        40\n",
      "\n",
      "[[0 0 0 0 0 0 1 0 0 0 0 0 0 0 0 0 0 0]\n",
      " [0 0 0 0 1 0 0 0 0 0 0 0 1 0 0 0 0 0]\n",
      " [2 1 0 0 0 0 2 0 0 0 0 0 0 0 1 0 0 0]\n",
      " [0 0 0 0 0 1 3 0 0 0 1 0 0 1 0 0 0 0]\n",
      " [0 0 0 0 0 1 0 0 0 0 0 0 0 0 0 0 0 0]\n",
      " [0 0 0 0 0 1 2 0 0 0 0 0 0 0 0 0 0 0]\n",
      " [1 0 0 0 0 2 1 0 0 0 0 0 0 0 0 0 0 0]\n",
      " [0 0 0 0 0 0 1 0 0 0 0 0 0 0 0 0 0 0]\n",
      " [0 0 0 0 0 0 0 0 0 0 0 0 0 0 0 0 0 0]\n",
      " [0 0 0 0 0 0 1 0 0 0 0 0 0 0 0 0 0 0]\n",
      " [0 0 0 0 0 1 1 0 0 0 0 0 0 0 0 0 0 0]\n",
      " [0 0 0 0 0 0 0 0 0 0 0 0 1 2 0 0 0 0]\n",
      " [0 0 0 0 0 0 0 0 1 0 0 0 0 1 0 0 0 0]\n",
      " [0 0 0 0 0 0 1 0 0 0 0 0 0 0 0 0 0 0]\n",
      " [0 0 0 0 0 0 0 0 0 0 0 0 0 0 0 0 0 0]\n",
      " [0 0 0 0 0 0 1 0 0 0 1 0 2 0 0 0 0 0]\n",
      " [0 0 0 0 0 0 0 0 0 0 0 0 0 0 0 0 0 1]\n",
      " [0 0 0 0 0 0 1 0 0 0 0 0 0 0 0 0 0 1]]\n",
      "None\n"
     ]
    },
    {
     "name": "stderr",
     "output_type": "stream",
     "text": [
      "C:\\Users\\lvshu\\AppData\\Local\\Packages\\PythonSoftwareFoundation.Python.3.10_qbz5n2kfra8p0\\LocalCache\\local-packages\\Python310\\site-packages\\sklearn\\metrics\\_classification.py:1334: UndefinedMetricWarning: Precision and F-score are ill-defined and being set to 0.0 in labels with no predicted samples. Use `zero_division` parameter to control this behavior.\n",
      "  _warn_prf(average, modifier, msg_start, len(result))\n",
      "C:\\Users\\lvshu\\AppData\\Local\\Packages\\PythonSoftwareFoundation.Python.3.10_qbz5n2kfra8p0\\LocalCache\\local-packages\\Python310\\site-packages\\sklearn\\metrics\\_classification.py:1334: UndefinedMetricWarning: Recall and F-score are ill-defined and being set to 0.0 in labels with no true samples. Use `zero_division` parameter to control this behavior.\n",
      "  _warn_prf(average, modifier, msg_start, len(result))\n",
      "C:\\Users\\lvshu\\AppData\\Local\\Packages\\PythonSoftwareFoundation.Python.3.10_qbz5n2kfra8p0\\LocalCache\\local-packages\\Python310\\site-packages\\sklearn\\metrics\\_classification.py:1334: UndefinedMetricWarning: Precision and F-score are ill-defined and being set to 0.0 in labels with no predicted samples. Use `zero_division` parameter to control this behavior.\n",
      "  _warn_prf(average, modifier, msg_start, len(result))\n",
      "C:\\Users\\lvshu\\AppData\\Local\\Packages\\PythonSoftwareFoundation.Python.3.10_qbz5n2kfra8p0\\LocalCache\\local-packages\\Python310\\site-packages\\sklearn\\metrics\\_classification.py:1334: UndefinedMetricWarning: Recall and F-score are ill-defined and being set to 0.0 in labels with no true samples. Use `zero_division` parameter to control this behavior.\n",
      "  _warn_prf(average, modifier, msg_start, len(result))\n",
      "C:\\Users\\lvshu\\AppData\\Local\\Packages\\PythonSoftwareFoundation.Python.3.10_qbz5n2kfra8p0\\LocalCache\\local-packages\\Python310\\site-packages\\sklearn\\metrics\\_classification.py:1334: UndefinedMetricWarning: Precision and F-score are ill-defined and being set to 0.0 in labels with no predicted samples. Use `zero_division` parameter to control this behavior.\n",
      "  _warn_prf(average, modifier, msg_start, len(result))\n",
      "C:\\Users\\lvshu\\AppData\\Local\\Packages\\PythonSoftwareFoundation.Python.3.10_qbz5n2kfra8p0\\LocalCache\\local-packages\\Python310\\site-packages\\sklearn\\metrics\\_classification.py:1334: UndefinedMetricWarning: Recall and F-score are ill-defined and being set to 0.0 in labels with no true samples. Use `zero_division` parameter to control this behavior.\n",
      "  _warn_prf(average, modifier, msg_start, len(result))\n"
     ]
    }
   ],
   "source": [
    "# Using tfidf vectorizer\n",
    "print(dtc2_model(X_train_idf, y_train, X_test_idf, y_test))"
   ]
  },
  {
   "cell_type": "code",
   "execution_count": 128,
   "metadata": {},
   "outputs": [
    {
     "name": "stderr",
     "output_type": "stream",
     "text": [
      "C:\\Users\\lvshu\\AppData\\Local\\Packages\\PythonSoftwareFoundation.Python.3.10_qbz5n2kfra8p0\\LocalCache\\local-packages\\Python310\\site-packages\\sklearn\\model_selection\\_split.py:684: UserWarning: The least populated class in y has only 3 members, which is less than n_splits=5.\n",
      "  warnings.warn(\n"
     ]
    },
    {
     "name": "stdout",
     "output_type": "stream",
     "text": [
      "Best Hyperparameters: {'class_weight': 'balanced', 'criterion': 'entropy', 'max_depth': 8, 'min_samples_leaf': 2, 'min_samples_split': 5}\n",
      "Best accuracy score: 0.11875\n",
      "              precision    recall  f1-score   support\n",
      "\n",
      "           0     0.0000    0.0000    0.0000         1\n",
      "           1     0.0000    0.0000    0.0000         2\n",
      "           2     0.0000    0.0000    0.0000         6\n",
      "           3     0.0000    0.0000    0.0000         6\n",
      "           4     0.0000    0.0000    0.0000         1\n",
      "           5     1.0000    0.6667    0.8000         3\n",
      "           6     0.0000    0.0000    0.0000         4\n",
      "           7     0.0000    0.0000    0.0000         1\n",
      "           8     0.0000    0.0000    0.0000         0\n",
      "           9     0.0000    0.0000    0.0000         1\n",
      "          10     0.0000    0.0000    0.0000         2\n",
      "          11     0.0000    0.0000    0.0000         3\n",
      "          12     0.0000    0.0000    0.0000         2\n",
      "          13     0.0000    0.0000    0.0000         1\n",
      "          14     0.0000    0.0000    0.0000         0\n",
      "          15     0.0000    0.0000    0.0000         4\n",
      "          16     0.0000    0.0000    0.0000         1\n",
      "          17     0.0000    0.0000    0.0000         2\n",
      "          18     0.0000    0.0000    0.0000         0\n",
      "\n",
      "    accuracy                         0.0500        40\n",
      "   macro avg     0.0526    0.0351    0.0421        40\n",
      "weighted avg     0.0750    0.0500    0.0600        40\n",
      "\n",
      "[[0 0 0 0 0 0 1 0 0 0 0 0 0 0 0 0 0 0 0]\n",
      " [0 0 0 0 0 0 1 0 0 0 0 0 1 0 0 0 0 0 0]\n",
      " [0 1 0 1 0 0 1 0 0 0 0 1 1 0 0 0 0 0 1]\n",
      " [0 2 0 0 0 0 0 0 1 0 0 0 2 0 0 0 0 1 0]\n",
      " [0 0 0 0 0 0 0 0 0 0 0 0 0 0 0 1 0 0 0]\n",
      " [0 0 0 1 0 2 0 0 0 0 0 0 0 0 0 0 0 0 0]\n",
      " [0 2 0 1 0 0 0 0 0 0 0 0 0 0 0 0 0 1 0]\n",
      " [0 0 0 0 0 0 0 0 0 0 0 1 0 0 0 0 0 0 0]\n",
      " [0 0 0 0 0 0 0 0 0 0 0 0 0 0 0 0 0 0 0]\n",
      " [0 0 0 0 0 0 0 1 0 0 0 0 0 0 0 0 0 0 0]\n",
      " [0 0 0 0 0 0 0 0 1 0 0 1 0 0 0 0 0 0 0]\n",
      " [1 0 0 0 0 0 0 0 0 0 1 0 0 0 0 0 1 0 0]\n",
      " [0 0 1 0 1 0 0 0 0 0 0 0 0 0 0 0 0 0 0]\n",
      " [0 0 0 0 0 0 1 0 0 0 0 0 0 0 0 0 0 0 0]\n",
      " [0 0 0 0 0 0 0 0 0 0 0 0 0 0 0 0 0 0 0]\n",
      " [0 1 0 0 0 0 0 0 0 0 1 0 2 0 0 0 0 0 0]\n",
      " [0 0 0 0 0 0 1 0 0 0 0 0 0 0 0 0 0 0 0]\n",
      " [0 0 0 0 0 0 0 0 0 0 0 0 0 0 1 0 0 0 1]\n",
      " [0 0 0 0 0 0 0 0 0 0 0 0 0 0 0 0 0 0 0]]\n",
      "None\n"
     ]
    },
    {
     "name": "stderr",
     "output_type": "stream",
     "text": [
      "C:\\Users\\lvshu\\AppData\\Local\\Packages\\PythonSoftwareFoundation.Python.3.10_qbz5n2kfra8p0\\LocalCache\\local-packages\\Python310\\site-packages\\sklearn\\metrics\\_classification.py:1334: UndefinedMetricWarning: Precision and F-score are ill-defined and being set to 0.0 in labels with no predicted samples. Use `zero_division` parameter to control this behavior.\n",
      "  _warn_prf(average, modifier, msg_start, len(result))\n",
      "C:\\Users\\lvshu\\AppData\\Local\\Packages\\PythonSoftwareFoundation.Python.3.10_qbz5n2kfra8p0\\LocalCache\\local-packages\\Python310\\site-packages\\sklearn\\metrics\\_classification.py:1334: UndefinedMetricWarning: Recall and F-score are ill-defined and being set to 0.0 in labels with no true samples. Use `zero_division` parameter to control this behavior.\n",
      "  _warn_prf(average, modifier, msg_start, len(result))\n",
      "C:\\Users\\lvshu\\AppData\\Local\\Packages\\PythonSoftwareFoundation.Python.3.10_qbz5n2kfra8p0\\LocalCache\\local-packages\\Python310\\site-packages\\sklearn\\metrics\\_classification.py:1334: UndefinedMetricWarning: Precision and F-score are ill-defined and being set to 0.0 in labels with no predicted samples. Use `zero_division` parameter to control this behavior.\n",
      "  _warn_prf(average, modifier, msg_start, len(result))\n",
      "C:\\Users\\lvshu\\AppData\\Local\\Packages\\PythonSoftwareFoundation.Python.3.10_qbz5n2kfra8p0\\LocalCache\\local-packages\\Python310\\site-packages\\sklearn\\metrics\\_classification.py:1334: UndefinedMetricWarning: Recall and F-score are ill-defined and being set to 0.0 in labels with no true samples. Use `zero_division` parameter to control this behavior.\n",
      "  _warn_prf(average, modifier, msg_start, len(result))\n",
      "C:\\Users\\lvshu\\AppData\\Local\\Packages\\PythonSoftwareFoundation.Python.3.10_qbz5n2kfra8p0\\LocalCache\\local-packages\\Python310\\site-packages\\sklearn\\metrics\\_classification.py:1334: UndefinedMetricWarning: Precision and F-score are ill-defined and being set to 0.0 in labels with no predicted samples. Use `zero_division` parameter to control this behavior.\n",
      "  _warn_prf(average, modifier, msg_start, len(result))\n",
      "C:\\Users\\lvshu\\AppData\\Local\\Packages\\PythonSoftwareFoundation.Python.3.10_qbz5n2kfra8p0\\LocalCache\\local-packages\\Python310\\site-packages\\sklearn\\metrics\\_classification.py:1334: UndefinedMetricWarning: Recall and F-score are ill-defined and being set to 0.0 in labels with no true samples. Use `zero_division` parameter to control this behavior.\n",
      "  _warn_prf(average, modifier, msg_start, len(result))\n"
     ]
    }
   ],
   "source": [
    "# Using fasttext\n",
    "print(dtc2_model(X_train_fast, y_train, X_test_fast, y_test))"
   ]
  },
  {
   "attachments": {},
   "cell_type": "markdown",
   "metadata": {},
   "source": [
    "#### Random Forest Classifier"
   ]
  },
  {
   "cell_type": "code",
   "execution_count": 129,
   "metadata": {},
   "outputs": [
    {
     "name": "stderr",
     "output_type": "stream",
     "text": [
      "C:\\Users\\lvshu\\AppData\\Local\\Packages\\PythonSoftwareFoundation.Python.3.10_qbz5n2kfra8p0\\LocalCache\\local-packages\\Python310\\site-packages\\sklearn\\model_selection\\_split.py:684: UserWarning: The least populated class in y has only 3 members, which is less than n_splits=5.\n",
      "  warnings.warn(\n"
     ]
    },
    {
     "name": "stdout",
     "output_type": "stream",
     "text": [
      "Best Hyperparameters: {'class_weight': 'balanced', 'max_depth': None, 'min_samples_leaf': 1, 'min_samples_split': 5, 'n_estimators': 100}\n",
      "Best accuracy score: 0.21875\n",
      "              precision    recall  f1-score   support\n",
      "\n",
      "           0     0.0000    0.0000    0.0000         1\n",
      "           1     0.0000    0.0000    0.0000         2\n",
      "           2     1.0000    0.1667    0.2857         6\n",
      "           3     0.0000    0.0000    0.0000         6\n",
      "           4     0.0000    0.0000    0.0000         1\n",
      "           5     0.0000    0.0000    0.0000         3\n",
      "           6     0.1111    0.2500    0.1538         4\n",
      "           7     0.0000    0.0000    0.0000         1\n",
      "           9     0.0000    0.0000    0.0000         1\n",
      "          10     0.0000    0.0000    0.0000         2\n",
      "          11     0.4000    0.6667    0.5000         3\n",
      "          12     0.0000    0.0000    0.0000         2\n",
      "          13     0.0000    0.0000    0.0000         1\n",
      "          15     0.0526    0.2500    0.0870         4\n",
      "          16     0.0000    0.0000    0.0000         1\n",
      "          17     1.0000    0.5000    0.6667         2\n",
      "\n",
      "    accuracy                         0.1500        40\n",
      "   macro avg     0.1602    0.1146    0.1058        40\n",
      "weighted avg     0.2464    0.1500    0.1378        40\n",
      "\n",
      "[[0 0 0 0 0 0 0 0 0 0 0 0 0 1 0 0]\n",
      " [0 0 0 0 0 0 0 0 0 0 1 0 0 1 0 0]\n",
      " [0 0 1 0 0 0 0 0 0 0 0 0 0 5 0 0]\n",
      " [0 0 0 0 0 0 3 0 0 0 0 1 0 2 0 0]\n",
      " [0 0 0 0 0 0 1 0 0 0 0 0 0 0 0 0]\n",
      " [0 0 0 0 0 0 2 0 0 0 0 0 0 1 0 0]\n",
      " [0 0 0 0 0 0 1 0 0 0 0 0 0 3 0 0]\n",
      " [0 0 0 0 0 0 0 0 0 0 0 0 0 1 0 0]\n",
      " [0 0 0 0 0 0 1 0 0 0 0 0 0 0 0 0]\n",
      " [0 0 0 1 0 0 0 0 0 0 0 0 0 1 0 0]\n",
      " [0 0 0 0 0 0 0 0 0 0 2 1 0 0 0 0]\n",
      " [0 0 0 0 0 0 0 0 0 0 1 0 0 1 0 0]\n",
      " [0 0 0 0 0 0 0 0 0 0 0 0 0 1 0 0]\n",
      " [0 0 0 0 1 0 0 0 0 0 1 0 0 1 1 0]\n",
      " [0 0 0 0 0 0 0 0 0 0 0 0 0 1 0 0]\n",
      " [0 0 0 0 0 0 1 0 0 0 0 0 0 0 0 1]]\n",
      "None\n"
     ]
    },
    {
     "name": "stderr",
     "output_type": "stream",
     "text": [
      "C:\\Users\\lvshu\\AppData\\Local\\Packages\\PythonSoftwareFoundation.Python.3.10_qbz5n2kfra8p0\\LocalCache\\local-packages\\Python310\\site-packages\\sklearn\\metrics\\_classification.py:1334: UndefinedMetricWarning: Precision and F-score are ill-defined and being set to 0.0 in labels with no predicted samples. Use `zero_division` parameter to control this behavior.\n",
      "  _warn_prf(average, modifier, msg_start, len(result))\n",
      "C:\\Users\\lvshu\\AppData\\Local\\Packages\\PythonSoftwareFoundation.Python.3.10_qbz5n2kfra8p0\\LocalCache\\local-packages\\Python310\\site-packages\\sklearn\\metrics\\_classification.py:1334: UndefinedMetricWarning: Precision and F-score are ill-defined and being set to 0.0 in labels with no predicted samples. Use `zero_division` parameter to control this behavior.\n",
      "  _warn_prf(average, modifier, msg_start, len(result))\n",
      "C:\\Users\\lvshu\\AppData\\Local\\Packages\\PythonSoftwareFoundation.Python.3.10_qbz5n2kfra8p0\\LocalCache\\local-packages\\Python310\\site-packages\\sklearn\\metrics\\_classification.py:1334: UndefinedMetricWarning: Precision and F-score are ill-defined and being set to 0.0 in labels with no predicted samples. Use `zero_division` parameter to control this behavior.\n",
      "  _warn_prf(average, modifier, msg_start, len(result))\n"
     ]
    }
   ],
   "source": [
    "# Using hashing vectorizer\n",
    "print(rf2_model(X_train_hash, y_train, X_test_hash, y_test))"
   ]
  },
  {
   "cell_type": "code",
   "execution_count": 130,
   "metadata": {},
   "outputs": [
    {
     "name": "stderr",
     "output_type": "stream",
     "text": [
      "C:\\Users\\lvshu\\AppData\\Local\\Packages\\PythonSoftwareFoundation.Python.3.10_qbz5n2kfra8p0\\LocalCache\\local-packages\\Python310\\site-packages\\sklearn\\model_selection\\_split.py:684: UserWarning: The least populated class in y has only 3 members, which is less than n_splits=5.\n",
      "  warnings.warn(\n"
     ]
    },
    {
     "name": "stdout",
     "output_type": "stream",
     "text": [
      "Best Hyperparameters: {'class_weight': 'balanced', 'max_depth': 7, 'min_samples_leaf': 1, 'min_samples_split': 5, 'n_estimators': 100}\n",
      "Best accuracy score: 0.15625\n",
      "              precision    recall  f1-score   support\n",
      "\n",
      "           0     0.0000    0.0000    0.0000         1\n",
      "           1     0.0000    0.0000    0.0000         2\n",
      "           2     0.3333    0.1667    0.2222         6\n",
      "           3     0.5000    0.1667    0.2500         6\n",
      "           4     0.0000    0.0000    0.0000         1\n",
      "           5     0.0000    0.0000    0.0000         3\n",
      "           6     0.1818    0.5000    0.2667         4\n",
      "           7     0.0000    0.0000    0.0000         1\n",
      "           9     0.0000    0.0000    0.0000         1\n",
      "          10     0.0000    0.0000    0.0000         2\n",
      "          11     0.0000    0.0000    0.0000         3\n",
      "          12     0.1429    0.5000    0.2222         2\n",
      "          13     0.0000    0.0000    0.0000         1\n",
      "          14     0.0000    0.0000    0.0000         0\n",
      "          15     0.0000    0.0000    0.0000         4\n",
      "          16     0.0000    0.0000    0.0000         1\n",
      "          17     0.5000    0.5000    0.5000         2\n",
      "\n",
      "    accuracy                         0.1500        40\n",
      "   macro avg     0.0975    0.1078    0.0859        40\n",
      "weighted avg     0.1753    0.1500    0.1336        40\n",
      "\n",
      "[[0 1 0 0 0 0 0 0 0 0 0 0 0 0 0 0 0]\n",
      " [0 0 1 0 0 0 0 0 0 0 1 0 0 0 0 0 0]\n",
      " [0 0 1 0 0 0 3 0 0 0 0 0 1 1 0 0 0]\n",
      " [1 0 0 1 0 1 1 0 0 0 0 1 0 1 0 0 0]\n",
      " [0 0 0 1 0 0 0 0 0 0 0 0 0 0 0 0 0]\n",
      " [0 0 0 0 1 0 2 0 0 0 0 0 0 0 0 0 0]\n",
      " [1 1 0 0 0 0 2 0 0 0 0 0 0 0 0 0 0]\n",
      " [0 0 0 0 0 0 0 0 0 0 0 0 0 0 0 1 0]\n",
      " [0 0 0 0 0 0 1 0 0 0 0 0 0 0 0 0 0]\n",
      " [0 0 0 0 0 1 1 0 0 0 0 0 0 0 0 0 0]\n",
      " [0 0 0 0 0 0 0 0 0 0 0 3 0 0 0 0 0]\n",
      " [0 0 0 0 1 0 0 0 0 0 0 1 0 0 0 0 0]\n",
      " [0 0 1 0 0 0 0 0 0 0 0 0 0 0 0 0 0]\n",
      " [0 0 0 0 0 0 0 0 0 0 0 0 0 0 0 0 0]\n",
      " [1 0 0 0 0 0 0 0 0 0 0 2 0 0 0 1 0]\n",
      " [0 0 0 0 0 0 0 0 0 0 0 0 0 0 0 0 1]\n",
      " [0 0 0 0 0 0 1 0 0 0 0 0 0 0 0 0 1]]\n",
      "None\n"
     ]
    },
    {
     "name": "stderr",
     "output_type": "stream",
     "text": [
      "C:\\Users\\lvshu\\AppData\\Local\\Packages\\PythonSoftwareFoundation.Python.3.10_qbz5n2kfra8p0\\LocalCache\\local-packages\\Python310\\site-packages\\sklearn\\metrics\\_classification.py:1334: UndefinedMetricWarning: Precision and F-score are ill-defined and being set to 0.0 in labels with no predicted samples. Use `zero_division` parameter to control this behavior.\n",
      "  _warn_prf(average, modifier, msg_start, len(result))\n",
      "C:\\Users\\lvshu\\AppData\\Local\\Packages\\PythonSoftwareFoundation.Python.3.10_qbz5n2kfra8p0\\LocalCache\\local-packages\\Python310\\site-packages\\sklearn\\metrics\\_classification.py:1334: UndefinedMetricWarning: Recall and F-score are ill-defined and being set to 0.0 in labels with no true samples. Use `zero_division` parameter to control this behavior.\n",
      "  _warn_prf(average, modifier, msg_start, len(result))\n",
      "C:\\Users\\lvshu\\AppData\\Local\\Packages\\PythonSoftwareFoundation.Python.3.10_qbz5n2kfra8p0\\LocalCache\\local-packages\\Python310\\site-packages\\sklearn\\metrics\\_classification.py:1334: UndefinedMetricWarning: Precision and F-score are ill-defined and being set to 0.0 in labels with no predicted samples. Use `zero_division` parameter to control this behavior.\n",
      "  _warn_prf(average, modifier, msg_start, len(result))\n",
      "C:\\Users\\lvshu\\AppData\\Local\\Packages\\PythonSoftwareFoundation.Python.3.10_qbz5n2kfra8p0\\LocalCache\\local-packages\\Python310\\site-packages\\sklearn\\metrics\\_classification.py:1334: UndefinedMetricWarning: Recall and F-score are ill-defined and being set to 0.0 in labels with no true samples. Use `zero_division` parameter to control this behavior.\n",
      "  _warn_prf(average, modifier, msg_start, len(result))\n",
      "C:\\Users\\lvshu\\AppData\\Local\\Packages\\PythonSoftwareFoundation.Python.3.10_qbz5n2kfra8p0\\LocalCache\\local-packages\\Python310\\site-packages\\sklearn\\metrics\\_classification.py:1334: UndefinedMetricWarning: Precision and F-score are ill-defined and being set to 0.0 in labels with no predicted samples. Use `zero_division` parameter to control this behavior.\n",
      "  _warn_prf(average, modifier, msg_start, len(result))\n",
      "C:\\Users\\lvshu\\AppData\\Local\\Packages\\PythonSoftwareFoundation.Python.3.10_qbz5n2kfra8p0\\LocalCache\\local-packages\\Python310\\site-packages\\sklearn\\metrics\\_classification.py:1334: UndefinedMetricWarning: Recall and F-score are ill-defined and being set to 0.0 in labels with no true samples. Use `zero_division` parameter to control this behavior.\n",
      "  _warn_prf(average, modifier, msg_start, len(result))\n"
     ]
    }
   ],
   "source": [
    "# Using tfidf vectorizer\n",
    "print(rf2_model(X_train_idf, y_train, X_test_idf, y_test))"
   ]
  },
  {
   "cell_type": "code",
   "execution_count": 131,
   "metadata": {},
   "outputs": [
    {
     "name": "stderr",
     "output_type": "stream",
     "text": [
      "C:\\Users\\lvshu\\AppData\\Local\\Packages\\PythonSoftwareFoundation.Python.3.10_qbz5n2kfra8p0\\LocalCache\\local-packages\\Python310\\site-packages\\sklearn\\model_selection\\_split.py:684: UserWarning: The least populated class in y has only 3 members, which is less than n_splits=5.\n",
      "  warnings.warn(\n"
     ]
    },
    {
     "name": "stdout",
     "output_type": "stream",
     "text": [
      "Best Hyperparameters: {'class_weight': 'balanced', 'max_depth': None, 'min_samples_leaf': 2, 'min_samples_split': 2, 'n_estimators': 100}\n",
      "Best accuracy score: 0.16875\n",
      "              precision    recall  f1-score   support\n",
      "\n",
      "           0     0.0000    0.0000    0.0000         1\n",
      "           1     0.0000    0.0000    0.0000         2\n",
      "           2     0.4000    0.3333    0.3636         6\n",
      "           3     0.0000    0.0000    0.0000         6\n",
      "           4     0.0000    0.0000    0.0000         1\n",
      "           5     0.0000    0.0000    0.0000         3\n",
      "           6     0.0000    0.0000    0.0000         4\n",
      "           7     0.0000    0.0000    0.0000         1\n",
      "           8     0.0000    0.0000    0.0000         0\n",
      "           9     0.3333    1.0000    0.5000         1\n",
      "          10     0.0000    0.0000    0.0000         2\n",
      "          11     0.2500    0.3333    0.2857         3\n",
      "          12     0.0000    0.0000    0.0000         2\n",
      "          13     0.0000    0.0000    0.0000         1\n",
      "          14     0.0000    0.0000    0.0000         0\n",
      "          15     0.0909    0.2500    0.1333         4\n",
      "          16     0.0000    0.0000    0.0000         1\n",
      "          17     0.0000    0.0000    0.0000         2\n",
      "\n",
      "    accuracy                         0.1250        40\n",
      "   macro avg     0.0597    0.1065    0.0713        40\n",
      "weighted avg     0.0962    0.1250    0.1018        40\n",
      "\n",
      "[[0 0 0 0 0 0 0 0 0 0 0 0 0 0 0 1 0 0]\n",
      " [0 0 0 0 0 0 0 0 1 0 0 1 0 0 0 0 0 0]\n",
      " [0 0 2 0 0 0 1 0 0 0 1 1 0 0 1 0 0 0]\n",
      " [0 0 1 0 1 0 1 0 0 0 0 0 1 1 0 0 1 0]\n",
      " [0 0 0 0 0 0 0 0 0 0 0 0 0 0 0 1 0 0]\n",
      " [0 0 1 0 0 0 0 0 0 1 0 0 0 0 0 1 0 0]\n",
      " [0 0 0 0 0 0 0 0 0 1 0 0 0 0 0 3 0 0]\n",
      " [0 0 0 0 0 0 0 0 0 0 0 0 0 0 0 1 0 0]\n",
      " [0 0 0 0 0 0 0 0 0 0 0 0 0 0 0 0 0 0]\n",
      " [0 0 0 0 0 0 0 0 0 1 0 0 0 0 0 0 0 0]\n",
      " [0 0 0 0 0 0 0 1 0 0 0 0 0 0 0 0 1 0]\n",
      " [0 0 0 0 0 0 0 0 0 0 0 1 1 0 0 1 0 0]\n",
      " [0 0 0 0 1 0 0 0 0 0 0 1 0 0 0 0 0 0]\n",
      " [0 0 0 0 1 0 0 0 0 0 0 0 0 0 0 0 0 0]\n",
      " [0 0 0 0 0 0 0 0 0 0 0 0 0 0 0 0 0 0]\n",
      " [0 0 1 0 1 0 0 0 0 0 0 0 0 1 0 1 0 0]\n",
      " [0 0 0 0 0 0 0 0 0 0 0 0 0 0 0 1 0 0]\n",
      " [0 0 0 0 0 0 0 1 0 0 0 0 0 0 0 1 0 0]]\n",
      "None\n"
     ]
    },
    {
     "name": "stderr",
     "output_type": "stream",
     "text": [
      "C:\\Users\\lvshu\\AppData\\Local\\Packages\\PythonSoftwareFoundation.Python.3.10_qbz5n2kfra8p0\\LocalCache\\local-packages\\Python310\\site-packages\\sklearn\\metrics\\_classification.py:1334: UndefinedMetricWarning: Precision and F-score are ill-defined and being set to 0.0 in labels with no predicted samples. Use `zero_division` parameter to control this behavior.\n",
      "  _warn_prf(average, modifier, msg_start, len(result))\n",
      "C:\\Users\\lvshu\\AppData\\Local\\Packages\\PythonSoftwareFoundation.Python.3.10_qbz5n2kfra8p0\\LocalCache\\local-packages\\Python310\\site-packages\\sklearn\\metrics\\_classification.py:1334: UndefinedMetricWarning: Recall and F-score are ill-defined and being set to 0.0 in labels with no true samples. Use `zero_division` parameter to control this behavior.\n",
      "  _warn_prf(average, modifier, msg_start, len(result))\n",
      "C:\\Users\\lvshu\\AppData\\Local\\Packages\\PythonSoftwareFoundation.Python.3.10_qbz5n2kfra8p0\\LocalCache\\local-packages\\Python310\\site-packages\\sklearn\\metrics\\_classification.py:1334: UndefinedMetricWarning: Precision and F-score are ill-defined and being set to 0.0 in labels with no predicted samples. Use `zero_division` parameter to control this behavior.\n",
      "  _warn_prf(average, modifier, msg_start, len(result))\n",
      "C:\\Users\\lvshu\\AppData\\Local\\Packages\\PythonSoftwareFoundation.Python.3.10_qbz5n2kfra8p0\\LocalCache\\local-packages\\Python310\\site-packages\\sklearn\\metrics\\_classification.py:1334: UndefinedMetricWarning: Recall and F-score are ill-defined and being set to 0.0 in labels with no true samples. Use `zero_division` parameter to control this behavior.\n",
      "  _warn_prf(average, modifier, msg_start, len(result))\n",
      "C:\\Users\\lvshu\\AppData\\Local\\Packages\\PythonSoftwareFoundation.Python.3.10_qbz5n2kfra8p0\\LocalCache\\local-packages\\Python310\\site-packages\\sklearn\\metrics\\_classification.py:1334: UndefinedMetricWarning: Precision and F-score are ill-defined and being set to 0.0 in labels with no predicted samples. Use `zero_division` parameter to control this behavior.\n",
      "  _warn_prf(average, modifier, msg_start, len(result))\n",
      "C:\\Users\\lvshu\\AppData\\Local\\Packages\\PythonSoftwareFoundation.Python.3.10_qbz5n2kfra8p0\\LocalCache\\local-packages\\Python310\\site-packages\\sklearn\\metrics\\_classification.py:1334: UndefinedMetricWarning: Recall and F-score are ill-defined and being set to 0.0 in labels with no true samples. Use `zero_division` parameter to control this behavior.\n",
      "  _warn_prf(average, modifier, msg_start, len(result))\n"
     ]
    }
   ],
   "source": [
    "# Using fasttext\n",
    "print(rf2_model(X_train_fast, y_train, X_test_fast, y_test))"
   ]
  },
  {
   "attachments": {},
   "cell_type": "markdown",
   "metadata": {},
   "source": [
    "#### LightGBM"
   ]
  },
  {
   "cell_type": "code",
   "execution_count": 132,
   "metadata": {},
   "outputs": [
    {
     "name": "stderr",
     "output_type": "stream",
     "text": [
      "C:\\Users\\lvshu\\AppData\\Local\\Packages\\PythonSoftwareFoundation.Python.3.10_qbz5n2kfra8p0\\LocalCache\\local-packages\\Python310\\site-packages\\sklearn\\model_selection\\_split.py:684: UserWarning: The least populated class in y has only 3 members, which is less than n_splits=5.\n",
      "  warnings.warn(\n"
     ]
    },
    {
     "name": "stdout",
     "output_type": "stream",
     "text": [
      "Best Hyperparameters: {'boosting_type': 'gbdt', 'class_weight': 'balanced', 'learning_rate': 0.15, 'max_depth': -1, 'min_child_samples': 20, 'n_estimators': 200, 'num_leaves': 30}\n",
      "Best accuracy score: 0.1\n",
      "              precision    recall  f1-score   support\n",
      "\n",
      "           0     0.0000    0.0000    0.0000         1\n",
      "           1     0.0000    0.0000    0.0000         2\n",
      "           2     0.0000    0.0000    0.0000         6\n",
      "           3     0.0000    0.0000    0.0000         6\n",
      "           4     0.0000    0.0000    0.0000         1\n",
      "           5     0.0000    0.0000    0.0000         3\n",
      "           6     0.0000    0.0000    0.0000         4\n",
      "           7     0.1429    1.0000    0.2500         1\n",
      "           8     0.0000    0.0000    0.0000         0\n",
      "           9     0.3333    1.0000    0.5000         1\n",
      "          10     0.0000    0.0000    0.0000         2\n",
      "          11     0.5000    0.6667    0.5714         3\n",
      "          12     0.0000    0.0000    0.0000         2\n",
      "          13     0.0000    0.0000    0.0000         1\n",
      "          14     0.0000    0.0000    0.0000         0\n",
      "          15     0.3333    0.2500    0.2857         4\n",
      "          16     0.0000    0.0000    0.0000         1\n",
      "          17     0.0000    0.0000    0.0000         2\n",
      "\n",
      "    accuracy                         0.1250        40\n",
      "   macro avg     0.0728    0.1620    0.0893        40\n",
      "weighted avg     0.0827    0.1250    0.0902        40\n",
      "\n",
      "[[0 0 0 0 1 0 0 0 0 0 0 0 0 0 0 0 0 0]\n",
      " [0 0 0 0 0 0 0 0 1 0 0 0 0 0 0 0 0 1]\n",
      " [0 0 0 0 0 0 1 2 0 0 0 1 1 0 1 0 0 0]\n",
      " [1 1 0 0 1 0 0 0 0 0 0 0 1 2 0 0 0 0]\n",
      " [0 0 0 0 0 0 1 0 0 0 0 0 0 0 0 0 0 0]\n",
      " [0 0 0 2 0 0 0 0 0 0 0 0 0 0 0 1 0 0]\n",
      " [0 0 0 0 0 0 0 1 0 2 0 0 1 0 0 0 0 0]\n",
      " [0 0 0 0 0 0 0 1 0 0 0 0 0 0 0 0 0 0]\n",
      " [0 0 0 0 0 0 0 0 0 0 0 0 0 0 0 0 0 0]\n",
      " [0 0 0 0 0 0 0 0 0 1 0 0 0 0 0 0 0 0]\n",
      " [0 0 0 1 0 0 0 0 0 0 0 0 0 0 0 1 0 0]\n",
      " [0 0 0 0 0 0 0 0 0 0 0 2 1 0 0 0 0 0]\n",
      " [0 0 0 1 0 0 0 0 0 0 0 1 0 0 0 0 0 0]\n",
      " [0 0 0 0 0 0 0 0 0 0 0 0 0 0 0 0 1 0]\n",
      " [0 0 0 0 0 0 0 0 0 0 0 0 0 0 0 0 0 0]\n",
      " [0 0 0 0 0 0 0 1 0 0 0 0 1 0 0 1 0 1]\n",
      " [0 0 1 0 0 0 0 0 0 0 0 0 0 0 0 0 0 0]\n",
      " [0 0 0 0 0 0 0 2 0 0 0 0 0 0 0 0 0 0]]\n",
      "None\n"
     ]
    },
    {
     "name": "stderr",
     "output_type": "stream",
     "text": [
      "C:\\Users\\lvshu\\AppData\\Local\\Packages\\PythonSoftwareFoundation.Python.3.10_qbz5n2kfra8p0\\LocalCache\\local-packages\\Python310\\site-packages\\sklearn\\metrics\\_classification.py:1334: UndefinedMetricWarning: Precision and F-score are ill-defined and being set to 0.0 in labels with no predicted samples. Use `zero_division` parameter to control this behavior.\n",
      "  _warn_prf(average, modifier, msg_start, len(result))\n",
      "C:\\Users\\lvshu\\AppData\\Local\\Packages\\PythonSoftwareFoundation.Python.3.10_qbz5n2kfra8p0\\LocalCache\\local-packages\\Python310\\site-packages\\sklearn\\metrics\\_classification.py:1334: UndefinedMetricWarning: Recall and F-score are ill-defined and being set to 0.0 in labels with no true samples. Use `zero_division` parameter to control this behavior.\n",
      "  _warn_prf(average, modifier, msg_start, len(result))\n",
      "C:\\Users\\lvshu\\AppData\\Local\\Packages\\PythonSoftwareFoundation.Python.3.10_qbz5n2kfra8p0\\LocalCache\\local-packages\\Python310\\site-packages\\sklearn\\metrics\\_classification.py:1334: UndefinedMetricWarning: Precision and F-score are ill-defined and being set to 0.0 in labels with no predicted samples. Use `zero_division` parameter to control this behavior.\n",
      "  _warn_prf(average, modifier, msg_start, len(result))\n",
      "C:\\Users\\lvshu\\AppData\\Local\\Packages\\PythonSoftwareFoundation.Python.3.10_qbz5n2kfra8p0\\LocalCache\\local-packages\\Python310\\site-packages\\sklearn\\metrics\\_classification.py:1334: UndefinedMetricWarning: Recall and F-score are ill-defined and being set to 0.0 in labels with no true samples. Use `zero_division` parameter to control this behavior.\n",
      "  _warn_prf(average, modifier, msg_start, len(result))\n",
      "C:\\Users\\lvshu\\AppData\\Local\\Packages\\PythonSoftwareFoundation.Python.3.10_qbz5n2kfra8p0\\LocalCache\\local-packages\\Python310\\site-packages\\sklearn\\metrics\\_classification.py:1334: UndefinedMetricWarning: Precision and F-score are ill-defined and being set to 0.0 in labels with no predicted samples. Use `zero_division` parameter to control this behavior.\n",
      "  _warn_prf(average, modifier, msg_start, len(result))\n",
      "C:\\Users\\lvshu\\AppData\\Local\\Packages\\PythonSoftwareFoundation.Python.3.10_qbz5n2kfra8p0\\LocalCache\\local-packages\\Python310\\site-packages\\sklearn\\metrics\\_classification.py:1334: UndefinedMetricWarning: Recall and F-score are ill-defined and being set to 0.0 in labels with no true samples. Use `zero_division` parameter to control this behavior.\n",
      "  _warn_prf(average, modifier, msg_start, len(result))\n"
     ]
    }
   ],
   "source": [
    "# Using hashing vectorizer\n",
    "print(lgbm2_model(X_train_hash, y_train, X_test_hash, y_test))"
   ]
  },
  {
   "cell_type": "code",
   "execution_count": 133,
   "metadata": {},
   "outputs": [
    {
     "name": "stderr",
     "output_type": "stream",
     "text": [
      "C:\\Users\\lvshu\\AppData\\Local\\Packages\\PythonSoftwareFoundation.Python.3.10_qbz5n2kfra8p0\\LocalCache\\local-packages\\Python310\\site-packages\\sklearn\\model_selection\\_split.py:684: UserWarning: The least populated class in y has only 3 members, which is less than n_splits=5.\n",
      "  warnings.warn(\n"
     ]
    },
    {
     "name": "stdout",
     "output_type": "stream",
     "text": [
      "Best Hyperparameters: {'boosting_type': 'gbdt', 'class_weight': 'balanced', 'learning_rate': 0.05, 'max_depth': -1, 'min_child_samples': 100, 'n_estimators': 100, 'num_leaves': 30}\n",
      "Best accuracy score: 0.075\n",
      "              precision    recall  f1-score   support\n",
      "\n",
      "           0     0.0250    1.0000    0.0488         1\n",
      "           1     0.0000    0.0000    0.0000         2\n",
      "           2     0.0000    0.0000    0.0000         6\n",
      "           3     0.0000    0.0000    0.0000         6\n",
      "           4     0.0000    0.0000    0.0000         1\n",
      "           5     0.0000    0.0000    0.0000         3\n",
      "           6     0.0000    0.0000    0.0000         4\n",
      "           7     0.0000    0.0000    0.0000         1\n",
      "           9     0.0000    0.0000    0.0000         1\n",
      "          10     0.0000    0.0000    0.0000         2\n",
      "          11     0.0000    0.0000    0.0000         3\n",
      "          12     0.0000    0.0000    0.0000         2\n",
      "          13     0.0000    0.0000    0.0000         1\n",
      "          15     0.0000    0.0000    0.0000         4\n",
      "          16     0.0000    0.0000    0.0000         1\n",
      "          17     0.0000    0.0000    0.0000         2\n",
      "\n",
      "    accuracy                         0.0250        40\n",
      "   macro avg     0.0016    0.0625    0.0030        40\n",
      "weighted avg     0.0006    0.0250    0.0012        40\n",
      "\n",
      "[[1 0 0 0 0 0 0 0 0 0 0 0 0 0 0 0]\n",
      " [2 0 0 0 0 0 0 0 0 0 0 0 0 0 0 0]\n",
      " [6 0 0 0 0 0 0 0 0 0 0 0 0 0 0 0]\n",
      " [6 0 0 0 0 0 0 0 0 0 0 0 0 0 0 0]\n",
      " [1 0 0 0 0 0 0 0 0 0 0 0 0 0 0 0]\n",
      " [3 0 0 0 0 0 0 0 0 0 0 0 0 0 0 0]\n",
      " [4 0 0 0 0 0 0 0 0 0 0 0 0 0 0 0]\n",
      " [1 0 0 0 0 0 0 0 0 0 0 0 0 0 0 0]\n",
      " [1 0 0 0 0 0 0 0 0 0 0 0 0 0 0 0]\n",
      " [2 0 0 0 0 0 0 0 0 0 0 0 0 0 0 0]\n",
      " [3 0 0 0 0 0 0 0 0 0 0 0 0 0 0 0]\n",
      " [2 0 0 0 0 0 0 0 0 0 0 0 0 0 0 0]\n",
      " [1 0 0 0 0 0 0 0 0 0 0 0 0 0 0 0]\n",
      " [4 0 0 0 0 0 0 0 0 0 0 0 0 0 0 0]\n",
      " [1 0 0 0 0 0 0 0 0 0 0 0 0 0 0 0]\n",
      " [2 0 0 0 0 0 0 0 0 0 0 0 0 0 0 0]]\n",
      "None\n"
     ]
    },
    {
     "name": "stderr",
     "output_type": "stream",
     "text": [
      "C:\\Users\\lvshu\\AppData\\Local\\Packages\\PythonSoftwareFoundation.Python.3.10_qbz5n2kfra8p0\\LocalCache\\local-packages\\Python310\\site-packages\\sklearn\\metrics\\_classification.py:1334: UndefinedMetricWarning: Precision and F-score are ill-defined and being set to 0.0 in labels with no predicted samples. Use `zero_division` parameter to control this behavior.\n",
      "  _warn_prf(average, modifier, msg_start, len(result))\n",
      "C:\\Users\\lvshu\\AppData\\Local\\Packages\\PythonSoftwareFoundation.Python.3.10_qbz5n2kfra8p0\\LocalCache\\local-packages\\Python310\\site-packages\\sklearn\\metrics\\_classification.py:1334: UndefinedMetricWarning: Precision and F-score are ill-defined and being set to 0.0 in labels with no predicted samples. Use `zero_division` parameter to control this behavior.\n",
      "  _warn_prf(average, modifier, msg_start, len(result))\n",
      "C:\\Users\\lvshu\\AppData\\Local\\Packages\\PythonSoftwareFoundation.Python.3.10_qbz5n2kfra8p0\\LocalCache\\local-packages\\Python310\\site-packages\\sklearn\\metrics\\_classification.py:1334: UndefinedMetricWarning: Precision and F-score are ill-defined and being set to 0.0 in labels with no predicted samples. Use `zero_division` parameter to control this behavior.\n",
      "  _warn_prf(average, modifier, msg_start, len(result))\n"
     ]
    }
   ],
   "source": [
    "# Using tfidf vectorizer\n",
    "print(lgbm2_model(X_train_idf, y_train, X_test_idf, y_test))"
   ]
  },
  {
   "cell_type": "code",
   "execution_count": 134,
   "metadata": {},
   "outputs": [
    {
     "name": "stderr",
     "output_type": "stream",
     "text": [
      "C:\\Users\\lvshu\\AppData\\Local\\Packages\\PythonSoftwareFoundation.Python.3.10_qbz5n2kfra8p0\\LocalCache\\local-packages\\Python310\\site-packages\\sklearn\\model_selection\\_split.py:684: UserWarning: The least populated class in y has only 3 members, which is less than n_splits=5.\n",
      "  warnings.warn(\n"
     ]
    },
    {
     "name": "stdout",
     "output_type": "stream",
     "text": [
      "Best Hyperparameters: {'boosting_type': 'gbdt', 'class_weight': 'balanced', 'learning_rate': 0.2, 'max_depth': -1, 'min_child_samples': 50, 'n_estimators': 100, 'num_leaves': 30}\n",
      "Best accuracy score: 0.175\n",
      "              precision    recall  f1-score   support\n",
      "\n",
      "           0     0.0000    0.0000    0.0000         1\n",
      "           1     0.0000    0.0000    0.0000         2\n",
      "           2     0.0000    0.0000    0.0000         6\n",
      "           3     0.0000    0.0000    0.0000         6\n",
      "           4     0.0000    0.0000    0.0000         1\n",
      "           5     0.0000    0.0000    0.0000         3\n",
      "           6     0.3333    0.2500    0.2857         4\n",
      "           7     0.0000    0.0000    0.0000         1\n",
      "           9     0.0000    0.0000    0.0000         1\n",
      "          10     0.0000    0.0000    0.0000         2\n",
      "          11     0.0000    0.0000    0.0000         3\n",
      "          12     0.0000    0.0000    0.0000         2\n",
      "          13     0.0000    0.0000    0.0000         1\n",
      "          14     0.0000    0.0000    0.0000         0\n",
      "          15     0.1250    0.5000    0.2000         4\n",
      "          16     0.0000    0.0000    0.0000         1\n",
      "          17     0.0000    0.0000    0.0000         2\n",
      "          18     0.0000    0.0000    0.0000         0\n",
      "\n",
      "    accuracy                         0.0750        40\n",
      "   macro avg     0.0255    0.0417    0.0270        40\n",
      "weighted avg     0.0458    0.0750    0.0486        40\n",
      "\n",
      "[[0 0 0 0 0 0 0 0 0 0 0 0 0 0 1 0 0 0]\n",
      " [0 0 0 0 0 0 0 0 0 0 0 1 0 0 1 0 0 0]\n",
      " [0 0 0 0 0 0 1 0 0 0 1 0 0 1 3 0 0 0]\n",
      " [0 0 0 0 2 0 1 0 0 0 0 1 0 0 1 1 0 0]\n",
      " [0 0 0 0 0 0 0 0 0 0 0 0 0 0 1 0 0 0]\n",
      " [0 0 0 0 1 0 0 0 0 0 0 0 0 0 1 1 0 0]\n",
      " [0 0 0 0 0 0 1 0 1 0 0 0 0 0 2 0 0 0]\n",
      " [0 0 0 0 0 0 0 0 0 0 0 1 0 0 0 0 0 0]\n",
      " [0 0 0 0 1 0 0 0 0 0 0 0 0 0 0 0 0 0]\n",
      " [0 0 0 0 0 0 0 0 0 0 0 0 0 0 1 1 0 0]\n",
      " [0 0 0 0 0 0 0 0 0 0 0 1 0 0 2 0 0 0]\n",
      " [0 0 0 0 1 0 0 0 0 0 0 0 0 0 1 0 0 0]\n",
      " [0 0 0 0 0 0 0 0 0 0 1 0 0 0 0 0 0 0]\n",
      " [0 0 0 0 0 0 0 0 0 0 0 0 0 0 0 0 0 0]\n",
      " [0 0 0 0 0 0 0 0 0 0 0 0 0 0 2 1 1 0]\n",
      " [0 0 0 0 0 0 0 0 0 0 1 0 0 0 0 0 0 0]\n",
      " [0 0 0 0 0 0 0 0 0 0 0 0 0 0 0 0 0 2]\n",
      " [0 0 0 0 0 0 0 0 0 0 0 0 0 0 0 0 0 0]]\n",
      "None\n"
     ]
    },
    {
     "name": "stderr",
     "output_type": "stream",
     "text": [
      "C:\\Users\\lvshu\\AppData\\Local\\Packages\\PythonSoftwareFoundation.Python.3.10_qbz5n2kfra8p0\\LocalCache\\local-packages\\Python310\\site-packages\\sklearn\\metrics\\_classification.py:1334: UndefinedMetricWarning: Precision and F-score are ill-defined and being set to 0.0 in labels with no predicted samples. Use `zero_division` parameter to control this behavior.\n",
      "  _warn_prf(average, modifier, msg_start, len(result))\n",
      "C:\\Users\\lvshu\\AppData\\Local\\Packages\\PythonSoftwareFoundation.Python.3.10_qbz5n2kfra8p0\\LocalCache\\local-packages\\Python310\\site-packages\\sklearn\\metrics\\_classification.py:1334: UndefinedMetricWarning: Recall and F-score are ill-defined and being set to 0.0 in labels with no true samples. Use `zero_division` parameter to control this behavior.\n",
      "  _warn_prf(average, modifier, msg_start, len(result))\n",
      "C:\\Users\\lvshu\\AppData\\Local\\Packages\\PythonSoftwareFoundation.Python.3.10_qbz5n2kfra8p0\\LocalCache\\local-packages\\Python310\\site-packages\\sklearn\\metrics\\_classification.py:1334: UndefinedMetricWarning: Precision and F-score are ill-defined and being set to 0.0 in labels with no predicted samples. Use `zero_division` parameter to control this behavior.\n",
      "  _warn_prf(average, modifier, msg_start, len(result))\n",
      "C:\\Users\\lvshu\\AppData\\Local\\Packages\\PythonSoftwareFoundation.Python.3.10_qbz5n2kfra8p0\\LocalCache\\local-packages\\Python310\\site-packages\\sklearn\\metrics\\_classification.py:1334: UndefinedMetricWarning: Recall and F-score are ill-defined and being set to 0.0 in labels with no true samples. Use `zero_division` parameter to control this behavior.\n",
      "  _warn_prf(average, modifier, msg_start, len(result))\n",
      "C:\\Users\\lvshu\\AppData\\Local\\Packages\\PythonSoftwareFoundation.Python.3.10_qbz5n2kfra8p0\\LocalCache\\local-packages\\Python310\\site-packages\\sklearn\\metrics\\_classification.py:1334: UndefinedMetricWarning: Precision and F-score are ill-defined and being set to 0.0 in labels with no predicted samples. Use `zero_division` parameter to control this behavior.\n",
      "  _warn_prf(average, modifier, msg_start, len(result))\n",
      "C:\\Users\\lvshu\\AppData\\Local\\Packages\\PythonSoftwareFoundation.Python.3.10_qbz5n2kfra8p0\\LocalCache\\local-packages\\Python310\\site-packages\\sklearn\\metrics\\_classification.py:1334: UndefinedMetricWarning: Recall and F-score are ill-defined and being set to 0.0 in labels with no true samples. Use `zero_division` parameter to control this behavior.\n",
      "  _warn_prf(average, modifier, msg_start, len(result))\n"
     ]
    }
   ],
   "source": [
    "# Using fasttext\n",
    "print(lgbm2_model(X_train_fast, y_train, X_test_fast, y_test))"
   ]
  },
  {
   "attachments": {},
   "cell_type": "markdown",
   "metadata": {},
   "source": [
    "#### MultinomialNB"
   ]
  },
  {
   "cell_type": "code",
   "execution_count": 135,
   "metadata": {},
   "outputs": [
    {
     "name": "stdout",
     "output_type": "stream",
     "text": [
      "Best Hyperparameters: {'alpha': 0.5}\n",
      "Best accuracy score: 0.21875\n",
      "              precision    recall  f1-score   support\n",
      "\n",
      "           0     0.0000    0.0000    0.0000         1\n",
      "           1     0.0000    0.0000    0.0000         2\n",
      "           2     0.5000    0.1667    0.2500         6\n",
      "           3     0.3333    0.1667    0.2222         6\n",
      "           4     0.0000    0.0000    0.0000         1\n",
      "           5     0.0000    0.0000    0.0000         3\n",
      "           6     0.6667    0.5000    0.5714         4\n",
      "           7     0.0000    0.0000    0.0000         1\n",
      "           9     0.0000    0.0000    0.0000         1\n",
      "          10     0.0000    0.0000    0.0000         2\n",
      "          11     0.5000    0.3333    0.4000         3\n",
      "          12     0.3333    0.5000    0.4000         2\n",
      "          13     0.0000    0.0000    0.0000         1\n",
      "          15     0.1364    0.7500    0.2308         4\n",
      "          16     0.3333    1.0000    0.5000         1\n",
      "          17     0.0000    0.0000    0.0000         2\n",
      "\n",
      "    accuracy                         0.2500        40\n",
      "   macro avg     0.1752    0.2135    0.1609        40\n",
      "weighted avg     0.2678    0.2500    0.2136        40\n",
      "\n",
      "[[0 0 0 0 0 0 0 0 0 0 0 0 0 1 0 0]\n",
      " [0 0 0 0 0 0 0 0 0 0 0 0 0 2 0 0]\n",
      " [0 0 1 1 1 0 0 0 0 0 0 0 0 3 0 0]\n",
      " [0 0 0 1 0 0 0 0 0 0 0 1 0 4 0 0]\n",
      " [0 0 0 1 0 0 0 0 0 0 0 0 0 0 0 0]\n",
      " [0 0 0 0 0 0 0 0 0 0 0 0 0 3 0 0]\n",
      " [0 0 0 0 1 0 2 0 0 0 0 0 0 1 0 0]\n",
      " [0 0 0 0 0 0 0 0 0 0 0 0 0 0 1 0]\n",
      " [0 0 0 0 0 0 1 0 0 0 0 0 0 0 0 0]\n",
      " [0 0 0 0 0 0 0 0 0 0 0 0 0 2 0 0]\n",
      " [0 0 0 0 0 0 0 0 0 0 1 1 0 1 0 0]\n",
      " [0 0 0 0 0 0 0 0 0 0 1 1 0 0 0 0]\n",
      " [0 0 0 0 0 0 0 0 0 0 0 0 0 1 0 0]\n",
      " [0 0 0 0 0 0 0 0 0 0 0 0 0 3 1 0]\n",
      " [0 0 0 0 0 0 0 0 0 0 0 0 0 0 1 0]\n",
      " [0 0 1 0 0 0 0 0 0 0 0 0 0 1 0 0]]\n",
      "None\n"
     ]
    },
    {
     "name": "stderr",
     "output_type": "stream",
     "text": [
      "C:\\Users\\lvshu\\AppData\\Local\\Packages\\PythonSoftwareFoundation.Python.3.10_qbz5n2kfra8p0\\LocalCache\\local-packages\\Python310\\site-packages\\sklearn\\model_selection\\_split.py:684: UserWarning: The least populated class in y has only 3 members, which is less than n_splits=5.\n",
      "  warnings.warn(\n",
      "C:\\Users\\lvshu\\AppData\\Local\\Packages\\PythonSoftwareFoundation.Python.3.10_qbz5n2kfra8p0\\LocalCache\\local-packages\\Python310\\site-packages\\sklearn\\metrics\\_classification.py:1334: UndefinedMetricWarning: Precision and F-score are ill-defined and being set to 0.0 in labels with no predicted samples. Use `zero_division` parameter to control this behavior.\n",
      "  _warn_prf(average, modifier, msg_start, len(result))\n",
      "C:\\Users\\lvshu\\AppData\\Local\\Packages\\PythonSoftwareFoundation.Python.3.10_qbz5n2kfra8p0\\LocalCache\\local-packages\\Python310\\site-packages\\sklearn\\metrics\\_classification.py:1334: UndefinedMetricWarning: Precision and F-score are ill-defined and being set to 0.0 in labels with no predicted samples. Use `zero_division` parameter to control this behavior.\n",
      "  _warn_prf(average, modifier, msg_start, len(result))\n",
      "C:\\Users\\lvshu\\AppData\\Local\\Packages\\PythonSoftwareFoundation.Python.3.10_qbz5n2kfra8p0\\LocalCache\\local-packages\\Python310\\site-packages\\sklearn\\metrics\\_classification.py:1334: UndefinedMetricWarning: Precision and F-score are ill-defined and being set to 0.0 in labels with no predicted samples. Use `zero_division` parameter to control this behavior.\n",
      "  _warn_prf(average, modifier, msg_start, len(result))\n"
     ]
    }
   ],
   "source": [
    "# Using tfidf vectorizer\n",
    "print(mnb2_model(X_train_idf, y_train, X_test_idf, y_test))"
   ]
  },
  {
   "attachments": {},
   "cell_type": "markdown",
   "metadata": {},
   "source": [
    "#### MLPClassifier"
   ]
  },
  {
   "cell_type": "code",
   "execution_count": 136,
   "metadata": {},
   "outputs": [
    {
     "name": "stderr",
     "output_type": "stream",
     "text": [
      "C:\\Users\\lvshu\\AppData\\Local\\Packages\\PythonSoftwareFoundation.Python.3.10_qbz5n2kfra8p0\\LocalCache\\local-packages\\Python310\\site-packages\\sklearn\\model_selection\\_split.py:684: UserWarning: The least populated class in y has only 3 members, which is less than n_splits=5.\n",
      "  warnings.warn(\n"
     ]
    },
    {
     "name": "stderr",
     "output_type": "stream",
     "text": [
      "C:\\Users\\lvshu\\AppData\\Local\\Packages\\PythonSoftwareFoundation.Python.3.10_qbz5n2kfra8p0\\LocalCache\\local-packages\\Python310\\site-packages\\sklearn\\neural_network\\_multilayer_perceptron.py:702: ConvergenceWarning: Stochastic Optimizer: Maximum iterations (200) reached and the optimization hasn't converged yet.\n",
      "  warnings.warn(\n"
     ]
    },
    {
     "name": "stdout",
     "output_type": "stream",
     "text": [
      "Best Hyperparameters: {'activation': 'logistic', 'alpha': 0.0001, 'hidden_layer_sizes': (50, 50)}\n",
      "Best accuracy score: 0.18125\n",
      "              precision    recall  f1-score   support\n",
      "\n",
      "           0     0.0000    0.0000    0.0000         1\n",
      "           1     0.0000    0.0000    0.0000         2\n",
      "           2     0.0000    0.0000    0.0000         6\n",
      "           3     0.0000    0.0000    0.0000         6\n",
      "           4     0.0000    0.0000    0.0000         1\n",
      "           5     0.0000    0.0000    0.0000         3\n",
      "           6     0.4000    0.5000    0.4444         4\n",
      "           7     0.0000    0.0000    0.0000         1\n",
      "           9     0.0000    0.0000    0.0000         1\n",
      "          10     0.0000    0.0000    0.0000         2\n",
      "          11     0.0000    0.0000    0.0000         3\n",
      "          12     0.0000    0.0000    0.0000         2\n",
      "          13     0.0000    0.0000    0.0000         1\n",
      "          15     0.1143    1.0000    0.2051         4\n",
      "          16     0.0000    0.0000    0.0000         1\n",
      "          17     0.0000    0.0000    0.0000         2\n",
      "\n",
      "    accuracy                         0.1500        40\n",
      "   macro avg     0.0321    0.0938    0.0406        40\n",
      "weighted avg     0.0514    0.1500    0.0650        40\n",
      "\n",
      "[[0 0 0 0 0 0 0 0 0 0 0 0 0 1 0 0]\n",
      " [0 0 0 0 0 0 0 0 0 0 0 0 0 2 0 0]\n",
      " [0 0 0 0 0 0 0 0 0 0 0 0 0 6 0 0]\n",
      " [0 0 0 0 0 0 2 0 0 0 0 0 0 4 0 0]\n",
      " [0 0 0 0 0 0 0 0 0 0 0 0 0 1 0 0]\n",
      " [0 0 0 0 0 0 0 0 0 0 0 0 0 3 0 0]\n",
      " [0 0 0 0 0 0 2 0 0 0 0 0 0 2 0 0]\n",
      " [0 0 0 0 0 0 0 0 0 0 0 0 0 1 0 0]\n",
      " [0 0 0 0 0 0 1 0 0 0 0 0 0 0 0 0]\n",
      " [0 0 0 0 0 0 0 0 0 0 0 0 0 2 0 0]\n",
      " [0 0 0 0 0 0 0 0 0 0 0 0 0 3 0 0]\n",
      " [0 0 0 0 0 0 0 0 0 0 0 0 0 2 0 0]\n",
      " [0 0 0 0 0 0 0 0 0 0 0 0 0 1 0 0]\n",
      " [0 0 0 0 0 0 0 0 0 0 0 0 0 4 0 0]\n",
      " [0 0 0 0 0 0 0 0 0 0 0 0 0 1 0 0]\n",
      " [0 0 0 0 0 0 0 0 0 0 0 0 0 2 0 0]]\n",
      "None\n"
     ]
    },
    {
     "name": "stderr",
     "output_type": "stream",
     "text": [
      "C:\\Users\\lvshu\\AppData\\Local\\Packages\\PythonSoftwareFoundation.Python.3.10_qbz5n2kfra8p0\\LocalCache\\local-packages\\Python310\\site-packages\\sklearn\\neural_network\\_multilayer_perceptron.py:702: ConvergenceWarning: Stochastic Optimizer: Maximum iterations (200) reached and the optimization hasn't converged yet.\n",
      "  warnings.warn(\n",
      "C:\\Users\\lvshu\\AppData\\Local\\Packages\\PythonSoftwareFoundation.Python.3.10_qbz5n2kfra8p0\\LocalCache\\local-packages\\Python310\\site-packages\\sklearn\\metrics\\_classification.py:1334: UndefinedMetricWarning: Precision and F-score are ill-defined and being set to 0.0 in labels with no predicted samples. Use `zero_division` parameter to control this behavior.\n",
      "  _warn_prf(average, modifier, msg_start, len(result))\n",
      "C:\\Users\\lvshu\\AppData\\Local\\Packages\\PythonSoftwareFoundation.Python.3.10_qbz5n2kfra8p0\\LocalCache\\local-packages\\Python310\\site-packages\\sklearn\\metrics\\_classification.py:1334: UndefinedMetricWarning: Precision and F-score are ill-defined and being set to 0.0 in labels with no predicted samples. Use `zero_division` parameter to control this behavior.\n",
      "  _warn_prf(average, modifier, msg_start, len(result))\n",
      "C:\\Users\\lvshu\\AppData\\Local\\Packages\\PythonSoftwareFoundation.Python.3.10_qbz5n2kfra8p0\\LocalCache\\local-packages\\Python310\\site-packages\\sklearn\\metrics\\_classification.py:1334: UndefinedMetricWarning: Precision and F-score are ill-defined and being set to 0.0 in labels with no predicted samples. Use `zero_division` parameter to control this behavior.\n",
      "  _warn_prf(average, modifier, msg_start, len(result))\n"
     ]
    }
   ],
   "source": [
    "# Using hashing vectorizer\n",
    "print(mlp2_model(X_train_hash, y_train, X_test_hash, y_test))"
   ]
  },
  {
   "cell_type": "code",
   "execution_count": 137,
   "metadata": {},
   "outputs": [
    {
     "name": "stderr",
     "output_type": "stream",
     "text": [
      "C:\\Users\\lvshu\\AppData\\Local\\Packages\\PythonSoftwareFoundation.Python.3.10_qbz5n2kfra8p0\\LocalCache\\local-packages\\Python310\\site-packages\\sklearn\\model_selection\\_split.py:684: UserWarning: The least populated class in y has only 3 members, which is less than n_splits=5.\n",
      "  warnings.warn(\n"
     ]
    },
    {
     "name": "stderr",
     "output_type": "stream",
     "text": [
      "C:\\Users\\lvshu\\AppData\\Local\\Packages\\PythonSoftwareFoundation.Python.3.10_qbz5n2kfra8p0\\LocalCache\\local-packages\\Python310\\site-packages\\sklearn\\neural_network\\_multilayer_perceptron.py:702: ConvergenceWarning: Stochastic Optimizer: Maximum iterations (200) reached and the optimization hasn't converged yet.\n",
      "  warnings.warn(\n"
     ]
    },
    {
     "name": "stdout",
     "output_type": "stream",
     "text": [
      "Best Hyperparameters: {'activation': 'logistic', 'alpha': 0.01, 'hidden_layer_sizes': (100, 50)}\n",
      "Best accuracy score: 0.25\n",
      "              precision    recall  f1-score   support\n",
      "\n",
      "           0     0.0000    0.0000    0.0000         1\n",
      "           1     0.0000    0.0000    0.0000         2\n",
      "           2     0.0000    0.0000    0.0000         6\n",
      "           3     0.0000    0.0000    0.0000         6\n",
      "           4     0.0000    0.0000    0.0000         1\n",
      "           5     0.0000    0.0000    0.0000         3\n",
      "           6     0.3333    0.2500    0.2857         4\n",
      "           7     0.0000    0.0000    0.0000         1\n",
      "           9     0.0000    0.0000    0.0000         1\n",
      "          10     0.0000    0.0000    0.0000         2\n",
      "          11     0.0000    0.0000    0.0000         3\n",
      "          12     1.0000    0.5000    0.6667         2\n",
      "          13     0.0000    0.0000    0.0000         1\n",
      "          15     0.0800    0.5000    0.1379         4\n",
      "          16     0.5000    1.0000    0.6667         1\n",
      "          17     0.0000    0.0000    0.0000         2\n",
      "\n",
      "    accuracy                         0.1250        40\n",
      "   macro avg     0.1196    0.1406    0.1098        40\n",
      "weighted avg     0.1038    0.1250    0.0924        40\n",
      "\n",
      "[[0 0 0 0 0 0 0 0 0 0 0 0 0 1 0 0]\n",
      " [0 0 0 0 1 0 0 0 0 0 0 0 0 1 0 0]\n",
      " [0 0 0 0 0 0 1 0 0 0 0 0 0 5 0 0]\n",
      " [0 0 0 0 1 0 0 0 0 0 0 0 0 5 0 0]\n",
      " [0 0 0 0 0 0 0 0 0 0 0 0 0 1 0 0]\n",
      " [0 0 0 0 0 0 0 0 0 0 0 0 0 3 0 0]\n",
      " [0 0 0 0 1 0 1 0 0 0 0 0 0 2 0 0]\n",
      " [0 0 0 0 0 0 0 0 0 0 0 0 0 1 0 0]\n",
      " [0 0 0 0 0 0 0 0 0 0 0 0 0 1 0 0]\n",
      " [0 0 0 0 0 0 1 0 0 0 0 0 0 1 0 0]\n",
      " [0 0 0 0 3 0 0 0 0 0 0 0 0 0 0 0]\n",
      " [0 0 0 0 1 0 0 0 0 0 0 1 0 0 0 0]\n",
      " [0 0 0 0 0 0 0 0 0 0 0 0 0 1 0 0]\n",
      " [0 0 0 0 2 0 0 0 0 0 0 0 0 2 0 0]\n",
      " [0 0 0 0 0 0 0 0 0 0 0 0 0 0 1 0]\n",
      " [0 0 0 0 0 0 0 0 0 0 0 0 0 1 1 0]]\n",
      "None\n"
     ]
    },
    {
     "name": "stderr",
     "output_type": "stream",
     "text": [
      "C:\\Users\\lvshu\\AppData\\Local\\Packages\\PythonSoftwareFoundation.Python.3.10_qbz5n2kfra8p0\\LocalCache\\local-packages\\Python310\\site-packages\\sklearn\\neural_network\\_multilayer_perceptron.py:702: ConvergenceWarning: Stochastic Optimizer: Maximum iterations (200) reached and the optimization hasn't converged yet.\n",
      "  warnings.warn(\n",
      "C:\\Users\\lvshu\\AppData\\Local\\Packages\\PythonSoftwareFoundation.Python.3.10_qbz5n2kfra8p0\\LocalCache\\local-packages\\Python310\\site-packages\\sklearn\\metrics\\_classification.py:1334: UndefinedMetricWarning: Precision and F-score are ill-defined and being set to 0.0 in labels with no predicted samples. Use `zero_division` parameter to control this behavior.\n",
      "  _warn_prf(average, modifier, msg_start, len(result))\n",
      "C:\\Users\\lvshu\\AppData\\Local\\Packages\\PythonSoftwareFoundation.Python.3.10_qbz5n2kfra8p0\\LocalCache\\local-packages\\Python310\\site-packages\\sklearn\\metrics\\_classification.py:1334: UndefinedMetricWarning: Precision and F-score are ill-defined and being set to 0.0 in labels with no predicted samples. Use `zero_division` parameter to control this behavior.\n",
      "  _warn_prf(average, modifier, msg_start, len(result))\n",
      "C:\\Users\\lvshu\\AppData\\Local\\Packages\\PythonSoftwareFoundation.Python.3.10_qbz5n2kfra8p0\\LocalCache\\local-packages\\Python310\\site-packages\\sklearn\\metrics\\_classification.py:1334: UndefinedMetricWarning: Precision and F-score are ill-defined and being set to 0.0 in labels with no predicted samples. Use `zero_division` parameter to control this behavior.\n",
      "  _warn_prf(average, modifier, msg_start, len(result))\n"
     ]
    }
   ],
   "source": [
    "# Using tfidf vectorizer\n",
    "print(mlp2_model(X_train_idf, y_train, X_test_idf, y_test))"
   ]
  },
  {
   "cell_type": "code",
   "execution_count": 138,
   "metadata": {},
   "outputs": [
    {
     "name": "stderr",
     "output_type": "stream",
     "text": [
      "C:\\Users\\lvshu\\AppData\\Local\\Packages\\PythonSoftwareFoundation.Python.3.10_qbz5n2kfra8p0\\LocalCache\\local-packages\\Python310\\site-packages\\sklearn\\model_selection\\_split.py:684: UserWarning: The least populated class in y has only 3 members, which is less than n_splits=5.\n",
      "  warnings.warn(\n",
      "C:\\Users\\lvshu\\AppData\\Local\\Packages\\PythonSoftwareFoundation.Python.3.10_qbz5n2kfra8p0\\LocalCache\\local-packages\\Python310\\site-packages\\sklearn\\neural_network\\_multilayer_perceptron.py:702: ConvergenceWarning: Stochastic Optimizer: Maximum iterations (200) reached and the optimization hasn't converged yet.\n",
      "  warnings.warn(\n"
     ]
    },
    {
     "name": "stdout",
     "output_type": "stream",
     "text": [
      "Best Hyperparameters: {'activation': 'relu', 'alpha': 0.001, 'hidden_layer_sizes': (50, 50)}\n",
      "Best accuracy score: 0.19375\n",
      "              precision    recall  f1-score   support\n",
      "\n",
      "           0     0.0000    0.0000    0.0000         1\n",
      "           1     0.0000    0.0000    0.0000         2\n",
      "           2     0.0000    0.0000    0.0000         6\n",
      "           3     0.0000    0.0000    0.0000         6\n",
      "           4     0.0000    0.0000    0.0000         1\n",
      "           5     0.0000    0.0000    0.0000         3\n",
      "           6     0.1667    0.2500    0.2000         4\n",
      "           7     0.0000    0.0000    0.0000         1\n",
      "           9     0.0000    0.0000    0.0000         1\n",
      "          10     0.0000    0.0000    0.0000         2\n",
      "          11     0.0000    0.0000    0.0000         3\n",
      "          12     0.0000    0.0000    0.0000         2\n",
      "          13     0.0000    0.0000    0.0000         1\n",
      "          15     0.1429    0.7500    0.2400         4\n",
      "          16     0.0000    0.0000    0.0000         1\n",
      "          17     0.0000    0.0000    0.0000         2\n",
      "\n",
      "    accuracy                         0.1000        40\n",
      "   macro avg     0.0193    0.0625    0.0275        40\n",
      "weighted avg     0.0310    0.1000    0.0440        40\n",
      "\n",
      "[[0 0 0 0 0 0 0 0 0 0 0 0 0 1 0 0]\n",
      " [0 0 0 0 0 0 0 0 0 0 1 0 0 1 0 0]\n",
      " [0 0 0 0 0 0 1 0 0 0 0 1 0 4 0 0]\n",
      " [0 0 0 0 1 0 1 0 0 0 0 1 0 2 1 0]\n",
      " [0 0 0 0 0 0 0 0 0 0 0 0 0 1 0 0]\n",
      " [0 0 0 0 0 0 2 0 0 0 0 1 0 0 0 0]\n",
      " [0 0 0 0 0 0 1 0 0 0 0 0 0 3 0 0]\n",
      " [0 0 0 0 0 0 0 0 0 0 0 0 0 1 0 0]\n",
      " [0 0 0 0 1 0 0 0 0 0 0 0 0 0 0 0]\n",
      " [0 0 0 0 0 0 0 0 0 0 0 0 0 2 0 0]\n",
      " [0 0 0 0 0 0 0 0 0 0 0 1 0 2 0 0]\n",
      " [0 0 0 0 1 0 0 0 0 0 1 0 0 0 0 0]\n",
      " [0 0 0 0 0 0 0 0 0 0 0 1 0 0 0 0]\n",
      " [0 0 0 0 0 0 0 0 0 0 1 0 0 3 0 0]\n",
      " [0 0 0 0 0 0 0 0 0 0 0 0 0 1 0 0]\n",
      " [0 0 1 0 0 0 1 0 0 0 0 0 0 0 0 0]]\n",
      "None\n"
     ]
    },
    {
     "name": "stderr",
     "output_type": "stream",
     "text": [
      "C:\\Users\\lvshu\\AppData\\Local\\Packages\\PythonSoftwareFoundation.Python.3.10_qbz5n2kfra8p0\\LocalCache\\local-packages\\Python310\\site-packages\\sklearn\\neural_network\\_multilayer_perceptron.py:702: ConvergenceWarning: Stochastic Optimizer: Maximum iterations (200) reached and the optimization hasn't converged yet.\n",
      "  warnings.warn(\n",
      "C:\\Users\\lvshu\\AppData\\Local\\Packages\\PythonSoftwareFoundation.Python.3.10_qbz5n2kfra8p0\\LocalCache\\local-packages\\Python310\\site-packages\\sklearn\\metrics\\_classification.py:1334: UndefinedMetricWarning: Precision and F-score are ill-defined and being set to 0.0 in labels with no predicted samples. Use `zero_division` parameter to control this behavior.\n",
      "  _warn_prf(average, modifier, msg_start, len(result))\n",
      "C:\\Users\\lvshu\\AppData\\Local\\Packages\\PythonSoftwareFoundation.Python.3.10_qbz5n2kfra8p0\\LocalCache\\local-packages\\Python310\\site-packages\\sklearn\\metrics\\_classification.py:1334: UndefinedMetricWarning: Precision and F-score are ill-defined and being set to 0.0 in labels with no predicted samples. Use `zero_division` parameter to control this behavior.\n",
      "  _warn_prf(average, modifier, msg_start, len(result))\n",
      "C:\\Users\\lvshu\\AppData\\Local\\Packages\\PythonSoftwareFoundation.Python.3.10_qbz5n2kfra8p0\\LocalCache\\local-packages\\Python310\\site-packages\\sklearn\\metrics\\_classification.py:1334: UndefinedMetricWarning: Precision and F-score are ill-defined and being set to 0.0 in labels with no predicted samples. Use `zero_division` parameter to control this behavior.\n",
      "  _warn_prf(average, modifier, msg_start, len(result))\n"
     ]
    }
   ],
   "source": [
    "# Using fasttext\n",
    "print(mlp2_model(X_train_fast, y_train, X_test_fast, y_test))"
   ]
  }
 ],
 "metadata": {
  "kernelspec": {
   "display_name": "Python 3",
   "language": "python",
   "name": "python3"
  },
  "language_info": {
   "codemirror_mode": {
    "name": "ipython",
    "version": 3
   },
   "file_extension": ".py",
   "mimetype": "text/x-python",
   "name": "python",
   "nbconvert_exporter": "python",
   "pygments_lexer": "ipython3",
   "version": "3.10.11"
  },
  "orig_nbformat": 4
 },
 "nbformat": 4,
 "nbformat_minor": 2
}
